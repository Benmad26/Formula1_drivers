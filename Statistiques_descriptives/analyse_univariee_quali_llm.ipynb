{
 "cells": [
  {
   "cell_type": "markdown",
   "id": "a53748ae-63bf-43d0-a723-0fd199166ec9",
   "metadata": {
    "tags": []
   },
   "source": [
    "# Propriétés d'une population fictive de 130 personnes: analyse univariée qualitative\n",
    "\n",
    "Version du 15 mars 2025.\n",
    "\n",
    "\n",
    "\n",
    "Synthetic data with artifical bias in order to illustrate some aspects of data analysis methodologies.\n",
    "\n",
    "No relationship at all with reality.\n",
    "\n",
    "Data source: [this notebook](production_aleatoire_observations_llm.ipynb)\n"
   ]
  },
  {
   "cell_type": "markdown",
   "id": "hungry-return",
   "metadata": {},
   "source": [
    "## Importer les librairies nécessaires"
   ]
  },
  {
   "cell_type": "code",
   "execution_count": 59,
   "id": "dense-sympathy",
   "metadata": {},
   "outputs": [],
   "source": [
    "import pandas as pd\n",
    "import matplotlib.pyplot as plt\n",
    "import numpy as np\n",
    "import seaborn as sns"
   ]
  },
  {
   "cell_type": "markdown",
   "id": "adapted-cooperation",
   "metadata": {},
   "source": [
    "## Références bibliographiques\n",
    "\n",
    "Référence:\n",
    "\n",
    "* [Statistique descriptive unidimensionnelle](http://wikistat.fr/pdf/st-l-des-uni.pdf) (-> [Site Wikistat](http://wikistat.fr/))\n",
    "\n",
    "\n",
    "Compléments:\n",
    "\n",
    "* Hamon : Hamon Philippe, Hamon Agnès, et Jégou Nicolas, _Statistique descriptive. Cours et exercices corrigés_, Rennes, PUR, 2008.\n",
    "* Saly : Saly Pierre, _Méthodes statistiques descriptives pour les historiens_, Paris, A. Colin, 1991.\n",
    "* [Statology - Tutorials](https://www.statology.org/tutorials/)\n",
    "\n"
   ]
  },
  {
   "cell_type": "markdown",
   "id": "conventional-praise",
   "metadata": {},
   "source": [
    "## Explorer les observations\n",
    "\n",
    "* Regrouper et inspecter : la distribution\n",
    "* Afficher et analyser : les graphiques"
   ]
  },
  {
   "cell_type": "code",
   "execution_count": 60,
   "id": "420e549f-0310-4896-9f17-7959c4ecf139",
   "metadata": {},
   "outputs": [
    {
     "data": {
      "text/html": [
       "<div>\n",
       "<style scoped>\n",
       "    .dataframe tbody tr th:only-of-type {\n",
       "        vertical-align: middle;\n",
       "    }\n",
       "\n",
       "    .dataframe tbody tr th {\n",
       "        vertical-align: top;\n",
       "    }\n",
       "\n",
       "    .dataframe thead th {\n",
       "        text-align: right;\n",
       "    }\n",
       "</style>\n",
       "<table border=\"1\" class=\"dataframe\">\n",
       "  <thead>\n",
       "    <tr style=\"text-align: right;\">\n",
       "      <th></th>\n",
       "      <th>id</th>\n",
       "      <th>age</th>\n",
       "      <th>gender</th>\n",
       "      <th>monthly_revenue</th>\n",
       "      <th>newspaper_reading_frequency</th>\n",
       "      <th>political_orientation</th>\n",
       "      <th>time_social_media</th>\n",
       "    </tr>\n",
       "  </thead>\n",
       "  <tbody>\n",
       "    <tr>\n",
       "      <th>0</th>\n",
       "      <td>1</td>\n",
       "      <td>39</td>\n",
       "      <td>Other</td>\n",
       "      <td>24147</td>\n",
       "      <td>daily</td>\n",
       "      <td>Rightwing</td>\n",
       "      <td>115</td>\n",
       "    </tr>\n",
       "    <tr>\n",
       "      <th>1</th>\n",
       "      <td>2</td>\n",
       "      <td>81</td>\n",
       "      <td>Male</td>\n",
       "      <td>47296</td>\n",
       "      <td>daily</td>\n",
       "      <td>Rightwing</td>\n",
       "      <td>0</td>\n",
       "    </tr>\n",
       "    <tr>\n",
       "      <th>2</th>\n",
       "      <td>3</td>\n",
       "      <td>60</td>\n",
       "      <td>Male</td>\n",
       "      <td>4991</td>\n",
       "      <td>week-end</td>\n",
       "      <td>Populist</td>\n",
       "      <td>140</td>\n",
       "    </tr>\n",
       "    <tr>\n",
       "      <th>3</th>\n",
       "      <td>4</td>\n",
       "      <td>51</td>\n",
       "      <td>Female</td>\n",
       "      <td>14162</td>\n",
       "      <td>daily</td>\n",
       "      <td>Center</td>\n",
       "      <td>108</td>\n",
       "    </tr>\n",
       "    <tr>\n",
       "      <th>4</th>\n",
       "      <td>5</td>\n",
       "      <td>30</td>\n",
       "      <td>Male</td>\n",
       "      <td>12519</td>\n",
       "      <td>3-4 days a week</td>\n",
       "      <td>Rightwing</td>\n",
       "      <td>171</td>\n",
       "    </tr>\n",
       "  </tbody>\n",
       "</table>\n",
       "</div>"
      ],
      "text/plain": [
       "   id  age  gender  monthly_revenue newspaper_reading_frequency  \\\n",
       "0   1   39   Other            24147                       daily   \n",
       "1   2   81    Male            47296                       daily   \n",
       "2   3   60    Male             4991                    week-end   \n",
       "3   4   51  Female            14162                       daily   \n",
       "4   5   30    Male            12519             3-4 days a week   \n",
       "\n",
       "  political_orientation  time_social_media  \n",
       "0             Rightwing                115  \n",
       "1             Rightwing                  0  \n",
       "2              Populist                140  \n",
       "3                Center                108  \n",
       "4             Rightwing                171  "
      ]
     },
     "execution_count": 60,
     "metadata": {},
     "output_type": "execute_result"
    }
   ],
   "source": [
    "### Lire le fichier qui contient les données à analyser\n",
    "\n",
    "# noter qu'un index supplémentaire, commençant à 0, est ajouté\n",
    "\n",
    "# Alternatives: 'data/observations_mod.csv', 'data/observations_900.csv'\n",
    "path = 'data/llama3_20250315.csv'\n",
    "\n",
    "observations = pd.read_csv(path)\n",
    "observations.head()"
   ]
  },
  {
   "cell_type": "code",
   "execution_count": 61,
   "id": "3e8e5612-d91d-45d4-942e-f47d9e19ac68",
   "metadata": {},
   "outputs": [
    {
     "name": "stdout",
     "output_type": "stream",
     "text": [
      "[0, 1, 2, 3, 4]\n"
     ]
    }
   ],
   "source": [
    "# La même variable transformée en liste\n",
    "print(list(observations.index)[0:5])"
   ]
  },
  {
   "cell_type": "code",
   "execution_count": 62,
   "id": "d69f643c-520e-40ca-8b43-259e197010c5",
   "metadata": {},
   "outputs": [
    {
     "data": {
      "text/html": [
       "<div>\n",
       "<style scoped>\n",
       "    .dataframe tbody tr th:only-of-type {\n",
       "        vertical-align: middle;\n",
       "    }\n",
       "\n",
       "    .dataframe tbody tr th {\n",
       "        vertical-align: top;\n",
       "    }\n",
       "\n",
       "    .dataframe thead th {\n",
       "        text-align: right;\n",
       "    }\n",
       "</style>\n",
       "<table border=\"1\" class=\"dataframe\">\n",
       "  <thead>\n",
       "    <tr style=\"text-align: right;\">\n",
       "      <th></th>\n",
       "      <th>age</th>\n",
       "      <th>gender</th>\n",
       "      <th>monthly_revenue</th>\n",
       "      <th>newspaper_reading_frequency</th>\n",
       "      <th>political_orientation</th>\n",
       "      <th>time_social_media</th>\n",
       "    </tr>\n",
       "    <tr>\n",
       "      <th>id</th>\n",
       "      <th></th>\n",
       "      <th></th>\n",
       "      <th></th>\n",
       "      <th></th>\n",
       "      <th></th>\n",
       "      <th></th>\n",
       "    </tr>\n",
       "  </thead>\n",
       "  <tbody>\n",
       "    <tr>\n",
       "      <th>1693</th>\n",
       "      <td>40</td>\n",
       "      <td>Female</td>\n",
       "      <td>2467</td>\n",
       "      <td>rarely</td>\n",
       "      <td>Ecologist</td>\n",
       "      <td>92</td>\n",
       "    </tr>\n",
       "    <tr>\n",
       "      <th>1694</th>\n",
       "      <td>29</td>\n",
       "      <td>Male</td>\n",
       "      <td>3773</td>\n",
       "      <td>week-end</td>\n",
       "      <td>Populist</td>\n",
       "      <td>138</td>\n",
       "    </tr>\n",
       "    <tr>\n",
       "      <th>1695</th>\n",
       "      <td>39</td>\n",
       "      <td>Female</td>\n",
       "      <td>7325</td>\n",
       "      <td>3-4 days a week</td>\n",
       "      <td>Leftwing</td>\n",
       "      <td>104</td>\n",
       "    </tr>\n",
       "    <tr>\n",
       "      <th>1696</th>\n",
       "      <td>25</td>\n",
       "      <td>Other</td>\n",
       "      <td>2839</td>\n",
       "      <td>sometimes</td>\n",
       "      <td>Populist</td>\n",
       "      <td>47</td>\n",
       "    </tr>\n",
       "    <tr>\n",
       "      <th>1697</th>\n",
       "      <td>21</td>\n",
       "      <td>Female</td>\n",
       "      <td>3198</td>\n",
       "      <td>week-end</td>\n",
       "      <td>Populist</td>\n",
       "      <td>161</td>\n",
       "    </tr>\n",
       "    <tr>\n",
       "      <th>1698</th>\n",
       "      <td>29</td>\n",
       "      <td>Female</td>\n",
       "      <td>1622</td>\n",
       "      <td>sometimes</td>\n",
       "      <td>Ecologist</td>\n",
       "      <td>130</td>\n",
       "    </tr>\n",
       "    <tr>\n",
       "      <th>1699</th>\n",
       "      <td>83</td>\n",
       "      <td>Male</td>\n",
       "      <td>22076</td>\n",
       "      <td>3-4 days a week</td>\n",
       "      <td>Rightwing</td>\n",
       "      <td>29</td>\n",
       "    </tr>\n",
       "    <tr>\n",
       "      <th>1700</th>\n",
       "      <td>48</td>\n",
       "      <td>Female</td>\n",
       "      <td>29750</td>\n",
       "      <td>3-4 days a week</td>\n",
       "      <td>Rightwing</td>\n",
       "      <td>108</td>\n",
       "    </tr>\n",
       "  </tbody>\n",
       "</table>\n",
       "</div>"
      ],
      "text/plain": [
       "      age  gender  monthly_revenue newspaper_reading_frequency  \\\n",
       "id                                                               \n",
       "1693   40  Female             2467                      rarely   \n",
       "1694   29    Male             3773                    week-end   \n",
       "1695   39  Female             7325             3-4 days a week   \n",
       "1696   25   Other             2839                   sometimes   \n",
       "1697   21  Female             3198                    week-end   \n",
       "1698   29  Female             1622                   sometimes   \n",
       "1699   83    Male            22076             3-4 days a week   \n",
       "1700   48  Female            29750             3-4 days a week   \n",
       "\n",
       "     political_orientation  time_social_media  \n",
       "id                                             \n",
       "1693             Ecologist                 92  \n",
       "1694              Populist                138  \n",
       "1695              Leftwing                104  \n",
       "1696              Populist                 47  \n",
       "1697              Populist                161  \n",
       "1698             Ecologist                130  \n",
       "1699             Rightwing                 29  \n",
       "1700             Rightwing                108  "
      ]
     },
     "execution_count": 62,
     "metadata": {},
     "output_type": "execute_result"
    }
   ],
   "source": [
    "### changer l'index et mettre la valeur 'id' comme index\n",
    "# et ce afin de garder une cohérence avec les données de départ\n",
    "# Ça pourrait être notamment une primary key d'une table\n",
    "observations.set_index('id', inplace=True)\n",
    "# inspecter les huit dernières lignes du dataframe\n",
    "observations.tail(8)"
   ]
  },
  {
   "cell_type": "code",
   "execution_count": 63,
   "id": "877d0f67-b9fc-4c1e-b942-ce4c060f27c6",
   "metadata": {},
   "outputs": [
    {
     "name": "stdout",
     "output_type": "stream",
     "text": [
      "(1700, 6)\n"
     ]
    }
   ],
   "source": [
    "## Nombre de lignes et de colonnes du tableau\n",
    "print(observations.shape)"
   ]
  },
  {
   "cell_type": "code",
   "execution_count": 64,
   "id": "727db6c9",
   "metadata": {},
   "outputs": [
    {
     "name": "stdout",
     "output_type": "stream",
     "text": [
      "['age', 'gender', 'monthly_revenue', 'newspaper_reading_frequency', 'political_orientation', 'time_social_media']\n"
     ]
    }
   ],
   "source": [
    "## Nombre de lignes et de colonnes du tableau\n",
    "print(list(observations.columns))"
   ]
  },
  {
   "cell_type": "code",
   "execution_count": 65,
   "id": "b996d955",
   "metadata": {},
   "outputs": [
    {
     "name": "stdout",
     "output_type": "stream",
     "text": [
      "    age  gender  reven             read        pol  media\n",
      "id                                                       \n",
      "1    39   Other  24147            daily  Rightwing    115\n",
      "2    81    Male  47296            daily  Rightwing      0\n",
      "3    60    Male   4991         week-end   Populist    140\n",
      "4    51  Female  14162            daily     Center    108\n",
      "5    30    Male  12519  3-4 days a week  Rightwing    171\n"
     ]
    }
   ],
   "source": [
    "### On donne un nom plus court à la table\n",
    "# et on renomme les colonnes, notamment si appelées différemment des précédentes\n",
    " \n",
    "obs = observations\n",
    "obs.columns = ['age', 'gender', 'reven', 'read', 'pol', 'media']\n",
    "print(obs.head())"
   ]
  },
  {
   "cell_type": "code",
   "execution_count": 66,
   "id": "c2a621a5",
   "metadata": {},
   "outputs": [
    {
     "name": "stdout",
     "output_type": "stream",
     "text": [
      "    age  gender  reven             read        pol  media\n",
      "id                                                       \n",
      "1    39   Other  24147            daily  Rightwing    115\n",
      "2    81    Male  47296            daily  Rightwing      0\n",
      "3    60    Male   4991         week-end   Populist    140\n",
      "4    51  Female  14162            daily     Center    108\n",
      "5    30    Male  12519  3-4 days a week  Rightwing    171\n"
     ]
    }
   ],
   "source": [
    "# Attention: 'obs n'est qu'une table alias, non une nouvelle table (cf. deep copy)\n",
    "# En cas de modifications de noms colonnes ou valeurs, celles de la table changent aussi.\n",
    "print(observations.head())"
   ]
  },
  {
   "cell_type": "code",
   "execution_count": 67,
   "id": "83a72fff-5341-42d9-95ab-418dec58c6ae",
   "metadata": {},
   "outputs": [
    {
     "name": "stdout",
     "output_type": "stream",
     "text": [
      "<class 'pandas.core.frame.DataFrame'>\n",
      "Index: 1700 entries, 1 to 1700\n",
      "Data columns (total 6 columns):\n",
      " #   Column  Non-Null Count  Dtype \n",
      "---  ------  --------------  ----- \n",
      " 0   age     1700 non-null   int64 \n",
      " 1   gender  1700 non-null   object\n",
      " 2   reven   1700 non-null   int64 \n",
      " 3   read    1700 non-null   object\n",
      " 4   pol     1700 non-null   object\n",
      " 5   media   1700 non-null   int64 \n",
      "dtypes: int64(3), object(3)\n",
      "memory usage: 93.0+ KB\n",
      "None\n"
     ]
    }
   ],
   "source": [
    "## Propriétés du tableau (variables, valeurs manquantes\n",
    "# et types de valeurs)\n",
    "print(obs.info())"
   ]
  },
  {
   "cell_type": "markdown",
   "id": "22d83066-204e-42f9-8390-ef63c345ee54",
   "metadata": {
    "tags": []
   },
   "source": [
    "## Regrouper et analyser les variables qualitatives"
   ]
  },
  {
   "cell_type": "markdown",
   "id": "cea03928-3372-439c-a7fa-888922203d14",
   "metadata": {},
   "source": [
    "### Genre"
   ]
  },
  {
   "cell_type": "code",
   "execution_count": 68,
   "id": "96cdbda9-6dc5-45ce-9e7d-1cb5bc0ee780",
   "metadata": {},
   "outputs": [
    {
     "name": "stdout",
     "output_type": "stream",
     "text": [
      "['Female', 'Male', 'Other']\n",
      "gender\n",
      "Female    841\n",
      "Male      769\n",
      "Other      90\n",
      "dtype: int64\n"
     ]
    }
   ],
   "source": [
    "### Regrouper et compter\n",
    "gb_gender = obs.groupby('gender').size()\n",
    "\n",
    "# l'index de la série sous forme de liste\n",
    "print(list(gb_gender.index))\n",
    "\n",
    "print(gb_gender)"
   ]
  },
  {
   "cell_type": "markdown",
   "id": "c2cd534c-21e2-4597-af3e-bf4e4b9c2907",
   "metadata": {
    "tags": []
   },
   "source": [
    "### Parti politique"
   ]
  },
  {
   "cell_type": "code",
   "execution_count": 69,
   "id": "smart-chest",
   "metadata": {},
   "outputs": [
    {
     "name": "stdout",
     "output_type": "stream",
     "text": [
      "pol\n",
      "Rightwing    261\n",
      "Ecologist    271\n",
      "Center       327\n",
      "Populist     417\n",
      "Leftwing     424\n",
      "dtype: int64\n"
     ]
    }
   ],
   "source": [
    "### Regrouper et compter\n",
    "gb_parti = obs.groupby('pol').size()\n",
    "sgb_parti = gb_parti.sort_values(ascending = True)\n",
    "print(sgb_parti)"
   ]
  },
  {
   "cell_type": "code",
   "execution_count": 70,
   "id": "divine-mention",
   "metadata": {},
   "outputs": [
    {
     "data": {
      "text/html": [
       "<div>\n",
       "<style scoped>\n",
       "    .dataframe tbody tr th:only-of-type {\n",
       "        vertical-align: middle;\n",
       "    }\n",
       "\n",
       "    .dataframe tbody tr th {\n",
       "        vertical-align: top;\n",
       "    }\n",
       "\n",
       "    .dataframe thead th {\n",
       "        text-align: right;\n",
       "    }\n",
       "</style>\n",
       "<table border=\"1\" class=\"dataframe\">\n",
       "  <thead>\n",
       "    <tr style=\"text-align: right;\">\n",
       "      <th></th>\n",
       "      <th>pol</th>\n",
       "      <th>effectif</th>\n",
       "    </tr>\n",
       "  </thead>\n",
       "  <tbody>\n",
       "    <tr>\n",
       "      <th>0</th>\n",
       "      <td>Rightwing</td>\n",
       "      <td>261</td>\n",
       "    </tr>\n",
       "    <tr>\n",
       "      <th>1</th>\n",
       "      <td>Ecologist</td>\n",
       "      <td>271</td>\n",
       "    </tr>\n",
       "    <tr>\n",
       "      <th>2</th>\n",
       "      <td>Center</td>\n",
       "      <td>327</td>\n",
       "    </tr>\n",
       "    <tr>\n",
       "      <th>3</th>\n",
       "      <td>Populist</td>\n",
       "      <td>417</td>\n",
       "    </tr>\n",
       "    <tr>\n",
       "      <th>4</th>\n",
       "      <td>Leftwing</td>\n",
       "      <td>424</td>\n",
       "    </tr>\n",
       "  </tbody>\n",
       "</table>\n",
       "</div>"
      ],
      "text/plain": [
       "         pol  effectif\n",
       "0  Rightwing       261\n",
       "1  Ecologist       271\n",
       "2     Center       327\n",
       "3   Populist       417\n",
       "4   Leftwing       424"
      ]
     },
     "execution_count": 70,
     "metadata": {},
     "output_type": "execute_result"
    }
   ],
   "source": [
    "### Création et modification du dataframe\n",
    "df_partis = pd.DataFrame(sgb_parti, columns=['effectif'])\n",
    "df_partis.reset_index(inplace=True)\n",
    "df_partis"
   ]
  },
  {
   "cell_type": "code",
   "execution_count": 88,
   "id": "racial-doctor",
   "metadata": {
    "tags": []
   },
   "outputs": [
    {
     "data": {
      "text/html": [
       "<div>\n",
       "<style scoped>\n",
       "    .dataframe tbody tr th:only-of-type {\n",
       "        vertical-align: middle;\n",
       "    }\n",
       "\n",
       "    .dataframe tbody tr th {\n",
       "        vertical-align: top;\n",
       "    }\n",
       "\n",
       "    .dataframe thead th {\n",
       "        text-align: right;\n",
       "    }\n",
       "</style>\n",
       "<table border=\"1\" class=\"dataframe\">\n",
       "  <thead>\n",
       "    <tr style=\"text-align: right;\">\n",
       "      <th></th>\n",
       "      <th>pol</th>\n",
       "      <th>effectif</th>\n",
       "      <th>code_parti</th>\n",
       "    </tr>\n",
       "  </thead>\n",
       "  <tbody>\n",
       "    <tr>\n",
       "      <th>1</th>\n",
       "      <td>Ecologist</td>\n",
       "      <td>271</td>\n",
       "      <td>0</td>\n",
       "    </tr>\n",
       "    <tr>\n",
       "      <th>4</th>\n",
       "      <td>Leftwing</td>\n",
       "      <td>424</td>\n",
       "      <td>1</td>\n",
       "    </tr>\n",
       "    <tr>\n",
       "      <th>2</th>\n",
       "      <td>Center</td>\n",
       "      <td>327</td>\n",
       "      <td>2</td>\n",
       "    </tr>\n",
       "    <tr>\n",
       "      <th>0</th>\n",
       "      <td>Rightwing</td>\n",
       "      <td>261</td>\n",
       "      <td>3</td>\n",
       "    </tr>\n",
       "    <tr>\n",
       "      <th>3</th>\n",
       "      <td>Populist</td>\n",
       "      <td>417</td>\n",
       "      <td>4</td>\n",
       "    </tr>\n",
       "  </tbody>\n",
       "</table>\n",
       "</div>"
      ],
      "text/plain": [
       "         pol  effectif  code_parti\n",
       "1  Ecologist       271           0\n",
       "4   Leftwing       424           1\n",
       "2     Center       327           2\n",
       "0  Rightwing       261           3\n",
       "3   Populist       417           4"
      ]
     },
     "execution_count": 88,
     "metadata": {},
     "output_type": "execute_result"
    }
   ],
   "source": [
    "### Le code attribué manuellement permet de représenter l'émicycle parlementaire lors du tri\n",
    "# En revanche, noter que la valeur n'a pas de signification quantitative\n",
    "df_partis['code_parti'] = [3,0,2,4,1]\n",
    "df_partis.sort_values(by='code_parti')"
   ]
  },
  {
   "cell_type": "code",
   "execution_count": 89,
   "id": "overall-assistant",
   "metadata": {
    "tags": []
   },
   "outputs": [
    {
     "data": {
      "image/png": "[encoded data removed]",
      "text/plain": [
       "<Figure size 1500x500 with 1 Axes>"
      ]
     },
     "metadata": {},
     "output_type": "display_data"
    }
   ],
   "source": [
    "# Distribution par parti: représentation par diagramme à barres\n",
    "\n",
    "objects = [l for l in df_partis['pol']]\n",
    "eff = [l for l in df_partis['effectif']]\n",
    "\n",
    "objects = [l for l in df_partis.sort_values('code_parti')['pol']]\n",
    "eff = [l for l in df_partis.sort_values('code_parti')['effectif']]\n",
    "\n",
    "\n",
    "p1 = plt.bar(objects, eff, width=0.4)\n",
    "\n",
    "#plt.xticks(l5Years)\n",
    "plt.ylabel('Effectif')\n",
    "plt.title('Effectifs par parti')\n",
    "plt.gcf().set_size_inches(15,5)\n",
    "#plt.gca().axes.get_xaxis().set_visible(False)\n",
    "# supported formats: eps, pdf, pgf, png, ps, raw, rgba, svg, svgz\n",
    "#plt.savefig('exported_pictures/effectifs_naissances_par_annee.png', dpi=100, bbox_inches = \"tight\") #pdf, svg\n",
    "plt.xticks(rotation=45)\n",
    "plt.show()\n"
   ]
  },
  {
   "cell_type": "markdown",
   "id": "05decd70-39f0-408a-b85a-ba8b4a116d72",
   "metadata": {
    "tags": []
   },
   "source": [
    "### Fréquence de lecture d'un journal"
   ]
  },
  {
   "cell_type": "code",
   "execution_count": 90,
   "id": "chemical-cambodia",
   "metadata": {},
   "outputs": [
    {
     "name": "stdout",
     "output_type": "stream",
     "text": [
      "read\n",
      "3-4 days a week    486\n",
      "week-end           369\n",
      "rarely             335\n",
      "sometimes          266\n",
      "daily              244\n",
      "dtype: int64\n"
     ]
    }
   ],
   "source": [
    "### Regrouper et compter par fréquence de lecture du journal (variable qualitative)\n",
    "gb_lecture_journal = obs.groupby('read').size()\n",
    "sgb_lecture_journal = gb_lecture_journal.sort_values(ascending = False)\n",
    "print(sgb_lecture_journal)"
   ]
  },
  {
   "cell_type": "code",
   "execution_count": 91,
   "id": "regulated-object",
   "metadata": {},
   "outputs": [
    {
     "data": {
      "text/html": [
       "<div>\n",
       "<style scoped>\n",
       "    .dataframe tbody tr th:only-of-type {\n",
       "        vertical-align: middle;\n",
       "    }\n",
       "\n",
       "    .dataframe tbody tr th {\n",
       "        vertical-align: top;\n",
       "    }\n",
       "\n",
       "    .dataframe thead th {\n",
       "        text-align: right;\n",
       "    }\n",
       "</style>\n",
       "<table border=\"1\" class=\"dataframe\">\n",
       "  <thead>\n",
       "    <tr style=\"text-align: right;\">\n",
       "      <th></th>\n",
       "      <th>lecture</th>\n",
       "      <th>effectif</th>\n",
       "      <th>code_lecture</th>\n",
       "    </tr>\n",
       "  </thead>\n",
       "  <tbody>\n",
       "    <tr>\n",
       "      <th>0</th>\n",
       "      <td>3-4 days a week</td>\n",
       "      <td>486</td>\n",
       "      <td>4</td>\n",
       "    </tr>\n",
       "    <tr>\n",
       "      <th>1</th>\n",
       "      <td>week-end</td>\n",
       "      <td>369</td>\n",
       "      <td>3</td>\n",
       "    </tr>\n",
       "    <tr>\n",
       "      <th>2</th>\n",
       "      <td>rarely</td>\n",
       "      <td>335</td>\n",
       "      <td>1</td>\n",
       "    </tr>\n",
       "    <tr>\n",
       "      <th>3</th>\n",
       "      <td>sometimes</td>\n",
       "      <td>266</td>\n",
       "      <td>2</td>\n",
       "    </tr>\n",
       "    <tr>\n",
       "      <th>4</th>\n",
       "      <td>daily</td>\n",
       "      <td>244</td>\n",
       "      <td>5</td>\n",
       "    </tr>\n",
       "  </tbody>\n",
       "</table>\n",
       "</div>"
      ],
      "text/plain": [
       "           lecture  effectif  code_lecture\n",
       "0  3-4 days a week       486             4\n",
       "1         week-end       369             3\n",
       "2           rarely       335             1\n",
       "3        sometimes       266             2\n",
       "4            daily       244             5"
      ]
     },
     "execution_count": 91,
     "metadata": {},
     "output_type": "execute_result"
    }
   ],
   "source": [
    "## Le code permet un tri dans l'ordre de la fréquence de cette variable \n",
    "#  qui en fait est une variable qualitative ordonnée\n",
    "df_lecture_journal = pd.DataFrame(sgb_lecture_journal)\n",
    "df_lecture_journal.reset_index(inplace=True)\n",
    "df_lecture_journal.columns = ['lecture','effectif']\n",
    "df_lecture_journal['code_lecture'] = [4,3,1,2,5]\n",
    "df_lecture_journal"
   ]
  },
  {
   "cell_type": "code",
   "execution_count": 92,
   "id": "italian-grave",
   "metadata": {},
   "outputs": [
    {
     "name": "stdout",
     "output_type": "stream",
     "text": [
      "['rarely', 'sometimes', 'week-end', '3-4 days a week', 'daily']\n"
     ]
    }
   ],
   "source": [
    "df_lecture_journal.sort_values('code_lecture', inplace=True)\n",
    "print(list(df_lecture_journal['lecture']))"
   ]
  },
  {
   "cell_type": "code",
   "execution_count": 94,
   "id": "exotic-decimal",
   "metadata": {},
   "outputs": [
    {
     "name": "stdout",
     "output_type": "stream",
     "text": [
      "           lecture  effectif  code_lecture  effectif_cumule\n",
      "2           rarely       335             1              335\n",
      "3        sometimes       266             2              601\n",
      "1         week-end       369             3              970\n",
      "0  3-4 days a week       486             4             1456\n",
      "4            daily       244             5             1700\n"
     ]
    }
   ],
   "source": [
    "df_lecture_journal['effectif_cumule'] = df_lecture_journal['effectif'].cumsum()\n",
    "print(df_lecture_journal)"
   ]
  },
  {
   "cell_type": "code",
   "execution_count": 95,
   "id": "threatened-matter",
   "metadata": {},
   "outputs": [
    {
     "data": {
      "text/html": [
       "<div>\n",
       "<style scoped>\n",
       "    .dataframe tbody tr th:only-of-type {\n",
       "        vertical-align: middle;\n",
       "    }\n",
       "\n",
       "    .dataframe tbody tr th {\n",
       "        vertical-align: top;\n",
       "    }\n",
       "\n",
       "    .dataframe thead th {\n",
       "        text-align: right;\n",
       "    }\n",
       "</style>\n",
       "<table border=\"1\" class=\"dataframe\">\n",
       "  <thead>\n",
       "    <tr style=\"text-align: right;\">\n",
       "      <th></th>\n",
       "      <th>lecture</th>\n",
       "      <th>effectif</th>\n",
       "      <th>code_lecture</th>\n",
       "      <th>effectif_cumule</th>\n",
       "      <th>frequence</th>\n",
       "    </tr>\n",
       "  </thead>\n",
       "  <tbody>\n",
       "    <tr>\n",
       "      <th>2</th>\n",
       "      <td>rarely</td>\n",
       "      <td>335</td>\n",
       "      <td>1</td>\n",
       "      <td>335</td>\n",
       "      <td>19.71</td>\n",
       "    </tr>\n",
       "    <tr>\n",
       "      <th>3</th>\n",
       "      <td>sometimes</td>\n",
       "      <td>266</td>\n",
       "      <td>2</td>\n",
       "      <td>601</td>\n",
       "      <td>15.65</td>\n",
       "    </tr>\n",
       "    <tr>\n",
       "      <th>1</th>\n",
       "      <td>week-end</td>\n",
       "      <td>369</td>\n",
       "      <td>3</td>\n",
       "      <td>970</td>\n",
       "      <td>21.71</td>\n",
       "    </tr>\n",
       "    <tr>\n",
       "      <th>0</th>\n",
       "      <td>3-4 days a week</td>\n",
       "      <td>486</td>\n",
       "      <td>4</td>\n",
       "      <td>1456</td>\n",
       "      <td>28.59</td>\n",
       "    </tr>\n",
       "    <tr>\n",
       "      <th>4</th>\n",
       "      <td>daily</td>\n",
       "      <td>244</td>\n",
       "      <td>5</td>\n",
       "      <td>1700</td>\n",
       "      <td>14.35</td>\n",
       "    </tr>\n",
       "  </tbody>\n",
       "</table>\n",
       "</div>"
      ],
      "text/plain": [
       "           lecture  effectif  code_lecture  effectif_cumule  frequence\n",
       "2           rarely       335             1              335      19.71\n",
       "3        sometimes       266             2              601      15.65\n",
       "1         week-end       369             3              970      21.71\n",
       "0  3-4 days a week       486             4             1456      28.59\n",
       "4            daily       244             5             1700      14.35"
      ]
     },
     "execution_count": 95,
     "metadata": {},
     "output_type": "execute_result"
    }
   ],
   "source": [
    "df_lecture_journal['frequence'] = (100 * df_lecture_journal['effectif'] \\\n",
    "                                   / df_lecture_journal['effectif'].sum()).round(2)\n",
    "df_lecture_journal"
   ]
  },
  {
   "cell_type": "code",
   "execution_count": 96,
   "id": "liable-candidate",
   "metadata": {},
   "outputs": [
    {
     "data": {
      "text/html": [
       "<div>\n",
       "<style scoped>\n",
       "    .dataframe tbody tr th:only-of-type {\n",
       "        vertical-align: middle;\n",
       "    }\n",
       "\n",
       "    .dataframe tbody tr th {\n",
       "        vertical-align: top;\n",
       "    }\n",
       "\n",
       "    .dataframe thead th {\n",
       "        text-align: right;\n",
       "    }\n",
       "</style>\n",
       "<table border=\"1\" class=\"dataframe\">\n",
       "  <thead>\n",
       "    <tr style=\"text-align: right;\">\n",
       "      <th></th>\n",
       "      <th>lecture</th>\n",
       "      <th>effectif</th>\n",
       "      <th>code_lecture</th>\n",
       "      <th>effectif_cumule</th>\n",
       "      <th>frequence</th>\n",
       "      <th>frequence_cumulee</th>\n",
       "    </tr>\n",
       "  </thead>\n",
       "  <tbody>\n",
       "    <tr>\n",
       "      <th>2</th>\n",
       "      <td>rarely</td>\n",
       "      <td>335</td>\n",
       "      <td>1</td>\n",
       "      <td>335</td>\n",
       "      <td>19.71</td>\n",
       "      <td>19.71</td>\n",
       "    </tr>\n",
       "    <tr>\n",
       "      <th>3</th>\n",
       "      <td>sometimes</td>\n",
       "      <td>266</td>\n",
       "      <td>2</td>\n",
       "      <td>601</td>\n",
       "      <td>15.65</td>\n",
       "      <td>35.35</td>\n",
       "    </tr>\n",
       "    <tr>\n",
       "      <th>1</th>\n",
       "      <td>week-end</td>\n",
       "      <td>369</td>\n",
       "      <td>3</td>\n",
       "      <td>970</td>\n",
       "      <td>21.71</td>\n",
       "      <td>57.06</td>\n",
       "    </tr>\n",
       "    <tr>\n",
       "      <th>0</th>\n",
       "      <td>3-4 days a week</td>\n",
       "      <td>486</td>\n",
       "      <td>4</td>\n",
       "      <td>1456</td>\n",
       "      <td>28.59</td>\n",
       "      <td>85.65</td>\n",
       "    </tr>\n",
       "    <tr>\n",
       "      <th>4</th>\n",
       "      <td>daily</td>\n",
       "      <td>244</td>\n",
       "      <td>5</td>\n",
       "      <td>1700</td>\n",
       "      <td>14.35</td>\n",
       "      <td>100.00</td>\n",
       "    </tr>\n",
       "  </tbody>\n",
       "</table>\n",
       "</div>"
      ],
      "text/plain": [
       "           lecture  effectif  code_lecture  effectif_cumule  frequence  \\\n",
       "2           rarely       335             1              335      19.71   \n",
       "3        sometimes       266             2              601      15.65   \n",
       "1         week-end       369             3              970      21.71   \n",
       "0  3-4 days a week       486             4             1456      28.59   \n",
       "4            daily       244             5             1700      14.35   \n",
       "\n",
       "   frequence_cumulee  \n",
       "2              19.71  \n",
       "3              35.35  \n",
       "1              57.06  \n",
       "0              85.65  \n",
       "4             100.00  "
      ]
     },
     "execution_count": 96,
     "metadata": {},
     "output_type": "execute_result"
    }
   ],
   "source": [
    "### Fréquence cumulée calculée en utilisant les effectifs cumulés\n",
    "\n",
    "df_lecture_journal['frequence_cumulee'] = (100 * df_lecture_journal['effectif_cumule'] \\\n",
    "                                / df_lecture_journal['effectif'].sum()).round(2)\n",
    "df_lecture_journal"
   ]
  },
  {
   "cell_type": "code",
   "execution_count": 97,
   "id": "numeric-metadata",
   "metadata": {},
   "outputs": [
    {
     "data": {
      "text/html": [
       "<div>\n",
       "<style scoped>\n",
       "    .dataframe tbody tr th:only-of-type {\n",
       "        vertical-align: middle;\n",
       "    }\n",
       "\n",
       "    .dataframe tbody tr th {\n",
       "        vertical-align: top;\n",
       "    }\n",
       "\n",
       "    .dataframe thead th {\n",
       "        text-align: right;\n",
       "    }\n",
       "</style>\n",
       "<table border=\"1\" class=\"dataframe\">\n",
       "  <thead>\n",
       "    <tr style=\"text-align: right;\">\n",
       "      <th></th>\n",
       "      <th>lecture</th>\n",
       "      <th>effectif</th>\n",
       "      <th>code_lecture</th>\n",
       "      <th>effectif_cumule</th>\n",
       "      <th>frequence</th>\n",
       "      <th>frequence_cumulee</th>\n",
       "    </tr>\n",
       "  </thead>\n",
       "  <tbody>\n",
       "    <tr>\n",
       "      <th>2</th>\n",
       "      <td>rarely</td>\n",
       "      <td>335</td>\n",
       "      <td>1</td>\n",
       "      <td>335</td>\n",
       "      <td>19.71</td>\n",
       "      <td>19.71</td>\n",
       "    </tr>\n",
       "    <tr>\n",
       "      <th>3</th>\n",
       "      <td>sometimes</td>\n",
       "      <td>266</td>\n",
       "      <td>2</td>\n",
       "      <td>601</td>\n",
       "      <td>15.65</td>\n",
       "      <td>35.35</td>\n",
       "    </tr>\n",
       "    <tr>\n",
       "      <th>1</th>\n",
       "      <td>week-end</td>\n",
       "      <td>369</td>\n",
       "      <td>3</td>\n",
       "      <td>970</td>\n",
       "      <td>21.71</td>\n",
       "      <td>57.06</td>\n",
       "    </tr>\n",
       "    <tr>\n",
       "      <th>0</th>\n",
       "      <td>3-4 days a week</td>\n",
       "      <td>486</td>\n",
       "      <td>4</td>\n",
       "      <td>1456</td>\n",
       "      <td>28.59</td>\n",
       "      <td>85.65</td>\n",
       "    </tr>\n",
       "    <tr>\n",
       "      <th>4</th>\n",
       "      <td>daily</td>\n",
       "      <td>244</td>\n",
       "      <td>5</td>\n",
       "      <td>1700</td>\n",
       "      <td>14.35</td>\n",
       "      <td>100.00</td>\n",
       "    </tr>\n",
       "  </tbody>\n",
       "</table>\n",
       "</div>"
      ],
      "text/plain": [
       "           lecture  effectif  code_lecture  effectif_cumule  frequence  \\\n",
       "2           rarely       335             1              335      19.71   \n",
       "3        sometimes       266             2              601      15.65   \n",
       "1         week-end       369             3              970      21.71   \n",
       "0  3-4 days a week       486             4             1456      28.59   \n",
       "4            daily       244             5             1700      14.35   \n",
       "\n",
       "   frequence_cumulee  \n",
       "2              19.71  \n",
       "3              35.35  \n",
       "1              57.06  \n",
       "0              85.65  \n",
       "4             100.00  "
      ]
     },
     "execution_count": 97,
     "metadata": {},
     "output_type": "execute_result"
    }
   ],
   "source": [
    "### Fréquence cumulée calculée directement\n",
    "\n",
    "# Cf. https://www.geeksforgeeks.org/cumulative-percentage-of-a-column-in-pandas-python/\n",
    "\n",
    "df_lecture_journal['frequence_cumulee'] = (100 * df_lecture_journal['effectif'].cumsum() \\\n",
    "                                / df_lecture_journal['effectif'].sum()).round(2)\n",
    "df_lecture_journal"
   ]
  },
  {
   "cell_type": "code",
   "execution_count": 98,
   "id": "billion-birthday",
   "metadata": {},
   "outputs": [
    {
     "data": {
      "image/png": "[encoded data removed]",
      "text/plain": [
       "<Figure size 900x600 with 1 Axes>"
      ]
     },
     "metadata": {},
     "output_type": "display_data"
    }
   ],
   "source": [
    "# Distribution par lecture journal\n",
    "\n",
    "objects = [l for l in sgb_lecture_journal.index]\n",
    "eff = [l for l in sgb_lecture_journal.values]\n",
    "\n",
    "\n",
    "objects = [l for l in df_lecture_journal.sort_values('code_lecture')['lecture']]\n",
    "eff = [l for l in df_lecture_journal.sort_values('code_lecture')['effectif']]\n",
    "\n",
    "p1 = plt.bar(objects, eff, width=0.3)\n",
    "\n",
    "#plt.xticks(l5Years)\n",
    "plt.ylabel('Effectif')\n",
    "plt.title('Effectif par lecture du journal')\n",
    "plt.gcf().set_size_inches(9,6)\n",
    "#plt.gca().axes.get_xaxis().set_visible(False)\n",
    "# supported formats: eps, pdf, pgf, png, ps, raw, rgba, svg, svgz\n",
    "#plt.savefig('exported_pictures/effectifs_naissances_par_annee.png', dpi=100, bbox_inches = \"tight\") #pdf, svg\n",
    "plt.xticks(rotation=45)\n",
    "plt.show()\n"
   ]
  },
  {
   "cell_type": "code",
   "execution_count": 117,
   "id": "191ddb6d-b5fa-4451-9e90-55a3c8cf0d4f",
   "metadata": {},
   "outputs": [
    {
     "data": {
      "text/html": [
       "<div>\n",
       "<style scoped>\n",
       "    .dataframe tbody tr th:only-of-type {\n",
       "        vertical-align: middle;\n",
       "    }\n",
       "\n",
       "    .dataframe tbody tr th {\n",
       "        vertical-align: top;\n",
       "    }\n",
       "\n",
       "    .dataframe thead th {\n",
       "        text-align: right;\n",
       "    }\n",
       "</style>\n",
       "<table border=\"1\" class=\"dataframe\">\n",
       "  <thead>\n",
       "    <tr style=\"text-align: right;\">\n",
       "      <th></th>\n",
       "      <th>frequence</th>\n",
       "    </tr>\n",
       "    <tr>\n",
       "      <th>lecture</th>\n",
       "      <th></th>\n",
       "    </tr>\n",
       "  </thead>\n",
       "  <tbody>\n",
       "    <tr>\n",
       "      <th>rarely</th>\n",
       "      <td>19.71</td>\n",
       "    </tr>\n",
       "    <tr>\n",
       "      <th>sometimes</th>\n",
       "      <td>15.65</td>\n",
       "    </tr>\n",
       "    <tr>\n",
       "      <th>week-end</th>\n",
       "      <td>21.71</td>\n",
       "    </tr>\n",
       "    <tr>\n",
       "      <th>3-4 days a week</th>\n",
       "      <td>28.59</td>\n",
       "    </tr>\n",
       "    <tr>\n",
       "      <th>daily</th>\n",
       "      <td>14.35</td>\n",
       "    </tr>\n",
       "  </tbody>\n",
       "</table>\n",
       "</div>"
      ],
      "text/plain": [
       "                 frequence\n",
       "lecture                   \n",
       "rarely               19.71\n",
       "sometimes            15.65\n",
       "week-end             21.71\n",
       "3-4 days a week      28.59\n",
       "daily                14.35"
      ]
     },
     "execution_count": 117,
     "metadata": {},
     "output_type": "execute_result"
    }
   ],
   "source": [
    "lect_jour = df_lecture_journal[['lecture', 'frequence']]\n",
    "lect_jour.set_index('lecture', inplace=True)\n",
    "lect_jour.head()\n"
   ]
  },
  {
   "cell_type": "code",
   "execution_count": 118,
   "id": "2f903089-4848-48d4-a837-03132858ca6f",
   "metadata": {},
   "outputs": [
    {
     "data": {
      "text/plain": [
       "<Axes: xlabel='lecture'>"
      ]
     },
     "execution_count": 118,
     "metadata": {},
     "output_type": "execute_result"
    },
    {
     "data": {
      "image/png": "[encoded data removed]",
      "text/plain": [
       "<Figure size 1500x500 with 2 Axes>"
      ]
     },
     "metadata": {},
     "output_type": "display_data"
    }
   ],
   "source": [
    "### Colormaps\n",
    "# http://scipy.github.io/old-wiki/pages/Cookbook/Matplotlib/Show_colormaps\n",
    "\n",
    "fig, axs = plt.subplots(1,2)\n",
    "fig.tight_layout()\n",
    "\n",
    "df_lecture_journal.plot(kind='bar', x='lecture', y='effectif',ax=axs[0], \n",
    "                        figsize=(15,5), color='lightblue',rot=0, fontsize=8)\n",
    "df_lecture_journal.plot(kind='bar', x='lecture', y='frequence',ax=axs[1], \n",
    "                        figsize=(15,5), color='lightgrey', rot=0, fontsize=8)\n"
   ]
  },
  {
   "cell_type": "code",
   "execution_count": 119,
   "id": "36dd4e70-68b3-400e-b181-115ffdc24625",
   "metadata": {},
   "outputs": [
    {
     "data": {
      "text/plain": [
       "<Axes: ylabel='frequence'>"
      ]
     },
     "execution_count": 119,
     "metadata": {},
     "output_type": "execute_result"
    },
    {
     "data": {
      "image/png": "[encoded data removed]",
      "text/plain": [
       "<Figure size 1500x500 with 2 Axes>"
      ]
     },
     "metadata": {},
     "output_type": "display_data"
    }
   ],
   "source": [
    "### Colormaps\n",
    "# http://scipy.github.io/old-wiki/pages/Cookbook/Matplotlib/Show_colormaps\n",
    "\n",
    "fig, axs = plt.subplots(1,2)\n",
    "\n",
    "lect_jour.plot(kind='pie', y='frequence',ax=axs[0], figsize=(15,5), legend=False)\n",
    "\n",
    "### A préferer: une seule couleur, car différente intensité du même phénomène\n",
    "# Noter que l'ordre d'intensité (du plus clair au plus sombre) \n",
    "# dépend du traitement préalable du tableau affiché, le lignes étant\n",
    "# en ordre d'intensité croissante\n",
    "lect_jour.plot(kind='pie', y='frequence',ax=axs[1], colormap='Blues', figsize=(15,5), legend=False)\n"
   ]
  },
  {
   "cell_type": "code",
   "execution_count": 120,
   "id": "a48a6ba4-29f5-4643-84a8-6e8ca717f60b",
   "metadata": {},
   "outputs": [
    {
     "data": {
      "text/html": [
       "<div>\n",
       "<style scoped>\n",
       "    .dataframe tbody tr th:only-of-type {\n",
       "        vertical-align: middle;\n",
       "    }\n",
       "\n",
       "    .dataframe tbody tr th {\n",
       "        vertical-align: top;\n",
       "    }\n",
       "\n",
       "    .dataframe thead th {\n",
       "        text-align: right;\n",
       "    }\n",
       "</style>\n",
       "<table border=\"1\" class=\"dataframe\">\n",
       "  <thead>\n",
       "    <tr style=\"text-align: right;\">\n",
       "      <th>lecture</th>\n",
       "      <th>rarely</th>\n",
       "      <th>sometimes</th>\n",
       "      <th>week-end</th>\n",
       "      <th>3-4 days a week</th>\n",
       "      <th>daily</th>\n",
       "    </tr>\n",
       "  </thead>\n",
       "  <tbody>\n",
       "    <tr>\n",
       "      <th>frequence</th>\n",
       "      <td>19.71</td>\n",
       "      <td>15.65</td>\n",
       "      <td>21.71</td>\n",
       "      <td>28.59</td>\n",
       "      <td>14.35</td>\n",
       "    </tr>\n",
       "  </tbody>\n",
       "</table>\n",
       "</div>"
      ],
      "text/plain": [
       "lecture    rarely  sometimes  week-end  3-4 days a week  daily\n",
       "frequence   19.71      15.65     21.71            28.59  14.35"
      ]
     },
     "execution_count": 120,
     "metadata": {},
     "output_type": "execute_result"
    }
   ],
   "source": [
    "### Préparer les données pour un barplot\n",
    "\n",
    "ljt = lect_jour.T\n",
    "ljt"
   ]
  },
  {
   "cell_type": "code",
   "execution_count": 121,
   "id": "ed2ba948-61c9-477b-9763-ed8b8341ad7d",
   "metadata": {},
   "outputs": [
    {
     "data": {
      "image/png": "[encoded data removed]",
      "text/plain": [
       "<Figure size 1500x500 with 1 Axes>"
      ]
     },
     "metadata": {},
     "output_type": "display_data"
    }
   ],
   "source": [
    "### Pandas plot reference\n",
    "# https://pandas.pydata.org/pandas-docs/stable/reference/api/pandas.DataFrame.plot.html\n",
    "## Barplots\n",
    "# https://www.shanelynn.ie/bar-plots-in-python-using-pandas-dataframes/\n",
    "\n",
    "fig = ljt.plot(kind='barh', stacked=True, figsize=(15,5), colormap='Blues', width=0.2, xlim=[0,100])"
   ]
  },
  {
   "cell_type": "code",
   "execution_count": 126,
   "id": "prompt-screening",
   "metadata": {
    "tags": []
   },
   "outputs": [
    {
     "data": {
      "image/png": "[encoded data removed]",
      "text/plain": [
       "<Figure size 300x400 with 1 Axes>"
      ]
     },
     "metadata": {},
     "output_type": "display_data"
    }
   ],
   "source": [
    "### Distribution par lecture journal: fréquence cumulée\n",
    "# Diagramme par paliers plus lisible\n",
    "\n",
    "objects = [l for l in sgb_lecture_journal.index]\n",
    "eff = [l for l in sgb_lecture_journal.values]\n",
    "\n",
    "\n",
    "objects = [l for l in df_lecture_journal['lecture']]\n",
    "eff = [l for l in df_lecture_journal['frequence_cumulee']]\n",
    "\n",
    "p1 = plt.plot(objects, eff, drawstyle='steps-mid') # autre valeur: steps-post, steps\n",
    "\n",
    "plt.ylabel('Fréquence cumulée')\n",
    "plt.title('Fréquence cumulée par lecture du journal')\n",
    "plt.gcf().set_size_inches(3,4)\n",
    "# supported formats: eps, pdf, pgf, png, ps, raw, rgba, svg, svgz\n",
    "#plt.savefig('exported_pictures/effectifs_naissances_par_annee.png', dpi=100, bbox_inches = \"tight\") #pdf, svg\n",
    "plt.xticks(rotation=70)\n",
    "plt.show()\n",
    "\n",
    "## On peut ainsi commenter l'évolution de la distribution"
   ]
  }
 ],
 "metadata": {
  "kernelspec": {
   "display_name": "py311_data_analysis",
   "language": "python",
   "name": "py311_data_analysis"
  },
  "language_info": {
   "codemirror_mode": {
    "name": "ipython",
    "version": 3
   },
   "file_extension": ".py",
   "mimetype": "text/x-python",
   "name": "python",
   "nbconvert_exporter": "python",
   "pygments_lexer": "ipython3",
   "version": "3.11.8"
  }
 },
 "nbformat": 4,
 "nbformat_minor": 5
}
