{
 "cells": [
  {
   "cell_type": "markdown",
   "metadata": {},
   "source": [
    "# Networks of organisations\n",
    "\n",
    "\n",
    "  \n",
    "* *Exploratory SNA* book's chapter 5 about 'Affiliations'\n",
    "* Cf. [this notebook](https://github.com/Sciences-historiques-numeriques/histoire_numerique_methodes/blob/main/analyse_reseaux/pajek_book/chapter5_affiliations.ipynb) \n",
    "\n"
   ]
  },
  {
   "cell_type": "code",
   "execution_count": 17,
   "metadata": {},
   "outputs": [],
   "source": [
    "### Librairie à installer dans l'environnement conda (si on exécute en local)\n",
    "# qui sera choisi pour exécuter le carnet\n",
    "\n",
    "%matplotlib inline\n",
    "\n",
    "from SPARQLWrapper import SPARQLWrapper, JSON, TURTLE, XML, RDFXML\n",
    "import pandas as pd\n",
    "\n",
    "import scipy.stats as stats\n",
    "\n",
    "import networkx as nx\n",
    "from networkx.algorithms import bipartite\n",
    "\n",
    "import matplotlib.pyplot as plt\n",
    "import matplotlib.patches as patches\n",
    "\n",
    "import numpy as np\n",
    "import seaborn as sns\n",
    "import math\n",
    "import os\n",
    "import pandas as pd"
   ]
  },
  {
   "cell_type": "code",
   "execution_count": 18,
   "metadata": {},
   "outputs": [],
   "source": [
    "### Librairies déjà installées avec Python\n",
    "import pprint\n",
    "import csv\n",
    "\n",
    "import sqlite3 as sql\n",
    "\n",
    "import time\n",
    "import datetime\n",
    "from dateutil import parser\n",
    "\n",
    "\n",
    "from shutil import copyfile\n"
   ]
  },
  {
   "cell_type": "code",
   "execution_count": 19,
   "metadata": {},
   "outputs": [],
   "source": [
    "### Importer un module de fonctions crées ad hoc\n",
    "##  ATTENTION : le fichier 'sparql_functions.py' doit se trouver \n",
    "#   dans un dossier qui se situe dans le chemin ('path') de recherche\n",
    "#   vu par le présent carnet Jupyter afin que\n",
    "#   l'importation fonctionne correctement\n",
    "\n",
    "import sys\n",
    "from importlib import reload\n",
    "\n",
    "# Add parent directory to the path\n",
    "sys.path.insert(0, '..')\n",
    "\n",
    "### If you want to add the parent-parent directory,\n",
    "sys.path.insert(0, '../..')\n",
    "\n",
    "\n",
    "import sparql_functions as spqf\n",
    "import network_analysis_functions as naf"
   ]
  },
  {
   "cell_type": "code",
   "execution_count": 20,
   "metadata": {},
   "outputs": [
    {
     "name": "stdout",
     "output_type": "stream",
     "text": [
      "<module 'network_analysis_functions' from 'c:\\\\Users\\\\berna\\\\Desktop\\\\UNINE\\\\Semestre 4\\\\Applications méthodes\\\\Projet\\\\Formula1_drivers\\\\Notebooks_jupyther\\\\wikidata_exploration\\\\..\\\\network_analysis_functions.py'>\n"
     ]
    }
   ],
   "source": [
    "print(reload(naf))  "
   ]
  },
  {
   "cell_type": "markdown",
   "metadata": {},
   "source": [
    "## Get the data from the triplestore\n",
    "\n",
    "This notebook is based on the same relationships (and therefore data) as [the one about persons' relationships](wdt_persons_organisations_networks.ipynb), namely the relationship between persons and organisations as original information.\n",
    "\n",
    "Here, however, we will focus on relationships between institutions, so the treatment is different.\n"
   ]
  },
  {
   "cell_type": "code",
   "execution_count": 21,
   "metadata": {},
   "outputs": [],
   "source": [
    "## define SPARQL enpoint\n",
    "endpoint = \"https://ag1cupvpzk0xd2wm.allegrograph.cloud/repositories/F1drivers\""
   ]
  },
  {
   "cell_type": "code",
   "execution_count": 22,
   "metadata": {},
   "outputs": [],
   "source": [
    "query = \"\"\"\n",
    "\n",
    "PREFIX wd:   <http://www.wikidata.org/entity/>\n",
    "PREFIX wdt:  <http://www.wikidata.org/prop/direct/>\n",
    "PREFIX rdf:  <http://www.w3.org/1999/02/22-rdf-syntax-ns#>\n",
    "PREFIX rdfs: <http://www.w3.org/2000/01/rdf-schema#>\n",
    "\n",
    "SELECT ?person\n",
    "       (MIN(?pLabel)        AS ?personLabel)\n",
    "       (MIN(?birth)         AS ?birthYear)\n",
    "       ?relationship\n",
    "       ?team\n",
    "       (MIN(?teamLabel)     AS ?organisationLabel)\n",
    "       (COUNT(*)            AS ?n)\n",
    "       (GROUP_CONCAT(DISTINCT ?teamTypeLabel; separator=\" | \")\n",
    "                        AS ?groupTypes)\n",
    "WHERE {\n",
    "  GRAPH <https://github.com/Benmad26/Formula1_drivers/blob/main/graphs/wikidata-imported-data.md> {\n",
    "\n",
    "    #--- pilote -------------------------------------------------------------\n",
    "    ?person rdf:type wd:Q5 ;\n",
    "            rdfs:label ?pLabel ;\n",
    "            wdt:P569   ?birth ;\n",
    "            wdt:P54    ?team .\n",
    "    FILTER (\n",
    "        langMatches(lang(?pLabel), \"en\") ||     # toutes variantes en-*\n",
    "        langMatches(lang(?pLabel), \"fr\") ||     # toutes variantes fr-*\n",
    "        lang(?pLabel) = \"\"                      # ou pas de balise\n",
    "    )\n",
    "\n",
    "    BIND(\"membership\" AS ?relationship)\n",
    "\n",
    "    #--- écurie -------------------------------------------------------------\n",
    "    OPTIONAL {\n",
    "      ?team rdfs:label ?teamLabel .\n",
    "      FILTER (\n",
    "          langMatches(lang(?teamLabel), \"en\") ||\n",
    "          langMatches(lang(?teamLabel), \"fr\") ||\n",
    "          lang(?teamLabel) = \"\"\n",
    "      )\n",
    "    }\n",
    "\n",
    "    #--- type d’écurie ------------------------------------------------------\n",
    "    OPTIONAL {\n",
    "      ?team wdt:P31 ?teamType .\n",
    "      ?teamType rdfs:label ?teamTypeLabel .\n",
    "      FILTER (\n",
    "          langMatches(lang(?teamTypeLabel), \"en\") ||\n",
    "          langMatches(lang(?teamTypeLabel), \"fr\") ||\n",
    "          lang(?teamTypeLabel) = \"\"\n",
    "      )\n",
    "    }\n",
    "  }\n",
    "}\n",
    "GROUP BY ?person ?team ?relationship\n",
    "ORDER BY ?personLabel\n",
    "\n",
    "\"\"\""
   ]
  },
  {
   "cell_type": "code",
   "execution_count": 23,
   "metadata": {},
   "outputs": [
    {
     "name": "stdout",
     "output_type": "stream",
     "text": [
      "442\n",
      "[['http://www.wikidata.org/entity/Q435698',\n",
      "  'Enrico Bertaggia',\n",
      "  '1964',\n",
      "  'membership',\n",
      "  'http://www.wikidata.org/entity/Q172974',\n",
      "  'Forti',\n",
      "  '1',\n",
      "  'Formula One team'],\n",
      " ['http://www.wikidata.org/entity/Q435698',\n",
      "  'Enrico Bertaggia',\n",
      "  '1964',\n",
      "  'membership',\n",
      "  'http://www.wikidata.org/entity/Q172857',\n",
      "  'Lola Cars',\n",
      "  '2',\n",
      "  'auto racing team | Formula One team'],\n",
      " ['http://www.wikidata.org/entity/Q435698',\n",
      "  'Enrico Bertaggia',\n",
      "  '1964',\n",
      "  'membership',\n",
      "  'http://www.wikidata.org/entity/Q173293',\n",
      "  'Andrea Moda Formula',\n",
      "  '1',\n",
      "  'Formula One team']]\n"
     ]
    }
   ],
   "source": [
    "### Executer la requête avec les fonctions de la librairie locale\n",
    "try:\n",
    "    qr = spqf.get_json_sparql_result(endpoint,query)\n",
    "    out = [l for l in spqf.sparql_result_to_list(qr)]\n",
    "    print(len(out))\n",
    "    pprint.pprint(out[100:103])\n",
    "except Exception as e:\n",
    "    print(e)    \n"
   ]
  },
  {
   "cell_type": "markdown",
   "metadata": {},
   "source": [
    "## Inspect the data\n"
   ]
  },
  {
   "cell_type": "code",
   "execution_count": 24,
   "metadata": {},
   "outputs": [
    {
     "name": "stdout",
     "output_type": "stream",
     "text": [
      "Number:  442\n"
     ]
    },
    {
     "data": {
      "text/html": [
       "<div>\n",
       "<style scoped>\n",
       "    .dataframe tbody tr th:only-of-type {\n",
       "        vertical-align: middle;\n",
       "    }\n",
       "\n",
       "    .dataframe tbody tr th {\n",
       "        vertical-align: top;\n",
       "    }\n",
       "\n",
       "    .dataframe thead th {\n",
       "        text-align: right;\n",
       "    }\n",
       "</style>\n",
       "<table border=\"1\" class=\"dataframe\">\n",
       "  <thead>\n",
       "    <tr style=\"text-align: right;\">\n",
       "      <th></th>\n",
       "      <th>uriPer</th>\n",
       "      <th>labelPer</th>\n",
       "      <th>birthYear</th>\n",
       "      <th>relaType</th>\n",
       "      <th>uriOrg</th>\n",
       "      <th>labelOrg</th>\n",
       "      <th>nTypes</th>\n",
       "      <th>typesOrg</th>\n",
       "    </tr>\n",
       "  </thead>\n",
       "  <tbody>\n",
       "    <tr>\n",
       "      <th>10</th>\n",
       "      <td>http://www.wikidata.org/entity/Q516070</td>\n",
       "      <td>Alberto Colombo</td>\n",
       "      <td>1946</td>\n",
       "      <td>membership</td>\n",
       "      <td>http://www.wikidata.org/entity/Q172577</td>\n",
       "      <td>Merzario</td>\n",
       "      <td>1</td>\n",
       "      <td>Formula One team</td>\n",
       "    </tr>\n",
       "    <tr>\n",
       "      <th>11</th>\n",
       "      <td>http://www.wikidata.org/entity/Q516070</td>\n",
       "      <td>Alberto Colombo</td>\n",
       "      <td>1946</td>\n",
       "      <td>membership</td>\n",
       "      <td>http://www.wikidata.org/entity/Q172162</td>\n",
       "      <td>ATS F1</td>\n",
       "      <td>1</td>\n",
       "      <td>Formula One team</td>\n",
       "    </tr>\n",
       "    <tr>\n",
       "      <th>12</th>\n",
       "      <td>http://www.wikidata.org/entity/Q16149172</td>\n",
       "      <td>Alexander Albon</td>\n",
       "      <td>1996</td>\n",
       "      <td>membership</td>\n",
       "      <td>http://www.wikidata.org/entity/Q171337</td>\n",
       "      <td>Williams Racing</td>\n",
       "      <td>2</td>\n",
       "      <td>racecar constructor | Formula One team</td>\n",
       "    </tr>\n",
       "  </tbody>\n",
       "</table>\n",
       "</div>"
      ],
      "text/plain": [
       "                                      uriPer         labelPer birthYear  \\\n",
       "10    http://www.wikidata.org/entity/Q516070  Alberto Colombo      1946   \n",
       "11    http://www.wikidata.org/entity/Q516070  Alberto Colombo      1946   \n",
       "12  http://www.wikidata.org/entity/Q16149172  Alexander Albon      1996   \n",
       "\n",
       "      relaType                                  uriOrg         labelOrg  \\\n",
       "10  membership  http://www.wikidata.org/entity/Q172577         Merzario   \n",
       "11  membership  http://www.wikidata.org/entity/Q172162           ATS F1   \n",
       "12  membership  http://www.wikidata.org/entity/Q171337  Williams Racing   \n",
       "\n",
       "   nTypes                                typesOrg  \n",
       "10      1                        Formula One team  \n",
       "11      1                        Formula One team  \n",
       "12      2  racecar constructor | Formula One team  "
      ]
     },
     "execution_count": 24,
     "metadata": {},
     "output_type": "execute_result"
    }
   ],
   "source": [
    "### Créer un DataFrame à partir du résultat\n",
    "df_p = pd.DataFrame(out)\n",
    "df_p.columns = ['uriPer', 'labelPer', 'birthYear', 'relaType', 'uriOrg', 'labelOrg', 'nTypes',\n",
    "                'typesOrg']\n",
    "print('Number: ',len(df_p))\n",
    "df_p.iloc[10:13,:]\n"
   ]
  },
  {
   "cell_type": "markdown",
   "metadata": {},
   "source": [
    "### Distribution of relationships in relation to birthYears of organisations members"
   ]
  },
  {
   "cell_type": "code",
   "execution_count": 25,
   "metadata": {},
   "outputs": [
    {
     "name": "stdout",
     "output_type": "stream",
     "text": [
      "[1761, 1791, 1821, 1851, 1881, 1911, 1941, 1971, 2001, 2031]\n"
     ]
    }
   ],
   "source": [
    "l_50 = list(range(1761, 2051, 30))\n",
    "print(l_50)"
   ]
  },
  {
   "cell_type": "code",
   "execution_count": 26,
   "metadata": {},
   "outputs": [],
   "source": [
    "### We adapt the periods manually,\n",
    "# we would like to have eight periods\n",
    "# making sense from an historical point of view \n",
    "lc = [1751, 1801, 1851, 1901, 1921, 1941, 1961, 1981, 2001]"
   ]
  },
  {
   "cell_type": "code",
   "execution_count": 27,
   "metadata": {},
   "outputs": [],
   "source": [
    "### 30 years periods, but some customisations\n",
    "lc = [1751, 1811, 1851, 1881, 1911, 1941, 1971, 2001]"
   ]
  },
  {
   "cell_type": "code",
   "execution_count": 28,
   "metadata": {},
   "outputs": [],
   "source": [
    "### convert birthYear to integer\n",
    "df_p.birthYear = df_p.birthYear.apply(lambda x : int(x))"
   ]
  },
  {
   "cell_type": "code",
   "execution_count": 29,
   "metadata": {},
   "outputs": [
    {
     "data": {
      "text/html": [
       "<div>\n",
       "<style scoped>\n",
       "    .dataframe tbody tr th:only-of-type {\n",
       "        vertical-align: middle;\n",
       "    }\n",
       "\n",
       "    .dataframe tbody tr th {\n",
       "        vertical-align: top;\n",
       "    }\n",
       "\n",
       "    .dataframe thead th {\n",
       "        text-align: right;\n",
       "    }\n",
       "</style>\n",
       "<table border=\"1\" class=\"dataframe\">\n",
       "  <thead>\n",
       "    <tr style=\"text-align: right;\">\n",
       "      <th></th>\n",
       "      <th>uriPer</th>\n",
       "      <th>labelPer</th>\n",
       "      <th>birthYear</th>\n",
       "      <th>relaType</th>\n",
       "      <th>uriOrg</th>\n",
       "      <th>labelOrg</th>\n",
       "      <th>nTypes</th>\n",
       "      <th>typesOrg</th>\n",
       "      <th>periods</th>\n",
       "    </tr>\n",
       "  </thead>\n",
       "  <tbody>\n",
       "    <tr>\n",
       "      <th>1</th>\n",
       "      <td>http://www.wikidata.org/entity/Q171456</td>\n",
       "      <td>Adrián Campos</td>\n",
       "      <td>1960</td>\n",
       "      <td>membership</td>\n",
       "      <td>http://www.wikidata.org/entity/Q5559629</td>\n",
       "      <td>Bravo F1</td>\n",
       "      <td>1</td>\n",
       "      <td>auto racing team</td>\n",
       "      <td>1941-1970</td>\n",
       "    </tr>\n",
       "    <tr>\n",
       "      <th>5</th>\n",
       "      <td>http://www.wikidata.org/entity/Q10494</td>\n",
       "      <td>Alain Prost</td>\n",
       "      <td>1955</td>\n",
       "      <td>membership</td>\n",
       "      <td>http://www.wikidata.org/entity/Q172722</td>\n",
       "      <td>Renault F1 Team</td>\n",
       "      <td>1</td>\n",
       "      <td>Formula One team</td>\n",
       "      <td>1941-1970</td>\n",
       "    </tr>\n",
       "    <tr>\n",
       "      <th>10</th>\n",
       "      <td>http://www.wikidata.org/entity/Q516070</td>\n",
       "      <td>Alberto Colombo</td>\n",
       "      <td>1946</td>\n",
       "      <td>membership</td>\n",
       "      <td>http://www.wikidata.org/entity/Q172577</td>\n",
       "      <td>Merzario</td>\n",
       "      <td>1</td>\n",
       "      <td>Formula One team</td>\n",
       "      <td>1941-1970</td>\n",
       "    </tr>\n",
       "  </tbody>\n",
       "</table>\n",
       "</div>"
      ],
      "text/plain": [
       "                                    uriPer         labelPer  birthYear  \\\n",
       "1   http://www.wikidata.org/entity/Q171456    Adrián Campos       1960   \n",
       "5    http://www.wikidata.org/entity/Q10494      Alain Prost       1955   \n",
       "10  http://www.wikidata.org/entity/Q516070  Alberto Colombo       1946   \n",
       "\n",
       "      relaType                                   uriOrg         labelOrg  \\\n",
       "1   membership  http://www.wikidata.org/entity/Q5559629         Bravo F1   \n",
       "5   membership   http://www.wikidata.org/entity/Q172722  Renault F1 Team   \n",
       "10  membership   http://www.wikidata.org/entity/Q172577         Merzario   \n",
       "\n",
       "   nTypes          typesOrg    periods  \n",
       "1       1  auto racing team  1941-1970  \n",
       "5       1  Formula One team  1941-1970  \n",
       "10      1  Formula One team  1941-1970  "
      ]
     },
     "execution_count": 29,
     "metadata": {},
     "output_type": "execute_result"
    }
   ],
   "source": [
    "### fonction pd.cut : https://pandas.pydata.org/pandas-docs/stable/reference/api/pandas.cut.html\n",
    "# On ajoute une nouvelle colonne qui contient la période sur la base de la liste précédente\n",
    "# et de la valeur de l'année\n",
    "df_p['periods'] = pd.cut(df_p['birthYear'], lc, right=False)\n",
    "\n",
    "### Transformer le code ajouté pour qu'il soit plus lisible\n",
    "# noter qu'on a arrondi les valeurs\n",
    "df_p['periods'] = df_p['periods'].apply(lambda x : str(int(x.left))+'-'+ str(int(x.right)-1))\n",
    "\n",
    "# Inspection\n",
    "df_p.iloc[[1,5,10]]"
   ]
  },
  {
   "cell_type": "markdown",
   "metadata": {},
   "source": [
    "#### Reload from CSV\n",
    "\n",
    "This is only possible if you already stored the data into a CSV, cf. below"
   ]
  },
  {
   "cell_type": "code",
   "execution_count": 30,
   "metadata": {},
   "outputs": [
    {
     "name": "stdout",
     "output_type": "stream",
     "text": [
      "442\n"
     ]
    },
    {
     "data": {
      "text/html": [
       "<div>\n",
       "<style scoped>\n",
       "    .dataframe tbody tr th:only-of-type {\n",
       "        vertical-align: middle;\n",
       "    }\n",
       "\n",
       "    .dataframe tbody tr th {\n",
       "        vertical-align: top;\n",
       "    }\n",
       "\n",
       "    .dataframe thead th {\n",
       "        text-align: right;\n",
       "    }\n",
       "</style>\n",
       "<table border=\"1\" class=\"dataframe\">\n",
       "  <thead>\n",
       "    <tr style=\"text-align: right;\">\n",
       "      <th></th>\n",
       "      <th>uriPer</th>\n",
       "      <th>labelPer</th>\n",
       "      <th>birthYear</th>\n",
       "      <th>relaType</th>\n",
       "      <th>uriOrg</th>\n",
       "      <th>labelOrg</th>\n",
       "      <th>nTypes</th>\n",
       "      <th>typesOrg</th>\n",
       "      <th>periods</th>\n",
       "    </tr>\n",
       "  </thead>\n",
       "  <tbody>\n",
       "    <tr>\n",
       "      <th>0</th>\n",
       "      <td>http://www.wikidata.org/entity/Q171456</td>\n",
       "      <td>Adrián Campos</td>\n",
       "      <td>1960</td>\n",
       "      <td>membership</td>\n",
       "      <td>http://www.wikidata.org/entity/Q1031592</td>\n",
       "      <td>Campos Racing</td>\n",
       "      <td>1</td>\n",
       "      <td>auto racing team</td>\n",
       "      <td>1941-1970</td>\n",
       "    </tr>\n",
       "    <tr>\n",
       "      <th>1</th>\n",
       "      <td>http://www.wikidata.org/entity/Q171456</td>\n",
       "      <td>Adrián Campos</td>\n",
       "      <td>1960</td>\n",
       "      <td>membership</td>\n",
       "      <td>http://www.wikidata.org/entity/Q5559629</td>\n",
       "      <td>Bravo F1</td>\n",
       "      <td>1</td>\n",
       "      <td>auto racing team</td>\n",
       "      <td>1941-1970</td>\n",
       "    </tr>\n",
       "  </tbody>\n",
       "</table>\n",
       "</div>"
      ],
      "text/plain": [
       "                                   uriPer       labelPer  birthYear  \\\n",
       "0  http://www.wikidata.org/entity/Q171456  Adrián Campos       1960   \n",
       "1  http://www.wikidata.org/entity/Q171456  Adrián Campos       1960   \n",
       "\n",
       "     relaType                                   uriOrg       labelOrg nTypes  \\\n",
       "0  membership  http://www.wikidata.org/entity/Q1031592  Campos Racing      1   \n",
       "1  membership  http://www.wikidata.org/entity/Q5559629       Bravo F1      1   \n",
       "\n",
       "           typesOrg    periods  \n",
       "0  auto racing team  1941-1970  \n",
       "1  auto racing team  1941-1970  "
      ]
     },
     "execution_count": 30,
     "metadata": {},
     "output_type": "execute_result"
    }
   ],
   "source": [
    "### load from CSV\n",
    "\n",
    "os.makedirs('Data', exist_ok=True)\n",
    "df_p.to_csv('Data/persons_organisations_from_organisations.csv', index=False)\n",
    "print(len(df_p))\n",
    "df_p.head(2)\n"
   ]
  },
  {
   "cell_type": "code",
   "execution_count": 31,
   "metadata": {},
   "outputs": [
    {
     "name": "stdout",
     "output_type": "stream",
     "text": [
      "periods\n",
      "1881-1910     12\n",
      "1911-1940    148\n",
      "1941-1970    143\n",
      "1971-2000    139\n",
      "dtype: int64\n"
     ]
    }
   ],
   "source": [
    "### Group by periods\n",
    "df_period = df_p.groupby(by='periods', observed=True).size()\n",
    "print(df_period)"
   ]
  },
  {
   "cell_type": "code",
   "execution_count": 32,
   "metadata": {},
   "outputs": [
    {
     "data": {
      "image/png": "[encoded data removed]",
      "text/plain": [
       "<Figure size 800x600 with 1 Axes>"
      ]
     },
     "metadata": {},
     "output_type": "display_data"
    }
   ],
   "source": [
    "ax = df_period.plot(kind='bar',rot=50, fontsize=10, figsize=(8,6))\n",
    "ax.bar_label(ax.containers[-1], size=10)\n",
    "plt.ylabel('Number')\n",
    "plt.xlabel('Periods')\n",
    "plt.title('Distribution of relationships in relation to generations')\n",
    "plt.show()"
   ]
  },
  {
   "cell_type": "markdown",
   "metadata": {},
   "source": [
    "### Inspect available relationships"
   ]
  },
  {
   "cell_type": "code",
   "execution_count": 33,
   "metadata": {},
   "outputs": [
    {
     "name": "stdout",
     "output_type": "stream",
     "text": [
      "relaType\n",
      "membership    442\n",
      "dtype: int64\n"
     ]
    }
   ],
   "source": [
    "### Available relationships\n",
    "print(df_p.groupby(by='relaType').size())"
   ]
  },
  {
   "cell_type": "code",
   "execution_count": 34,
   "metadata": {},
   "outputs": [
    {
     "name": "stdout",
     "output_type": "stream",
     "text": [
      "     periods    relaType  size\n",
      "0  1881-1910  membership    12\n",
      "1  1911-1940  membership   148\n",
      "2  1941-1970  membership   143\n",
      "3  1971-2000  membership   139\n"
     ]
    }
   ],
   "source": [
    "dfg_pr=df_p.groupby(by=['periods','relaType'], observed=True, as_index=False).size()\n",
    "print(dfg_pr)"
   ]
  },
  {
   "cell_type": "code",
   "execution_count": 35,
   "metadata": {},
   "outputs": [
    {
     "data": {
      "image/png": "[encoded data removed]",
      "text/plain": [
       "<Figure size 800x600 with 1 Axes>"
      ]
     },
     "metadata": {},
     "output_type": "display_data"
    }
   ],
   "source": [
    "%matplotlib inline\n",
    "plt.figure(figsize=(8, 6)) \n",
    "ax = sns.barplot(data=dfg_pr, x='periods', y='size', hue='relaType', palette='Blues')\n",
    "ax.tick_params(axis='x', labelrotation=45)\n"
   ]
  },
  {
   "cell_type": "markdown",
   "metadata": {},
   "source": [
    "### Clean up organisations type"
   ]
  },
  {
   "cell_type": "code",
   "execution_count": 36,
   "metadata": {},
   "outputs": [
    {
     "name": "stdout",
     "output_type": "stream",
     "text": [
      "442\n",
      "[['auto racing team'], ['auto racing team'], ['formula one team']]\n"
     ]
    }
   ],
   "source": [
    "### Transform types' strings to alphabetically sorted lists and delete additional white spaces\n",
    "df_p['listTypesOrg'] = df_p.typesOrg.apply(lambda x : sorted([e.strip().lower() for e in x.split('|')]))\n",
    "\n",
    "ll = df_p.listTypesOrg.to_list()\n",
    "print(len(ll))\n",
    "pprint.pprint(ll[:3])\n"
   ]
  },
  {
   "cell_type": "code",
   "execution_count": 37,
   "metadata": {},
   "outputs": [
    {
     "data": {
      "text/html": [
       "<div>\n",
       "<style scoped>\n",
       "    .dataframe tbody tr th:only-of-type {\n",
       "        vertical-align: middle;\n",
       "    }\n",
       "\n",
       "    .dataframe tbody tr th {\n",
       "        vertical-align: top;\n",
       "    }\n",
       "\n",
       "    .dataframe thead th {\n",
       "        text-align: right;\n",
       "    }\n",
       "</style>\n",
       "<table border=\"1\" class=\"dataframe\">\n",
       "  <thead>\n",
       "    <tr style=\"text-align: right;\">\n",
       "      <th></th>\n",
       "      <th>uriPer</th>\n",
       "      <th>labelPer</th>\n",
       "      <th>birthYear</th>\n",
       "      <th>relaType</th>\n",
       "      <th>uriOrg</th>\n",
       "      <th>labelOrg</th>\n",
       "      <th>nTypes</th>\n",
       "      <th>typesOrg</th>\n",
       "      <th>periods</th>\n",
       "      <th>listTypesOrg</th>\n",
       "    </tr>\n",
       "  </thead>\n",
       "  <tbody>\n",
       "    <tr>\n",
       "      <th>1</th>\n",
       "      <td>http://www.wikidata.org/entity/Q171456</td>\n",
       "      <td>Adrián Campos</td>\n",
       "      <td>1960</td>\n",
       "      <td>membership</td>\n",
       "      <td>http://www.wikidata.org/entity/Q5559629</td>\n",
       "      <td>Bravo F1</td>\n",
       "      <td>1</td>\n",
       "      <td>auto racing team</td>\n",
       "      <td>1941-1970</td>\n",
       "      <td>[auto racing team]</td>\n",
       "    </tr>\n",
       "    <tr>\n",
       "      <th>5</th>\n",
       "      <td>http://www.wikidata.org/entity/Q10494</td>\n",
       "      <td>Alain Prost</td>\n",
       "      <td>1955</td>\n",
       "      <td>membership</td>\n",
       "      <td>http://www.wikidata.org/entity/Q172722</td>\n",
       "      <td>Renault F1 Team</td>\n",
       "      <td>1</td>\n",
       "      <td>formula one team</td>\n",
       "      <td>1941-1970</td>\n",
       "      <td>[formula one team]</td>\n",
       "    </tr>\n",
       "    <tr>\n",
       "      <th>10</th>\n",
       "      <td>http://www.wikidata.org/entity/Q516070</td>\n",
       "      <td>Alberto Colombo</td>\n",
       "      <td>1946</td>\n",
       "      <td>membership</td>\n",
       "      <td>http://www.wikidata.org/entity/Q172577</td>\n",
       "      <td>Merzario</td>\n",
       "      <td>1</td>\n",
       "      <td>formula one team</td>\n",
       "      <td>1941-1970</td>\n",
       "      <td>[formula one team]</td>\n",
       "    </tr>\n",
       "  </tbody>\n",
       "</table>\n",
       "</div>"
      ],
      "text/plain": [
       "                                    uriPer         labelPer  birthYear  \\\n",
       "1   http://www.wikidata.org/entity/Q171456    Adrián Campos       1960   \n",
       "5    http://www.wikidata.org/entity/Q10494      Alain Prost       1955   \n",
       "10  http://www.wikidata.org/entity/Q516070  Alberto Colombo       1946   \n",
       "\n",
       "      relaType                                   uriOrg         labelOrg  \\\n",
       "1   membership  http://www.wikidata.org/entity/Q5559629         Bravo F1   \n",
       "5   membership   http://www.wikidata.org/entity/Q172722  Renault F1 Team   \n",
       "10  membership   http://www.wikidata.org/entity/Q172577         Merzario   \n",
       "\n",
       "   nTypes          typesOrg    periods        listTypesOrg  \n",
       "1       1  auto racing team  1941-1970  [auto racing team]  \n",
       "5       1  formula one team  1941-1970  [formula one team]  \n",
       "10      1  formula one team  1941-1970  [formula one team]  "
      ]
     },
     "execution_count": 37,
     "metadata": {},
     "output_type": "execute_result"
    }
   ],
   "source": [
    "## Rebuild the sorted original texts after sorting\n",
    "df_p['typesOrg'] = df_p.listTypesOrg.apply(lambda x : ' | '.join(x))\n",
    "df_p.iloc[[1,5,10]]\n"
   ]
  },
  {
   "cell_type": "markdown",
   "metadata": {},
   "source": [
    "#### Organisations' types distribution"
   ]
  },
  {
   "cell_type": "code",
   "execution_count": 38,
   "metadata": {},
   "outputs": [
    {
     "name": "stdout",
     "output_type": "stream",
     "text": [
      "typesOrg\n",
      "formula one team                              221\n",
      "auto racing team                               72\n",
      "formula one team | organization                53\n",
      "automobile manufacturer | formula one team     22\n",
      "formula one team | racecar constructor         22\n",
      "auto racing team | stable                      17\n",
      "business | formula one team | organization      6\n",
      "formula one team | stable                       5\n",
      "auto racing team | automobile manufacturer      4\n",
      "formula one team | sports organization          3\n",
      "dtype: int64\n"
     ]
    }
   ],
   "source": [
    "print(df_p.groupby('typesOrg').size().sort_values(ascending=False).iloc[:10])"
   ]
  },
  {
   "cell_type": "markdown",
   "metadata": {},
   "source": [
    "#### Save dataframe to CSV"
   ]
  },
  {
   "cell_type": "code",
   "execution_count": 39,
   "metadata": {},
   "outputs": [],
   "source": [
    "file_add = 'data/persons_organisations_from_organisations.csv'\n",
    "df_p.to_csv(file_add, index=False, sep=',', quotechar='\"')"
   ]
  },
  {
   "cell_type": "markdown",
   "metadata": {},
   "source": [
    "## Types of organisations\n",
    "\n",
    "Property **wdt:P31 instance of**\n",
    "\n",
    "\n",
    "We are trying to figure out if we can use these types to distinguish and categorise organisations. We will introduce high-level, research-driven classes that primarily serve a heuristic function and express no objective point of view."
   ]
  },
  {
   "cell_type": "code",
   "execution_count": 40,
   "metadata": {},
   "outputs": [
    {
     "data": {
      "text/html": [
       "<div>\n",
       "<style scoped>\n",
       "    .dataframe tbody tr th:only-of-type {\n",
       "        vertical-align: middle;\n",
       "    }\n",
       "\n",
       "    .dataframe tbody tr th {\n",
       "        vertical-align: top;\n",
       "    }\n",
       "\n",
       "    .dataframe thead th {\n",
       "        text-align: right;\n",
       "    }\n",
       "</style>\n",
       "<table border=\"1\" class=\"dataframe\">\n",
       "  <thead>\n",
       "    <tr style=\"text-align: right;\">\n",
       "      <th></th>\n",
       "      <th>typesOrg</th>\n",
       "      <th>number</th>\n",
       "      <th>numberOrg</th>\n",
       "    </tr>\n",
       "  </thead>\n",
       "  <tbody>\n",
       "    <tr>\n",
       "      <th>0</th>\n",
       "      <td>formula one team</td>\n",
       "      <td>221</td>\n",
       "      <td>1</td>\n",
       "    </tr>\n",
       "    <tr>\n",
       "      <th>1</th>\n",
       "      <td>auto racing team</td>\n",
       "      <td>72</td>\n",
       "      <td>1</td>\n",
       "    </tr>\n",
       "    <tr>\n",
       "      <th>2</th>\n",
       "      <td>formula one team | organization</td>\n",
       "      <td>53</td>\n",
       "      <td>2</td>\n",
       "    </tr>\n",
       "    <tr>\n",
       "      <th>3</th>\n",
       "      <td>automobile manufacturer | formula one team</td>\n",
       "      <td>22</td>\n",
       "      <td>2</td>\n",
       "    </tr>\n",
       "    <tr>\n",
       "      <th>4</th>\n",
       "      <td>formula one team | racecar constructor</td>\n",
       "      <td>22</td>\n",
       "      <td>2</td>\n",
       "    </tr>\n",
       "    <tr>\n",
       "      <th>5</th>\n",
       "      <td>auto racing team | stable</td>\n",
       "      <td>17</td>\n",
       "      <td>2</td>\n",
       "    </tr>\n",
       "    <tr>\n",
       "      <th>6</th>\n",
       "      <td>business | formula one team | organization</td>\n",
       "      <td>6</td>\n",
       "      <td>3</td>\n",
       "    </tr>\n",
       "    <tr>\n",
       "      <th>7</th>\n",
       "      <td>formula one team | stable</td>\n",
       "      <td>5</td>\n",
       "      <td>2</td>\n",
       "    </tr>\n",
       "    <tr>\n",
       "      <th>8</th>\n",
       "      <td>auto racing team | automobile manufacturer</td>\n",
       "      <td>4</td>\n",
       "      <td>2</td>\n",
       "    </tr>\n",
       "    <tr>\n",
       "      <th>9</th>\n",
       "      <td>formula one team | sports organization</td>\n",
       "      <td>3</td>\n",
       "      <td>2</td>\n",
       "    </tr>\n",
       "  </tbody>\n",
       "</table>\n",
       "</div>"
      ],
      "text/plain": [
       "                                     typesOrg  number  numberOrg\n",
       "0                            formula one team     221          1\n",
       "1                            auto racing team      72          1\n",
       "2             formula one team | organization      53          2\n",
       "3  automobile manufacturer | formula one team      22          2\n",
       "4      formula one team | racecar constructor      22          2\n",
       "5                   auto racing team | stable      17          2\n",
       "6  business | formula one team | organization       6          3\n",
       "7                   formula one team | stable       5          2\n",
       "8  auto racing team | automobile manufacturer       4          2\n",
       "9      formula one team | sports organization       3          2"
      ]
     },
     "execution_count": 40,
     "metadata": {},
     "output_type": "execute_result"
    }
   ],
   "source": [
    "### Inspect the available composed types\n",
    "df_types = pd.DataFrame(df_p.groupby('typesOrg').size().sort_values(ascending=False))\n",
    "df_types.reset_index(inplace=True)\n",
    "df_types.columns=['typesOrg', 'number']\n",
    "df_types['numberOrg'] = df_types.typesOrg.apply( lambda x: len(x.split('|')))\n",
    "df_types.iloc[:10]"
   ]
  },
  {
   "cell_type": "code",
   "execution_count": 41,
   "metadata": {},
   "outputs": [],
   "source": [
    "### Print to CSV in order to inspect the data\n",
    "csv_file='Data/network_organisations_types_groups.csv'\n",
    "df_types.to_csv(csv_file)"
   ]
  },
  {
   "cell_type": "markdown",
   "metadata": {},
   "source": [
    "### Add organisation main type"
   ]
  },
  {
   "cell_type": "code",
   "execution_count": 42,
   "metadata": {},
   "outputs": [
    {
     "data": {
      "text/html": [
       "<div>\n",
       "<style scoped>\n",
       "    .dataframe tbody tr th:only-of-type {\n",
       "        vertical-align: middle;\n",
       "    }\n",
       "\n",
       "    .dataframe tbody tr th {\n",
       "        vertical-align: top;\n",
       "    }\n",
       "\n",
       "    .dataframe thead th {\n",
       "        text-align: right;\n",
       "    }\n",
       "</style>\n",
       "<table border=\"1\" class=\"dataframe\">\n",
       "  <thead>\n",
       "    <tr style=\"text-align: right;\">\n",
       "      <th></th>\n",
       "      <th>uriPer</th>\n",
       "      <th>labelPer</th>\n",
       "      <th>birthYear</th>\n",
       "      <th>relaType</th>\n",
       "      <th>uriOrg</th>\n",
       "      <th>labelOrg</th>\n",
       "      <th>nTypes</th>\n",
       "      <th>typesOrg</th>\n",
       "      <th>periods</th>\n",
       "      <th>listTypesOrg</th>\n",
       "    </tr>\n",
       "  </thead>\n",
       "  <tbody>\n",
       "    <tr>\n",
       "      <th>0</th>\n",
       "      <td>http://www.wikidata.org/entity/Q171456</td>\n",
       "      <td>Adrián Campos</td>\n",
       "      <td>1960</td>\n",
       "      <td>membership</td>\n",
       "      <td>http://www.wikidata.org/entity/Q1031592</td>\n",
       "      <td>Campos Racing</td>\n",
       "      <td>1</td>\n",
       "      <td>auto racing team</td>\n",
       "      <td>1941-1970</td>\n",
       "      <td>[auto racing team]</td>\n",
       "    </tr>\n",
       "  </tbody>\n",
       "</table>\n",
       "</div>"
      ],
      "text/plain": [
       "                                   uriPer       labelPer  birthYear  \\\n",
       "0  http://www.wikidata.org/entity/Q171456  Adrián Campos       1960   \n",
       "\n",
       "     relaType                                   uriOrg       labelOrg nTypes  \\\n",
       "0  membership  http://www.wikidata.org/entity/Q1031592  Campos Racing      1   \n",
       "\n",
       "           typesOrg    periods        listTypesOrg  \n",
       "0  auto racing team  1941-1970  [auto racing team]  "
      ]
     },
     "execution_count": 42,
     "metadata": {},
     "output_type": "execute_result"
    }
   ],
   "source": [
    "### Inspect the data\n",
    "df_p.head(1)"
   ]
  },
  {
   "cell_type": "code",
   "execution_count": 43,
   "metadata": {},
   "outputs": [],
   "source": [
    "def code_organisation_main_type(x: str) -> str:\n",
    "    x = x.lower() if x else ''\n",
    "    val = ''\n",
    "\n",
    "    # ——— 1. nouvelles catégories « racing team / manufacturer » ———\n",
    "    if ('formula one team' in x or\n",
    "        'auto racing team' in x or\n",
    "        'racecar constructor' in x or\n",
    "        'racing team' in x or\n",
    "        'stable' in x):\n",
    "        val = 'racing team'\n",
    "    elif 'automobile manufacturer' in x or 'motor vehicle manufacturer' in x:\n",
    "        val = 'manufacturer'\n",
    "\n",
    "    # ——— 2. toutes tes règles d’origine inchangées ———\n",
    "    elif 'institute of technol' in x or 'polyt' in x:\n",
    "        val = 'institute of technology'\n",
    "    elif 'observato' in x:\n",
    "        val = 'astronomical observatory'\n",
    "    elif ('public university' in x or 'école normale sup' in x or\n",
    "          'grande école' in x or 'grand établissement' in x):\n",
    "        val = 'public university'\n",
    "    elif 'private university' in x:\n",
    "        val = 'private university'\n",
    "    elif 'university' in x:\n",
    "        val = 'university'\n",
    "    elif ('educational inst' in x or 'military academy' in x or\n",
    "          'naval academy' in x or 'art academy' in x or\n",
    "          'college' in x or 'gymnas' in x or 'higher education' in x or\n",
    "          'school' in x or 'academic institution' in x):\n",
    "        val = 'educational institution'\n",
    "    elif 'faculty' in x or 'academic dep' in x:\n",
    "        val = 'university'         # autre option : 'faculty'\n",
    "    elif 'learned society' in x or 'society' in x:\n",
    "        val = 'learned society'\n",
    "    elif 'academy of sciences' in x:\n",
    "        val = 'academy of sciences'\n",
    "    elif ('research institute' in x or 'max planck' in x or\n",
    "          'institute' in x or 'research' in x):\n",
    "        val = 'research organisation'\n",
    "    elif 'laboratory' in x or 'facility' in x:\n",
    "        val = 'research facility'\n",
    "    elif ('scientific society' in x or 'scientific organisation' in x or\n",
    "          'scientific organization' in x or 'museum' in x or\n",
    "          'nonprofit organization' in x or 'national academy' in x):\n",
    "        val = 'scientific organisation'\n",
    "    elif 'academy' in x:\n",
    "        val = 'learned society'\n",
    "    elif ('company' in x or 'business' in x or 'entrepr' in x or\n",
    "          'government' in x or 'publish' in x or 'journal' in x or\n",
    "          'periodical' in x):\n",
    "        val = 'company or gov. agency'\n",
    "    else:\n",
    "        val = 'not classified organisation'\n",
    "\n",
    "    return val\n",
    "    "
   ]
  },
  {
   "cell_type": "code",
   "execution_count": 44,
   "metadata": {},
   "outputs": [
    {
     "data": {
      "text/html": [
       "<div>\n",
       "<style scoped>\n",
       "    .dataframe tbody tr th:only-of-type {\n",
       "        vertical-align: middle;\n",
       "    }\n",
       "\n",
       "    .dataframe tbody tr th {\n",
       "        vertical-align: top;\n",
       "    }\n",
       "\n",
       "    .dataframe thead th {\n",
       "        text-align: right;\n",
       "    }\n",
       "</style>\n",
       "<table border=\"1\" class=\"dataframe\">\n",
       "  <thead>\n",
       "    <tr style=\"text-align: right;\">\n",
       "      <th></th>\n",
       "      <th>uriPer</th>\n",
       "      <th>labelPer</th>\n",
       "      <th>birthYear</th>\n",
       "      <th>relaType</th>\n",
       "      <th>uriOrg</th>\n",
       "      <th>labelOrg</th>\n",
       "      <th>nTypes</th>\n",
       "      <th>typesOrg</th>\n",
       "      <th>periods</th>\n",
       "      <th>listTypesOrg</th>\n",
       "      <th>orgMainType</th>\n",
       "    </tr>\n",
       "  </thead>\n",
       "  <tbody>\n",
       "    <tr>\n",
       "      <th>7</th>\n",
       "      <td>http://www.wikidata.org/entity/Q172753</td>\n",
       "      <td>Alan Jones</td>\n",
       "      <td>1946</td>\n",
       "      <td>membership</td>\n",
       "      <td>http://www.wikidata.org/entity/Q173879</td>\n",
       "      <td>Shadow Racing Cars</td>\n",
       "      <td>1</td>\n",
       "      <td>formula one team</td>\n",
       "      <td>1941-1970</td>\n",
       "      <td>[formula one team]</td>\n",
       "      <td>racing team</td>\n",
       "    </tr>\n",
       "    <tr>\n",
       "      <th>8</th>\n",
       "      <td>http://www.wikidata.org/entity/Q172753</td>\n",
       "      <td>Alan Jones</td>\n",
       "      <td>1946</td>\n",
       "      <td>membership</td>\n",
       "      <td>http://www.wikidata.org/entity/Q171337</td>\n",
       "      <td>Williams Racing</td>\n",
       "      <td>2</td>\n",
       "      <td>formula one team | racecar constructor</td>\n",
       "      <td>1941-1970</td>\n",
       "      <td>[formula one team, racecar constructor]</td>\n",
       "      <td>racing team</td>\n",
       "    </tr>\n",
       "    <tr>\n",
       "      <th>9</th>\n",
       "      <td>http://www.wikidata.org/entity/Q172753</td>\n",
       "      <td>Alan Jones</td>\n",
       "      <td>1946</td>\n",
       "      <td>membership</td>\n",
       "      <td>http://www.wikidata.org/entity/Q173306</td>\n",
       "      <td>Surtees</td>\n",
       "      <td>1</td>\n",
       "      <td>formula one team</td>\n",
       "      <td>1941-1970</td>\n",
       "      <td>[formula one team]</td>\n",
       "      <td>racing team</td>\n",
       "    </tr>\n",
       "  </tbody>\n",
       "</table>\n",
       "</div>"
      ],
      "text/plain": [
       "                                   uriPer    labelPer  birthYear    relaType  \\\n",
       "7  http://www.wikidata.org/entity/Q172753  Alan Jones       1946  membership   \n",
       "8  http://www.wikidata.org/entity/Q172753  Alan Jones       1946  membership   \n",
       "9  http://www.wikidata.org/entity/Q172753  Alan Jones       1946  membership   \n",
       "\n",
       "                                   uriOrg            labelOrg nTypes  \\\n",
       "7  http://www.wikidata.org/entity/Q173879  Shadow Racing Cars      1   \n",
       "8  http://www.wikidata.org/entity/Q171337     Williams Racing      2   \n",
       "9  http://www.wikidata.org/entity/Q173306             Surtees      1   \n",
       "\n",
       "                                 typesOrg    periods  \\\n",
       "7                        formula one team  1941-1970   \n",
       "8  formula one team | racecar constructor  1941-1970   \n",
       "9                        formula one team  1941-1970   \n",
       "\n",
       "                              listTypesOrg  orgMainType  \n",
       "7                       [formula one team]  racing team  \n",
       "8  [formula one team, racecar constructor]  racing team  \n",
       "9                       [formula one team]  racing team  "
      ]
     },
     "execution_count": 44,
     "metadata": {},
     "output_type": "execute_result"
    }
   ],
   "source": [
    "df_p['orgMainType'] = df_p['typesOrg'].apply(lambda x : code_organisation_main_type(x))\n",
    "df_p.iloc[7:10]"
   ]
  },
  {
   "cell_type": "code",
   "execution_count": 45,
   "metadata": {},
   "outputs": [
    {
     "data": {
      "text/html": [
       "<div>\n",
       "<style scoped>\n",
       "    .dataframe tbody tr th:only-of-type {\n",
       "        vertical-align: middle;\n",
       "    }\n",
       "\n",
       "    .dataframe tbody tr th {\n",
       "        vertical-align: top;\n",
       "    }\n",
       "\n",
       "    .dataframe thead th {\n",
       "        text-align: right;\n",
       "    }\n",
       "</style>\n",
       "<table border=\"1\" class=\"dataframe\">\n",
       "  <thead>\n",
       "    <tr style=\"text-align: right;\">\n",
       "      <th></th>\n",
       "      <th>mainType</th>\n",
       "      <th>number</th>\n",
       "    </tr>\n",
       "  </thead>\n",
       "  <tbody>\n",
       "    <tr>\n",
       "      <th>2</th>\n",
       "      <td>racing team</td>\n",
       "      <td>433</td>\n",
       "    </tr>\n",
       "    <tr>\n",
       "      <th>1</th>\n",
       "      <td>not classified organisation</td>\n",
       "      <td>7</td>\n",
       "    </tr>\n",
       "    <tr>\n",
       "      <th>0</th>\n",
       "      <td>company or gov. agency</td>\n",
       "      <td>2</td>\n",
       "    </tr>\n",
       "  </tbody>\n",
       "</table>\n",
       "</div>"
      ],
      "text/plain": [
       "                      mainType  number\n",
       "2                  racing team     433\n",
       "1  not classified organisation       7\n",
       "0       company or gov. agency       2"
      ]
     },
     "execution_count": 45,
     "metadata": {},
     "output_type": "execute_result"
    }
   ],
   "source": [
    "df_mainTypes = pd.DataFrame(df_p.groupby(by='orgMainType', as_index=False).size().sort_values(by='size',ascending=False))\n",
    "df_mainTypes.columns=['mainType', 'number']\n",
    "df_mainTypes"
   ]
  },
  {
   "cell_type": "code",
   "execution_count": 46,
   "metadata": {},
   "outputs": [
    {
     "data": {
      "text/html": [
       "<div>\n",
       "<style scoped>\n",
       "    .dataframe tbody tr th:only-of-type {\n",
       "        vertical-align: middle;\n",
       "    }\n",
       "\n",
       "    .dataframe tbody tr th {\n",
       "        vertical-align: top;\n",
       "    }\n",
       "\n",
       "    .dataframe thead th {\n",
       "        text-align: right;\n",
       "    }\n",
       "</style>\n",
       "<table border=\"1\" class=\"dataframe\">\n",
       "  <thead>\n",
       "    <tr style=\"text-align: right;\">\n",
       "      <th></th>\n",
       "      <th>typesOrg</th>\n",
       "      <th>orgMainType</th>\n",
       "      <th>number</th>\n",
       "      <th>numberOrg</th>\n",
       "    </tr>\n",
       "  </thead>\n",
       "  <tbody>\n",
       "    <tr>\n",
       "      <th>18</th>\n",
       "      <td>formula one team | stable</td>\n",
       "      <td>racing team</td>\n",
       "      <td>5</td>\n",
       "      <td>2</td>\n",
       "    </tr>\n",
       "    <tr>\n",
       "      <th>2</th>\n",
       "      <td>auto racing team | automobile manufacturer</td>\n",
       "      <td>racing team</td>\n",
       "      <td>4</td>\n",
       "      <td>2</td>\n",
       "    </tr>\n",
       "    <tr>\n",
       "      <th>17</th>\n",
       "      <td>formula one team | sports organization</td>\n",
       "      <td>racing team</td>\n",
       "      <td>3</td>\n",
       "      <td>2</td>\n",
       "    </tr>\n",
       "  </tbody>\n",
       "</table>\n",
       "</div>"
      ],
      "text/plain": [
       "                                      typesOrg  orgMainType  number  numberOrg\n",
       "18                   formula one team | stable  racing team       5          2\n",
       "2   auto racing team | automobile manufacturer  racing team       4          2\n",
       "17      formula one team | sports organization  racing team       3          2"
      ]
     },
     "execution_count": 46,
     "metadata": {},
     "output_type": "execute_result"
    }
   ],
   "source": [
    "### Inspect the available composed types\n",
    "df_types = pd.DataFrame(df_p.groupby(['typesOrg', 'orgMainType'], as_index=False).\\\n",
    "                        size().sort_values(by='size',ascending=False))\n",
    "df_types.columns=['typesOrg', 'orgMainType', 'number']\n",
    "df_types['numberOrg'] = df_types.typesOrg.apply( lambda x: len(x.split('|')))\n",
    "### Print to CSV in order to inspect the data\n",
    "csv_file='Data/network_organisations_with_main_types_groups.csv'\n",
    "df_types.to_csv(csv_file)\n",
    "\n",
    "df_types.iloc[7:10]"
   ]
  },
  {
   "cell_type": "markdown",
   "metadata": {},
   "source": [
    "#### 'Manual' corrections and classification improvements\n",
    "\n",
    "In some cases, instpecting the organisations shows that the provided classification is not suitable and should be replaced:\n",
    "\n",
    "Academia Europaea, ...\n",
    "\n",
    "We provide this example merely to illustrate the point; further work would be required, but this is beyond the scope of this exercise."
   ]
  },
  {
   "cell_type": "code",
   "execution_count": 47,
   "metadata": {},
   "outputs": [
    {
     "data": {
      "text/html": [
       "<div>\n",
       "<style scoped>\n",
       "    .dataframe tbody tr th:only-of-type {\n",
       "        vertical-align: middle;\n",
       "    }\n",
       "\n",
       "    .dataframe tbody tr th {\n",
       "        vertical-align: top;\n",
       "    }\n",
       "\n",
       "    .dataframe thead th {\n",
       "        text-align: right;\n",
       "    }\n",
       "</style>\n",
       "<table border=\"1\" class=\"dataframe\">\n",
       "  <thead>\n",
       "    <tr style=\"text-align: right;\">\n",
       "      <th></th>\n",
       "      <th>uriPer</th>\n",
       "      <th>labelPer</th>\n",
       "      <th>birthYear</th>\n",
       "      <th>relaType</th>\n",
       "      <th>uriOrg</th>\n",
       "      <th>labelOrg</th>\n",
       "      <th>nTypes</th>\n",
       "      <th>typesOrg</th>\n",
       "      <th>periods</th>\n",
       "      <th>listTypesOrg</th>\n",
       "      <th>orgMainType</th>\n",
       "    </tr>\n",
       "  </thead>\n",
       "  <tbody>\n",
       "  </tbody>\n",
       "</table>\n",
       "</div>"
      ],
      "text/plain": [
       "Empty DataFrame\n",
       "Columns: [uriPer, labelPer, birthYear, relaType, uriOrg, labelOrg, nTypes, typesOrg, periods, listTypesOrg, orgMainType]\n",
       "Index: []"
      ]
     },
     "execution_count": 47,
     "metadata": {},
     "output_type": "execute_result"
    }
   ],
   "source": [
    "### Please note the warning and the orders fo the filter, after (!) the column \n",
    "\"\"\"\n",
    "Do not use:\n",
    "df[\"col\"][row_indexer] = value\n",
    "\n",
    "Use `df.loc[row_indexer, \"col\"] = values` instead, to perform the assignment in a single step and ensure this keeps updating the original `df`.\n",
    "See the caveats in the documentation: https://pandas.pydata.org/pandas-docs/stable/user_guide/indexing.html#returning-a-view-versus-a-copy\n",
    "\"\"\"\n",
    "\n",
    "df_p.loc[df_p.uriOrg == 'http://www.wikidata.org/entity/Q337234', 'orgMainType'] = 'research organisation'\n",
    "df_p[df_p.labelOrg.str.contains('Europaea')].head(2)\n",
    "\n"
   ]
  },
  {
   "cell_type": "markdown",
   "metadata": {},
   "source": [
    "# Create graphs"
   ]
  },
  {
   "cell_type": "code",
   "execution_count": 48,
   "metadata": {},
   "outputs": [
    {
     "name": "stdout",
     "output_type": "stream",
     "text": [
      "relaType\n",
      "membership    442\n",
      "dtype: int64\n"
     ]
    }
   ],
   "source": [
    "### Available relationships\n",
    "print(df_p.groupby(by='relaType').size())"
   ]
  },
  {
   "cell_type": "markdown",
   "metadata": {},
   "source": [
    "### Prepare the dataframe"
   ]
  },
  {
   "cell_type": "code",
   "execution_count": 49,
   "metadata": {},
   "outputs": [
    {
     "name": "stdout",
     "output_type": "stream",
     "text": [
      "442\n"
     ]
    }
   ],
   "source": [
    "### Select the columns that will be used\n",
    "df_prep = df_p[['uriPer','labelPer','birthYear','uriOrg', 'labelOrg', 'typesOrg', 'orgMainType', 'relaType', 'periods']].copy(deep=True)\n",
    "print(len(df_prep))"
   ]
  },
  {
   "cell_type": "markdown",
   "metadata": {},
   "source": [
    "### Features of organisations"
   ]
  },
  {
   "cell_type": "markdown",
   "metadata": {},
   "source": [
    "#### General grouping\n",
    "\n",
    "\n",
    "We first group by organisations, counting all relationships of persons which provides the total degree or number of members over the whole time "
   ]
  },
  {
   "cell_type": "code",
   "execution_count": 50,
   "metadata": {},
   "outputs": [
    {
     "data": {
      "text/html": [
       "<div>\n",
       "<style scoped>\n",
       "    .dataframe tbody tr th:only-of-type {\n",
       "        vertical-align: middle;\n",
       "    }\n",
       "\n",
       "    .dataframe tbody tr th {\n",
       "        vertical-align: top;\n",
       "    }\n",
       "\n",
       "    .dataframe thead th {\n",
       "        text-align: right;\n",
       "    }\n",
       "</style>\n",
       "<table border=\"1\" class=\"dataframe\">\n",
       "  <thead>\n",
       "    <tr style=\"text-align: right;\">\n",
       "      <th></th>\n",
       "      <th>uriOrg</th>\n",
       "      <th>labelOrg</th>\n",
       "      <th>typesOrg</th>\n",
       "      <th>orgMainType</th>\n",
       "      <th>tot_members_number</th>\n",
       "    </tr>\n",
       "  </thead>\n",
       "  <tbody>\n",
       "    <tr>\n",
       "      <th>21</th>\n",
       "      <td>http://www.wikidata.org/entity/Q169898</td>\n",
       "      <td>Scuderia Ferrari</td>\n",
       "      <td>formula one team</td>\n",
       "      <td>racing team</td>\n",
       "      <td>23</td>\n",
       "    </tr>\n",
       "    <tr>\n",
       "      <th>132</th>\n",
       "      <td>http://www.wikidata.org/entity/Q622489</td>\n",
       "      <td>Alfa Romeo Racing</td>\n",
       "      <td>formula one team | organization</td>\n",
       "      <td>racing team</td>\n",
       "      <td>23</td>\n",
       "    </tr>\n",
       "    <tr>\n",
       "      <th>25</th>\n",
       "      <td>http://www.wikidata.org/entity/Q171337</td>\n",
       "      <td>Williams Racing</td>\n",
       "      <td>formula one team | racecar constructor</td>\n",
       "      <td>racing team</td>\n",
       "      <td>22</td>\n",
       "    </tr>\n",
       "    <tr>\n",
       "      <th>34</th>\n",
       "      <td>http://www.wikidata.org/entity/Q172030</td>\n",
       "      <td>McLaren</td>\n",
       "      <td>formula one team | organization</td>\n",
       "      <td>racing team</td>\n",
       "      <td>19</td>\n",
       "    </tr>\n",
       "    <tr>\n",
       "      <th>77</th>\n",
       "      <td>http://www.wikidata.org/entity/Q173996</td>\n",
       "      <td>Team Lotus</td>\n",
       "      <td>auto racing team | stable</td>\n",
       "      <td>racing team</td>\n",
       "      <td>17</td>\n",
       "    </tr>\n",
       "    <tr>\n",
       "      <th>51</th>\n",
       "      <td>http://www.wikidata.org/entity/Q173012</td>\n",
       "      <td>British Racing Motors</td>\n",
       "      <td>formula one team</td>\n",
       "      <td>racing team</td>\n",
       "      <td>15</td>\n",
       "    </tr>\n",
       "    <tr>\n",
       "      <th>50</th>\n",
       "      <td>http://www.wikidata.org/entity/Q173003</td>\n",
       "      <td>Cooper Car Company</td>\n",
       "      <td>automobile manufacturer | formula one team</td>\n",
       "      <td>racing team</td>\n",
       "      <td>13</td>\n",
       "    </tr>\n",
       "    <tr>\n",
       "      <th>42</th>\n",
       "      <td>http://www.wikidata.org/entity/Q172722</td>\n",
       "      <td>Renault F1 Team</td>\n",
       "      <td>formula one team</td>\n",
       "      <td>racing team</td>\n",
       "      <td>11</td>\n",
       "    </tr>\n",
       "    <tr>\n",
       "      <th>55</th>\n",
       "      <td>http://www.wikidata.org/entity/Q173103</td>\n",
       "      <td>Brabham</td>\n",
       "      <td>formula one team</td>\n",
       "      <td>racing team</td>\n",
       "      <td>10</td>\n",
       "    </tr>\n",
       "    <tr>\n",
       "      <th>71</th>\n",
       "      <td>http://www.wikidata.org/entity/Q173762</td>\n",
       "      <td>Scuderia Centro Sud</td>\n",
       "      <td>formula one team</td>\n",
       "      <td>racing team</td>\n",
       "      <td>10</td>\n",
       "    </tr>\n",
       "  </tbody>\n",
       "</table>\n",
       "</div>"
      ],
      "text/plain": [
       "                                     uriOrg               labelOrg  \\\n",
       "21   http://www.wikidata.org/entity/Q169898       Scuderia Ferrari   \n",
       "132  http://www.wikidata.org/entity/Q622489      Alfa Romeo Racing   \n",
       "25   http://www.wikidata.org/entity/Q171337        Williams Racing   \n",
       "34   http://www.wikidata.org/entity/Q172030                McLaren   \n",
       "77   http://www.wikidata.org/entity/Q173996             Team Lotus   \n",
       "51   http://www.wikidata.org/entity/Q173012  British Racing Motors   \n",
       "50   http://www.wikidata.org/entity/Q173003     Cooper Car Company   \n",
       "42   http://www.wikidata.org/entity/Q172722        Renault F1 Team   \n",
       "55   http://www.wikidata.org/entity/Q173103                Brabham   \n",
       "71   http://www.wikidata.org/entity/Q173762    Scuderia Centro Sud   \n",
       "\n",
       "                                       typesOrg  orgMainType  \\\n",
       "21                             formula one team  racing team   \n",
       "132             formula one team | organization  racing team   \n",
       "25       formula one team | racecar constructor  racing team   \n",
       "34              formula one team | organization  racing team   \n",
       "77                    auto racing team | stable  racing team   \n",
       "51                             formula one team  racing team   \n",
       "50   automobile manufacturer | formula one team  racing team   \n",
       "42                             formula one team  racing team   \n",
       "55                             formula one team  racing team   \n",
       "71                             formula one team  racing team   \n",
       "\n",
       "     tot_members_number  \n",
       "21                   23  \n",
       "132                  23  \n",
       "25                   22  \n",
       "34                   19  \n",
       "77                   17  \n",
       "51                   15  \n",
       "50                   13  \n",
       "42                   11  \n",
       "55                   10  \n",
       "71                   10  "
      ]
     },
     "execution_count": 50,
     "metadata": {},
     "output_type": "execute_result"
    }
   ],
   "source": [
    "### Memberships by organisations\n",
    "df_org = pd.DataFrame(df_prep.groupby(['uriOrg', 'labelOrg', 'typesOrg','orgMainType'],as_index=False).size())\n",
    "df_org.columns=['uriOrg', 'labelOrg', 'typesOrg', 'orgMainType','tot_members_number']\n",
    "df_org.sort_values('tot_members_number',ascending=False).iloc[:10]"
   ]
  },
  {
   "cell_type": "code",
   "execution_count": 51,
   "metadata": {},
   "outputs": [],
   "source": [
    "### Save list of organisations as CSV\n",
    "csv_file='Data/network_organisations_with_main_type_and_number.csv'\n",
    "df_org.sort_values('tot_members_number',ascending=False).to_csv(csv_file)"
   ]
  },
  {
   "cell_type": "markdown",
   "metadata": {},
   "source": [
    "#### Group by period\n",
    "\n",
    "We then group by heuristic period (or generation)"
   ]
  },
  {
   "cell_type": "code",
   "execution_count": 52,
   "metadata": {},
   "outputs": [
    {
     "name": "stderr",
     "output_type": "stream",
     "text": [
      "C:\\Users\\berna\\AppData\\Local\\Temp\\ipykernel_15636\\422249010.py:1: FutureWarning: The default of observed=False is deprecated and will be changed to True in a future version of pandas. Pass observed=False to retain current behavior or observed=True to adopt the future default and silence this warning.\n",
      "  df_orgPeriod = pd.DataFrame(df_prep.groupby(['uriOrg', 'labelOrg', 'orgMainType', 'periods']).size(), columns=['period_members_number'])\n"
     ]
    },
    {
     "data": {
      "text/html": [
       "<div>\n",
       "<style scoped>\n",
       "    .dataframe tbody tr th:only-of-type {\n",
       "        vertical-align: middle;\n",
       "    }\n",
       "\n",
       "    .dataframe tbody tr th {\n",
       "        vertical-align: top;\n",
       "    }\n",
       "\n",
       "    .dataframe thead th {\n",
       "        text-align: right;\n",
       "    }\n",
       "</style>\n",
       "<table border=\"1\" class=\"dataframe\">\n",
       "  <thead>\n",
       "    <tr style=\"text-align: right;\">\n",
       "      <th></th>\n",
       "      <th>uriOrg</th>\n",
       "      <th>labelOrg</th>\n",
       "      <th>orgMainType</th>\n",
       "      <th>periods</th>\n",
       "      <th>period_members_number</th>\n",
       "    </tr>\n",
       "  </thead>\n",
       "  <tbody>\n",
       "    <tr>\n",
       "      <th>0</th>\n",
       "      <td>http://www.wikidata.org/entity/Q1029684</td>\n",
       "      <td>A1 Team Germany</td>\n",
       "      <td>company or gov. agency</td>\n",
       "      <td>1751-1810</td>\n",
       "      <td>0</td>\n",
       "    </tr>\n",
       "    <tr>\n",
       "      <th>468391</th>\n",
       "      <td>http://www.wikidata.org/entity/Q8052439</td>\n",
       "      <td>Scuderia Centro Sud</td>\n",
       "      <td>not classified organisation</td>\n",
       "      <td>1751-1810</td>\n",
       "      <td>0</td>\n",
       "    </tr>\n",
       "    <tr>\n",
       "      <th>184856</th>\n",
       "      <td>http://www.wikidata.org/entity/Q173177</td>\n",
       "      <td>Manor Motorsport</td>\n",
       "      <td>racing team</td>\n",
       "      <td>1751-1810</td>\n",
       "      <td>0</td>\n",
       "    </tr>\n",
       "    <tr>\n",
       "      <th>184849</th>\n",
       "      <td>http://www.wikidata.org/entity/Q173177</td>\n",
       "      <td>Manor Motorsport</td>\n",
       "      <td>not classified organisation</td>\n",
       "      <td>1751-1810</td>\n",
       "      <td>0</td>\n",
       "    </tr>\n",
       "    <tr>\n",
       "      <th>184842</th>\n",
       "      <td>http://www.wikidata.org/entity/Q173177</td>\n",
       "      <td>Manor Motorsport</td>\n",
       "      <td>company or gov. agency</td>\n",
       "      <td>1751-1810</td>\n",
       "      <td>0</td>\n",
       "    </tr>\n",
       "  </tbody>\n",
       "</table>\n",
       "</div>"
      ],
      "text/plain": [
       "                                         uriOrg             labelOrg  \\\n",
       "0       http://www.wikidata.org/entity/Q1029684      A1 Team Germany   \n",
       "468391  http://www.wikidata.org/entity/Q8052439  Scuderia Centro Sud   \n",
       "184856   http://www.wikidata.org/entity/Q173177     Manor Motorsport   \n",
       "184849   http://www.wikidata.org/entity/Q173177     Manor Motorsport   \n",
       "184842   http://www.wikidata.org/entity/Q173177     Manor Motorsport   \n",
       "\n",
       "                        orgMainType    periods  period_members_number  \n",
       "0            company or gov. agency  1751-1810                      0  \n",
       "468391  not classified organisation  1751-1810                      0  \n",
       "184856                  racing team  1751-1810                      0  \n",
       "184849  not classified organisation  1751-1810                      0  \n",
       "184842       company or gov. agency  1751-1810                      0  "
      ]
     },
     "execution_count": 52,
     "metadata": {},
     "output_type": "execute_result"
    }
   ],
   "source": [
    "df_orgPeriod = pd.DataFrame(df_prep.groupby(['uriOrg', 'labelOrg', 'orgMainType', 'periods']).size(), columns=['period_members_number'])\n",
    "df_orgPeriod.reset_index(inplace=True)\n",
    "df_orgPeriod.sort_values(by='periods', ascending=True).head()"
   ]
  },
  {
   "cell_type": "code",
   "execution_count": 53,
   "metadata": {},
   "outputs": [
    {
     "data": {
      "text/html": [
       "<div>\n",
       "<style scoped>\n",
       "    .dataframe tbody tr th:only-of-type {\n",
       "        vertical-align: middle;\n",
       "    }\n",
       "\n",
       "    .dataframe tbody tr th {\n",
       "        vertical-align: top;\n",
       "    }\n",
       "\n",
       "    .dataframe thead th {\n",
       "        text-align: right;\n",
       "    }\n",
       "</style>\n",
       "<table border=\"1\" class=\"dataframe\">\n",
       "  <thead>\n",
       "    <tr style=\"text-align: right;\">\n",
       "      <th></th>\n",
       "      <th>uriOrg</th>\n",
       "      <th>labelOrg</th>\n",
       "      <th>orgMainType</th>\n",
       "      <th>periods</th>\n",
       "      <th>period_members_number</th>\n",
       "    </tr>\n",
       "  </thead>\n",
       "  <tbody>\n",
       "  </tbody>\n",
       "</table>\n",
       "</div>"
      ],
      "text/plain": [
       "Empty DataFrame\n",
       "Columns: [uriOrg, labelOrg, orgMainType, periods, period_members_number]\n",
       "Index: []"
      ]
     },
     "execution_count": 53,
     "metadata": {},
     "output_type": "execute_result"
    }
   ],
   "source": [
    "df_orgPeriod[df_orgPeriod.labelOrg=='AMOLF']"
   ]
  },
  {
   "cell_type": "markdown",
   "metadata": {},
   "source": [
    "#### Group by period and relationship type\n",
    "\n",
    "We then group by heuristic period (or generation) AND relationship type, i.e. which kind of relationship associates a person to an organisation in the bipartite network"
   ]
  },
  {
   "cell_type": "code",
   "execution_count": 54,
   "metadata": {},
   "outputs": [
    {
     "name": "stderr",
     "output_type": "stream",
     "text": [
      "C:\\Users\\berna\\AppData\\Local\\Temp\\ipykernel_15636\\2562625167.py:1: FutureWarning: The default of observed=False is deprecated and will be changed to True in a future version of pandas. Pass observed=False to retain current behavior or observed=True to adopt the future default and silence this warning.\n",
      "  df_orgPeriodRelType = pd.DataFrame(df_prep.groupby(['uriOrg', 'labelOrg', 'orgMainType', 'relaType', 'periods']).size(), columns=['period_members_number'])\n"
     ]
    },
    {
     "data": {
      "text/html": [
       "<div>\n",
       "<style scoped>\n",
       "    .dataframe tbody tr th:only-of-type {\n",
       "        vertical-align: middle;\n",
       "    }\n",
       "\n",
       "    .dataframe tbody tr th {\n",
       "        vertical-align: top;\n",
       "    }\n",
       "\n",
       "    .dataframe thead th {\n",
       "        text-align: right;\n",
       "    }\n",
       "</style>\n",
       "<table border=\"1\" class=\"dataframe\">\n",
       "  <thead>\n",
       "    <tr style=\"text-align: right;\">\n",
       "      <th></th>\n",
       "      <th>uriOrg</th>\n",
       "      <th>labelOrg</th>\n",
       "      <th>orgMainType</th>\n",
       "      <th>relaType</th>\n",
       "      <th>periods</th>\n",
       "      <th>period_members_number</th>\n",
       "    </tr>\n",
       "  </thead>\n",
       "  <tbody>\n",
       "    <tr>\n",
       "      <th>164385</th>\n",
       "      <td>http://www.wikidata.org/entity/Q173012</td>\n",
       "      <td>British Racing Motors</td>\n",
       "      <td>racing team</td>\n",
       "      <td>membership</td>\n",
       "      <td>1911-1940</td>\n",
       "      <td>12</td>\n",
       "    </tr>\n",
       "    <tr>\n",
       "      <th>161424</th>\n",
       "      <td>http://www.wikidata.org/entity/Q173003</td>\n",
       "      <td>Cooper Car Company</td>\n",
       "      <td>racing team</td>\n",
       "      <td>membership</td>\n",
       "      <td>1911-1940</td>\n",
       "      <td>12</td>\n",
       "    </tr>\n",
       "    <tr>\n",
       "      <th>83453</th>\n",
       "      <td>http://www.wikidata.org/entity/Q171337</td>\n",
       "      <td>Williams Racing</td>\n",
       "      <td>racing team</td>\n",
       "      <td>membership</td>\n",
       "      <td>1971-2000</td>\n",
       "      <td>11</td>\n",
       "    </tr>\n",
       "    <tr>\n",
       "      <th>250296</th>\n",
       "      <td>http://www.wikidata.org/entity/Q173996</td>\n",
       "      <td>Team Lotus</td>\n",
       "      <td>racing team</td>\n",
       "      <td>membership</td>\n",
       "      <td>1911-1940</td>\n",
       "      <td>11</td>\n",
       "    </tr>\n",
       "    <tr>\n",
       "      <th>83452</th>\n",
       "      <td>http://www.wikidata.org/entity/Q171337</td>\n",
       "      <td>Williams Racing</td>\n",
       "      <td>racing team</td>\n",
       "      <td>membership</td>\n",
       "      <td>1941-1970</td>\n",
       "      <td>11</td>\n",
       "    </tr>\n",
       "  </tbody>\n",
       "</table>\n",
       "</div>"
      ],
      "text/plain": [
       "                                        uriOrg               labelOrg  \\\n",
       "164385  http://www.wikidata.org/entity/Q173012  British Racing Motors   \n",
       "161424  http://www.wikidata.org/entity/Q173003     Cooper Car Company   \n",
       "83453   http://www.wikidata.org/entity/Q171337        Williams Racing   \n",
       "250296  http://www.wikidata.org/entity/Q173996             Team Lotus   \n",
       "83452   http://www.wikidata.org/entity/Q171337        Williams Racing   \n",
       "\n",
       "        orgMainType    relaType    periods  period_members_number  \n",
       "164385  racing team  membership  1911-1940                     12  \n",
       "161424  racing team  membership  1911-1940                     12  \n",
       "83453   racing team  membership  1971-2000                     11  \n",
       "250296  racing team  membership  1911-1940                     11  \n",
       "83452   racing team  membership  1941-1970                     11  "
      ]
     },
     "execution_count": 54,
     "metadata": {},
     "output_type": "execute_result"
    }
   ],
   "source": [
    "df_orgPeriodRelType = pd.DataFrame(df_prep.groupby(['uriOrg', 'labelOrg', 'orgMainType', 'relaType', 'periods']).size(), columns=['period_members_number'])\n",
    "df_orgPeriodRelType.reset_index(inplace=True)\n",
    "df_orgPeriodRelType.sort_values(by='period_members_number', ascending=False).head()"
   ]
  },
  {
   "cell_type": "code",
   "execution_count": 55,
   "metadata": {},
   "outputs": [
    {
     "name": "stdout",
     "output_type": "stream",
     "text": [
      "21\n"
     ]
    },
    {
     "name": "stderr",
     "output_type": "stream",
     "text": [
      "C:\\Users\\berna\\AppData\\Local\\Temp\\ipykernel_15636\\4136667425.py:2: FutureWarning: The default of observed=False is deprecated and will be changed to True in a future version of pandas. Pass observed=False to retain current behavior or observed=True to adopt the future default and silence this warning.\n",
      "  dfgt = df_orgPeriodRelType.groupby(['periods', 'relaType', 'orgMainType'], as_index=False)\\\n"
     ]
    },
    {
     "data": {
      "text/html": [
       "<div>\n",
       "<style scoped>\n",
       "    .dataframe tbody tr th:only-of-type {\n",
       "        vertical-align: middle;\n",
       "    }\n",
       "\n",
       "    .dataframe tbody tr th {\n",
       "        vertical-align: top;\n",
       "    }\n",
       "\n",
       "    .dataframe thead th {\n",
       "        text-align: right;\n",
       "    }\n",
       "</style>\n",
       "<table border=\"1\" class=\"dataframe\">\n",
       "  <thead>\n",
       "    <tr style=\"text-align: right;\">\n",
       "      <th></th>\n",
       "      <th>periods</th>\n",
       "      <th>relaType</th>\n",
       "      <th>orgMainType</th>\n",
       "      <th>period_members_number</th>\n",
       "    </tr>\n",
       "  </thead>\n",
       "  <tbody>\n",
       "    <tr>\n",
       "      <th>0</th>\n",
       "      <td>1751-1810</td>\n",
       "      <td>membership</td>\n",
       "      <td>company or gov. agency</td>\n",
       "      <td>0</td>\n",
       "    </tr>\n",
       "    <tr>\n",
       "      <th>1</th>\n",
       "      <td>1751-1810</td>\n",
       "      <td>membership</td>\n",
       "      <td>not classified organisation</td>\n",
       "      <td>0</td>\n",
       "    </tr>\n",
       "    <tr>\n",
       "      <th>2</th>\n",
       "      <td>1751-1810</td>\n",
       "      <td>membership</td>\n",
       "      <td>racing team</td>\n",
       "      <td>0</td>\n",
       "    </tr>\n",
       "    <tr>\n",
       "      <th>3</th>\n",
       "      <td>1811-1850</td>\n",
       "      <td>membership</td>\n",
       "      <td>company or gov. agency</td>\n",
       "      <td>0</td>\n",
       "    </tr>\n",
       "    <tr>\n",
       "      <th>4</th>\n",
       "      <td>1811-1850</td>\n",
       "      <td>membership</td>\n",
       "      <td>not classified organisation</td>\n",
       "      <td>0</td>\n",
       "    </tr>\n",
       "    <tr>\n",
       "      <th>5</th>\n",
       "      <td>1811-1850</td>\n",
       "      <td>membership</td>\n",
       "      <td>racing team</td>\n",
       "      <td>0</td>\n",
       "    </tr>\n",
       "    <tr>\n",
       "      <th>6</th>\n",
       "      <td>1851-1880</td>\n",
       "      <td>membership</td>\n",
       "      <td>company or gov. agency</td>\n",
       "      <td>0</td>\n",
       "    </tr>\n",
       "    <tr>\n",
       "      <th>7</th>\n",
       "      <td>1851-1880</td>\n",
       "      <td>membership</td>\n",
       "      <td>not classified organisation</td>\n",
       "      <td>0</td>\n",
       "    </tr>\n",
       "    <tr>\n",
       "      <th>8</th>\n",
       "      <td>1851-1880</td>\n",
       "      <td>membership</td>\n",
       "      <td>racing team</td>\n",
       "      <td>0</td>\n",
       "    </tr>\n",
       "    <tr>\n",
       "      <th>9</th>\n",
       "      <td>1881-1910</td>\n",
       "      <td>membership</td>\n",
       "      <td>company or gov. agency</td>\n",
       "      <td>1</td>\n",
       "    </tr>\n",
       "  </tbody>\n",
       "</table>\n",
       "</div>"
      ],
      "text/plain": [
       "     periods    relaType                  orgMainType  period_members_number\n",
       "0  1751-1810  membership       company or gov. agency                      0\n",
       "1  1751-1810  membership  not classified organisation                      0\n",
       "2  1751-1810  membership                  racing team                      0\n",
       "3  1811-1850  membership       company or gov. agency                      0\n",
       "4  1811-1850  membership  not classified organisation                      0\n",
       "5  1811-1850  membership                  racing team                      0\n",
       "6  1851-1880  membership       company or gov. agency                      0\n",
       "7  1851-1880  membership  not classified organisation                      0\n",
       "8  1851-1880  membership                  racing team                      0\n",
       "9  1881-1910  membership       company or gov. agency                      1"
      ]
     },
     "execution_count": 55,
     "metadata": {},
     "output_type": "execute_result"
    }
   ],
   "source": [
    "### Number of relationships by period with type\n",
    "dfgt = df_orgPeriodRelType.groupby(['periods', 'relaType', 'orgMainType'], as_index=False)\\\n",
    "    .sum('members').sort_values(['relaType', 'periods'])\n",
    "file_addr='Data/organisations_types_periods_distribution.csv'\n",
    "dfgt.sort_values(['relaType', 'periods']).to_csv(file_addr)\n",
    "print(len(dfgt))\n",
    "dfgt.iloc[:10]"
   ]
  },
  {
   "cell_type": "code",
   "execution_count": 56,
   "metadata": {},
   "outputs": [
    {
     "name": "stdout",
     "output_type": "stream",
     "text": [
      "3\n"
     ]
    }
   ],
   "source": [
    "### Number of relationships without period\n",
    "dfgw = df_orgPeriodRelType.groupby(['relaType', 'orgMainType'], as_index=False)\\\n",
    "    .sum('members').sort_values([ 'relaType', 'orgMainType'])\n",
    "print(len(dfgw))"
   ]
  },
  {
   "cell_type": "markdown",
   "metadata": {},
   "source": [
    "## Bivariate analysis: relationship, organisation type"
   ]
  },
  {
   "cell_type": "markdown",
   "metadata": {},
   "source": [
    "### Create the needed functions"
   ]
  },
  {
   "cell_type": "code",
   "execution_count": 57,
   "metadata": {},
   "outputs": [],
   "source": [
    "### ct_m : contingency table without totals in margins\n",
    "def bivariee_stats(ct_wm):\n",
    "    \n",
    "    \n",
    "    n = ct_wm.sum().sum()\n",
    "\n",
    "    ### Valeurs produites par la fonction de la librairie 'stats'\n",
    "    statistic, p, dof, expected = stats.chi2_contingency(ct_wm)\n",
    "\n",
    "    print('Chi2 :', statistic.round(2), ', dof :',dof)\n",
    "    print('p-value :', p)\n",
    "\n",
    "    \n",
    "\n",
    "    print('phi2 = inertie (variance totale) :', statistic/n)\n",
    "\n",
    "\n",
    "    ### Tableau à l'indépendance\n",
    "    dfe = round(pd.DataFrame(expected),4)\n",
    "\n",
    "    ### Coéfficient de Cramer\n",
    "    # https://docs.scipy.org/doc/scipy/reference/generated/scipy.stats.contingency.association.html\n",
    "\n",
    "    vc = stats.contingency.association(ct_wm, method='cramer')\n",
    "    print('Cramer: ', vc)\n",
    "\n",
    "    return None\n",
    "\n",
    "\n",
    "\n"
   ]
  },
  {
   "cell_type": "code",
   "execution_count": 58,
   "metadata": {},
   "outputs": [],
   "source": [
    "### ct_m : contingency tables with totals in margins\n",
    "def plot_chi2_residuals(ct_wm, figsize=(9,3)):\n",
    "    \n",
    "    D = ct_wm\n",
    "\n",
    "    \n",
    "    ### Valeurs produites par la fonction de la librairie 'stats'\n",
    "    statistic, p, dof, expected = stats.chi2_contingency(D)\n",
    "\n",
    "    ### Situation à l'indépendance\n",
    "    indep = pd.DataFrame(expected)\n",
    "    indep.columns = D.columns\n",
    "    indep.index = D.index\n",
    "\n",
    "    ### Résidus pondérés (avec le signe)\n",
    "    ### Doc. :\n",
    "    #   Rakotomalala, p.240\n",
    "    residus_ponderes = (round((D-indep)/np.sqrt(indep),2))\n",
    "    ### Résidus pondérés\n",
    "    tableau = residus_ponderes\n",
    "   \n",
    "\n",
    "    fig, ax = plt.subplots(figsize=figsize)         \n",
    "    # Sample figsize in inches\n",
    "    g = sns.heatmap(tableau, annot=tableau, cmap=\"coolwarm\", linewidths=.5, ax=ax)\n",
    "    xlabels = tableau.columns\n",
    "    px = g.set_xticklabels(xlabels, rotation=60, size=8, \n",
    "                           ha='right', rotation_mode='anchor')\n",
    "    ylabels = tableau.index\n",
    "    py = g.set_yticklabels(ylabels, rotation=20, size=8)\n",
    "    \n",
    "    plt.show()\n",
    "\n",
    "    return residus_ponderes"
   ]
  },
  {
   "cell_type": "markdown",
   "metadata": {},
   "source": [
    "### Explore contingency table : types of relationships, types of organisations"
   ]
  },
  {
   "cell_type": "code",
   "execution_count": 59,
   "metadata": {},
   "outputs": [
    {
     "data": {
      "text/html": [
       "<div>\n",
       "<style scoped>\n",
       "    .dataframe tbody tr th:only-of-type {\n",
       "        vertical-align: middle;\n",
       "    }\n",
       "\n",
       "    .dataframe tbody tr th {\n",
       "        vertical-align: top;\n",
       "    }\n",
       "\n",
       "    .dataframe thead th {\n",
       "        text-align: right;\n",
       "    }\n",
       "</style>\n",
       "<table border=\"1\" class=\"dataframe\">\n",
       "  <thead>\n",
       "    <tr style=\"text-align: right;\">\n",
       "      <th>relaType</th>\n",
       "      <th>membership</th>\n",
       "      <th>Total</th>\n",
       "    </tr>\n",
       "    <tr>\n",
       "      <th>orgMainType</th>\n",
       "      <th></th>\n",
       "      <th></th>\n",
       "    </tr>\n",
       "  </thead>\n",
       "  <tbody>\n",
       "    <tr>\n",
       "      <th>company or gov. agency</th>\n",
       "      <td>2</td>\n",
       "      <td>2</td>\n",
       "    </tr>\n",
       "    <tr>\n",
       "      <th>not classified organisation</th>\n",
       "      <td>7</td>\n",
       "      <td>7</td>\n",
       "    </tr>\n",
       "    <tr>\n",
       "      <th>racing team</th>\n",
       "      <td>433</td>\n",
       "      <td>433</td>\n",
       "    </tr>\n",
       "    <tr>\n",
       "      <th>Total</th>\n",
       "      <td>442</td>\n",
       "      <td>442</td>\n",
       "    </tr>\n",
       "  </tbody>\n",
       "</table>\n",
       "</div>"
      ],
      "text/plain": [
       "relaType                     membership  Total\n",
       "orgMainType                                   \n",
       "company or gov. agency                2      2\n",
       "not classified organisation           7      7\n",
       "racing team                         433    433\n",
       "Total                               442    442"
      ]
     },
     "execution_count": 59,
     "metadata": {},
     "output_type": "execute_result"
    }
   ],
   "source": [
    "\n",
    "\n",
    "### Contingency table\n",
    "X = 'relaType'\n",
    "Y = 'orgMainType'  \n",
    "\n",
    "ddf = df_prep[[X,Y]].pivot_table(index=Y,columns=X,observed=True, aggfunc=len,margins=True,margins_name=\"Total\").fillna(0).astype(int)\n",
    "ddf\n",
    "\n"
   ]
  },
  {
   "cell_type": "code",
   "execution_count": 60,
   "metadata": {},
   "outputs": [
    {
     "data": {
      "text/html": [
       "<div>\n",
       "<style scoped>\n",
       "    .dataframe tbody tr th:only-of-type {\n",
       "        vertical-align: middle;\n",
       "    }\n",
       "\n",
       "    .dataframe tbody tr th {\n",
       "        vertical-align: top;\n",
       "    }\n",
       "\n",
       "    .dataframe thead th {\n",
       "        text-align: right;\n",
       "    }\n",
       "</style>\n",
       "<table border=\"1\" class=\"dataframe\">\n",
       "  <thead>\n",
       "    <tr style=\"text-align: right;\">\n",
       "      <th>relaType</th>\n",
       "      <th>membership</th>\n",
       "    </tr>\n",
       "    <tr>\n",
       "      <th>orgMainType</th>\n",
       "      <th></th>\n",
       "    </tr>\n",
       "  </thead>\n",
       "  <tbody>\n",
       "    <tr>\n",
       "      <th>company or gov. agency</th>\n",
       "      <td>2</td>\n",
       "    </tr>\n",
       "    <tr>\n",
       "      <th>not classified organisation</th>\n",
       "      <td>7</td>\n",
       "    </tr>\n",
       "    <tr>\n",
       "      <th>racing team</th>\n",
       "      <td>433</td>\n",
       "    </tr>\n",
       "  </tbody>\n",
       "</table>\n",
       "</div>"
      ],
      "text/plain": [
       "relaType                     membership\n",
       "orgMainType                            \n",
       "company or gov. agency                2\n",
       "not classified organisation           7\n",
       "racing team                         433"
      ]
     },
     "execution_count": 60,
     "metadata": {},
     "output_type": "execute_result"
    }
   ],
   "source": [
    "ct_wm = ddf.iloc[:-1,:-1].copy(deep=True)\n",
    "ct_wm"
   ]
  },
  {
   "cell_type": "code",
   "execution_count": 61,
   "metadata": {},
   "outputs": [
    {
     "name": "stdout",
     "output_type": "stream",
     "text": [
      "Chi2 : 0.0 , dof : 0\n",
      "p-value : 1.0\n",
      "\n",
      "phi² (inertie) : 0.0\n",
      "Cramér V       : nan\n"
     ]
    },
    {
     "name": "stderr",
     "output_type": "stream",
     "text": [
      "C:\\Users\\berna\\AppData\\Local\\Temp\\ipykernel_15636\\3157640799.py:22: RuntimeWarning: invalid value encountered in scalar divide\n",
      "  cramers_v = (phi2 / min(k - 1, r - 1)) ** 0.5\n"
     ]
    }
   ],
   "source": [
    "### We observe a strong relationship between these two variables\n",
    "\n",
    "from scipy import stats\n",
    "\n",
    "def bivariee_stats(ct):\n",
    "    \"\"\"\n",
    "    Affiche χ², p-value, phi² et Cramér V pour une table de contingence ct.\n",
    "    \"\"\"\n",
    "    # effectif total\n",
    "    n = ct.to_numpy().sum() if hasattr(ct, \"to_numpy\") else ct.sum()\n",
    "\n",
    "    # test du χ²\n",
    "    chi2, p_val, dof, expected = stats.chi2_contingency(ct)\n",
    "\n",
    "    print(\"Chi2 :\", round(chi2, 2), \", dof :\", dof)\n",
    "    print(\"p-value :\", p_val)\n",
    "    print()\n",
    "\n",
    "    # inertie (phi²) et Cramér V\n",
    "    phi2 = chi2 / n\n",
    "    r, k = ct.shape\n",
    "    cramers_v = (phi2 / min(k - 1, r - 1)) ** 0.5\n",
    "\n",
    "    print(\"phi² (inertie) :\", round(phi2, 4))\n",
    "    print(\"Cramér V       :\", round(cramers_v, 4))\n",
    "# --------------------------------------------------------------------------\n",
    "\n",
    "bivariee_stats(ct_wm)"
   ]
  },
  {
   "cell_type": "code",
   "execution_count": 62,
   "metadata": {},
   "outputs": [
    {
     "data": {
      "image/png": "[encoded data removed]",
      "text/plain": [
       "<Figure size 500x800 with 2 Axes>"
      ]
     },
     "metadata": {},
     "output_type": "display_data"
    }
   ],
   "source": [
    "pp = plot_chi2_residuals(ct_wm, figsize=(5, 8))"
   ]
  },
  {
   "cell_type": "markdown",
   "metadata": {},
   "source": [
    "#### Comment\n",
    "\n",
    "We observe a strong relationship between these two variables which is explained by the fact that not all organisations types are concerned by the same relationship types\n",
    "\n",
    "We also observe that some values should be corrected, like memberships in technical organisations that should be employments.\n",
    "\n",
    "See the following example"
   ]
  },
  {
   "cell_type": "code",
   "execution_count": 63,
   "metadata": {},
   "outputs": [
    {
     "name": "stdout",
     "output_type": "stream",
     "text": [
      "[('uriPer', Series([], Name: uriPer, dtype: object)),\n",
      " ('labelPer', Series([], Name: labelPer, dtype: object)),\n",
      " ('birthYear', Series([], Name: birthYear, dtype: int64)),\n",
      " ('relaType', Series([], Name: relaType, dtype: object)),\n",
      " ('uriOrg', Series([], Name: uriOrg, dtype: object)),\n",
      " ('labelOrg', Series([], Name: labelOrg, dtype: object))]\n"
     ]
    }
   ],
   "source": [
    "pprint.pprint(list(df_p.loc[df_p.orgMainType.str.contains('techno') & df_p.relaType.str.contains('memb') ].items())[:6])"
   ]
  },
  {
   "cell_type": "markdown",
   "metadata": {},
   "source": [
    "### Explore contingency table of relationships to organisations : periods, types of organisations"
   ]
  },
  {
   "cell_type": "code",
   "execution_count": 64,
   "metadata": {},
   "outputs": [
    {
     "data": {
      "text/html": [
       "<div>\n",
       "<style scoped>\n",
       "    .dataframe tbody tr th:only-of-type {\n",
       "        vertical-align: middle;\n",
       "    }\n",
       "\n",
       "    .dataframe tbody tr th {\n",
       "        vertical-align: top;\n",
       "    }\n",
       "\n",
       "    .dataframe thead th {\n",
       "        text-align: right;\n",
       "    }\n",
       "</style>\n",
       "<table border=\"1\" class=\"dataframe\">\n",
       "  <thead>\n",
       "    <tr style=\"text-align: right;\">\n",
       "      <th>periods</th>\n",
       "      <th>1881-1910</th>\n",
       "      <th>1911-1940</th>\n",
       "      <th>1941-1970</th>\n",
       "      <th>1971-2000</th>\n",
       "      <th>Total</th>\n",
       "    </tr>\n",
       "    <tr>\n",
       "      <th>orgMainType</th>\n",
       "      <th></th>\n",
       "      <th></th>\n",
       "      <th></th>\n",
       "      <th></th>\n",
       "      <th></th>\n",
       "    </tr>\n",
       "  </thead>\n",
       "  <tbody>\n",
       "    <tr>\n",
       "      <th>company or gov. agency</th>\n",
       "      <td>1</td>\n",
       "      <td>0</td>\n",
       "      <td>0</td>\n",
       "      <td>1</td>\n",
       "      <td>2</td>\n",
       "    </tr>\n",
       "    <tr>\n",
       "      <th>not classified organisation</th>\n",
       "      <td>2</td>\n",
       "      <td>0</td>\n",
       "      <td>1</td>\n",
       "      <td>4</td>\n",
       "      <td>7</td>\n",
       "    </tr>\n",
       "    <tr>\n",
       "      <th>racing team</th>\n",
       "      <td>9</td>\n",
       "      <td>148</td>\n",
       "      <td>142</td>\n",
       "      <td>134</td>\n",
       "      <td>433</td>\n",
       "    </tr>\n",
       "    <tr>\n",
       "      <th>Total</th>\n",
       "      <td>12</td>\n",
       "      <td>148</td>\n",
       "      <td>143</td>\n",
       "      <td>139</td>\n",
       "      <td>442</td>\n",
       "    </tr>\n",
       "  </tbody>\n",
       "</table>\n",
       "</div>"
      ],
      "text/plain": [
       "periods                      1881-1910  1911-1940  1941-1970  1971-2000  Total\n",
       "orgMainType                                                                   \n",
       "company or gov. agency               1          0          0          1      2\n",
       "not classified organisation          2          0          1          4      7\n",
       "racing team                          9        148        142        134    433\n",
       "Total                               12        148        143        139    442"
      ]
     },
     "execution_count": 64,
     "metadata": {},
     "output_type": "execute_result"
    }
   ],
   "source": [
    "### Contingency table\n",
    "X = 'periods'\n",
    "Y = 'orgMainType'  \n",
    "\n",
    "ddf = df_prep[[X,Y]].pivot_table(index=Y,columns=X,observed=True, aggfunc=len,margins=True,margins_name=\"Total\").fillna(0).astype(int)\n",
    "ddf\n",
    "\n"
   ]
  },
  {
   "cell_type": "code",
   "execution_count": 65,
   "metadata": {},
   "outputs": [],
   "source": [
    "ct_wm = ddf.iloc[:-1,:-1].copy(deep=True)"
   ]
  },
  {
   "cell_type": "code",
   "execution_count": 66,
   "metadata": {},
   "outputs": [
    {
     "name": "stdout",
     "output_type": "stream",
     "text": [
      "Chi2 : 40.53 , dof : 6\n",
      "p-value : 3.5779898209921853e-07\n",
      "\n",
      "phi² (inertie) : 0.0917\n",
      "Cramér V       : 0.2141\n"
     ]
    }
   ],
   "source": [
    "### We observe some not so strong relationship between these two variables\n",
    "bivariee_stats(ct_wm)"
   ]
  },
  {
   "cell_type": "code",
   "execution_count": 67,
   "metadata": {},
   "outputs": [
    {
     "data": {
      "image/png": "[encoded data removed]",
      "text/plain": [
       "<Figure size 800x800 with 2 Axes>"
      ]
     },
     "metadata": {},
     "output_type": "display_data"
    }
   ],
   "source": [
    "pp = plot_chi2_residuals(ct_wm, figsize=(8, 8))"
   ]
  },
  {
   "cell_type": "markdown",
   "metadata": {},
   "source": [
    "### Explore contingency table of relationships to organisations : periods, types of relationships"
   ]
  },
  {
   "cell_type": "code",
   "execution_count": 68,
   "metadata": {},
   "outputs": [
    {
     "data": {
      "text/html": [
       "<div>\n",
       "<style scoped>\n",
       "    .dataframe tbody tr th:only-of-type {\n",
       "        vertical-align: middle;\n",
       "    }\n",
       "\n",
       "    .dataframe tbody tr th {\n",
       "        vertical-align: top;\n",
       "    }\n",
       "\n",
       "    .dataframe thead th {\n",
       "        text-align: right;\n",
       "    }\n",
       "</style>\n",
       "<table border=\"1\" class=\"dataframe\">\n",
       "  <thead>\n",
       "    <tr style=\"text-align: right;\">\n",
       "      <th>periods</th>\n",
       "      <th>1881-1910</th>\n",
       "      <th>1911-1940</th>\n",
       "      <th>1941-1970</th>\n",
       "      <th>1971-2000</th>\n",
       "      <th>Total</th>\n",
       "    </tr>\n",
       "    <tr>\n",
       "      <th>relaType</th>\n",
       "      <th></th>\n",
       "      <th></th>\n",
       "      <th></th>\n",
       "      <th></th>\n",
       "      <th></th>\n",
       "    </tr>\n",
       "  </thead>\n",
       "  <tbody>\n",
       "    <tr>\n",
       "      <th>membership</th>\n",
       "      <td>12</td>\n",
       "      <td>148</td>\n",
       "      <td>143</td>\n",
       "      <td>139</td>\n",
       "      <td>442</td>\n",
       "    </tr>\n",
       "    <tr>\n",
       "      <th>Total</th>\n",
       "      <td>12</td>\n",
       "      <td>148</td>\n",
       "      <td>143</td>\n",
       "      <td>139</td>\n",
       "      <td>442</td>\n",
       "    </tr>\n",
       "  </tbody>\n",
       "</table>\n",
       "</div>"
      ],
      "text/plain": [
       "periods     1881-1910  1911-1940  1941-1970  1971-2000  Total\n",
       "relaType                                                     \n",
       "membership         12        148        143        139    442\n",
       "Total              12        148        143        139    442"
      ]
     },
     "execution_count": 68,
     "metadata": {},
     "output_type": "execute_result"
    }
   ],
   "source": [
    "### Contingency table\n",
    "X = 'periods'\n",
    "Y = 'relaType'  \n",
    "\n",
    "ddf = df_prep[[X,Y]].pivot_table(index=Y,columns=X,observed=True, aggfunc=len,margins=True,margins_name=\"Total\").fillna(0).astype(int)\n",
    "ddf\n",
    "\n"
   ]
  },
  {
   "cell_type": "code",
   "execution_count": 69,
   "metadata": {},
   "outputs": [],
   "source": [
    "ct_wm = ddf.iloc[:-1,:-1].copy(deep=True)"
   ]
  },
  {
   "cell_type": "code",
   "execution_count": 70,
   "metadata": {},
   "outputs": [
    {
     "name": "stdout",
     "output_type": "stream",
     "text": [
      "Chi2 : 0.0 , dof : 0\n",
      "p-value : 1.0\n",
      "\n",
      "phi² (inertie) : 0.0\n",
      "Cramér V       : nan\n"
     ]
    },
    {
     "name": "stderr",
     "output_type": "stream",
     "text": [
      "C:\\Users\\berna\\AppData\\Local\\Temp\\ipykernel_15636\\3157640799.py:22: RuntimeWarning: invalid value encountered in scalar divide\n",
      "  cramers_v = (phi2 / min(k - 1, r - 1)) ** 0.5\n"
     ]
    }
   ],
   "source": [
    "### We observe a relationship between these two variables, \n",
    "# not so strong \n",
    "bivariee_stats(ct_wm)"
   ]
  },
  {
   "cell_type": "code",
   "execution_count": 71,
   "metadata": {},
   "outputs": [
    {
     "data": {
      "image/png": "[encoded data removed]",
      "text/plain": [
       "<Figure size 800x300 with 2 Axes>"
      ]
     },
     "metadata": {},
     "output_type": "display_data"
    }
   ],
   "source": [
    "pp = plot_chi2_residuals(ct_wm, figsize=(8, 3))"
   ]
  },
  {
   "cell_type": "markdown",
   "metadata": {},
   "source": [
    "### Explore contingency table of relationships to organisations : periods+types of relationships vs organisations types"
   ]
  },
  {
   "cell_type": "code",
   "execution_count": 72,
   "metadata": {},
   "outputs": [
    {
     "data": {
      "text/html": [
       "<div>\n",
       "<style scoped>\n",
       "    .dataframe tbody tr th:only-of-type {\n",
       "        vertical-align: middle;\n",
       "    }\n",
       "\n",
       "    .dataframe tbody tr th {\n",
       "        vertical-align: top;\n",
       "    }\n",
       "\n",
       "    .dataframe thead th {\n",
       "        text-align: right;\n",
       "    }\n",
       "</style>\n",
       "<table border=\"1\" class=\"dataframe\">\n",
       "  <thead>\n",
       "    <tr style=\"text-align: right;\">\n",
       "      <th></th>\n",
       "      <th>uriPer</th>\n",
       "      <th>labelPer</th>\n",
       "      <th>birthYear</th>\n",
       "      <th>uriOrg</th>\n",
       "      <th>labelOrg</th>\n",
       "      <th>typesOrg</th>\n",
       "      <th>orgMainType</th>\n",
       "      <th>relaType</th>\n",
       "      <th>periods</th>\n",
       "      <th>periods_relaType</th>\n",
       "    </tr>\n",
       "  </thead>\n",
       "  <tbody>\n",
       "    <tr>\n",
       "      <th>0</th>\n",
       "      <td>http://www.wikidata.org/entity/Q171456</td>\n",
       "      <td>Adrián Campos</td>\n",
       "      <td>1960</td>\n",
       "      <td>http://www.wikidata.org/entity/Q1031592</td>\n",
       "      <td>Campos Racing</td>\n",
       "      <td>auto racing team</td>\n",
       "      <td>racing team</td>\n",
       "      <td>membership</td>\n",
       "      <td>1941-1970</td>\n",
       "      <td>1941-1970_membership</td>\n",
       "    </tr>\n",
       "  </tbody>\n",
       "</table>\n",
       "</div>"
      ],
      "text/plain": [
       "                                   uriPer       labelPer  birthYear  \\\n",
       "0  http://www.wikidata.org/entity/Q171456  Adrián Campos       1960   \n",
       "\n",
       "                                    uriOrg       labelOrg          typesOrg  \\\n",
       "0  http://www.wikidata.org/entity/Q1031592  Campos Racing  auto racing team   \n",
       "\n",
       "   orgMainType    relaType    periods      periods_relaType  \n",
       "0  racing team  membership  1941-1970  1941-1970_membership  "
      ]
     },
     "execution_count": 72,
     "metadata": {},
     "output_type": "execute_result"
    }
   ],
   "source": [
    "df_prep['periods_relaType'] = df_prep.apply(lambda x : x.periods+'_'+x.relaType, axis=1)\n",
    "df_prep.head(1)"
   ]
  },
  {
   "cell_type": "code",
   "execution_count": 74,
   "metadata": {},
   "outputs": [
    {
     "data": {
      "text/html": [
       "<div>\n",
       "<style scoped>\n",
       "    .dataframe tbody tr th:only-of-type {\n",
       "        vertical-align: middle;\n",
       "    }\n",
       "\n",
       "    .dataframe tbody tr th {\n",
       "        vertical-align: top;\n",
       "    }\n",
       "\n",
       "    .dataframe thead th {\n",
       "        text-align: right;\n",
       "    }\n",
       "</style>\n",
       "<table border=\"1\" class=\"dataframe\">\n",
       "  <thead>\n",
       "    <tr style=\"text-align: right;\">\n",
       "      <th>periods_relaType</th>\n",
       "      <th>1881-1910_membership</th>\n",
       "      <th>1911-1940_membership</th>\n",
       "      <th>1941-1970_membership</th>\n",
       "      <th>1971-2000_membership</th>\n",
       "      <th>Total</th>\n",
       "    </tr>\n",
       "    <tr>\n",
       "      <th>orgMainType</th>\n",
       "      <th></th>\n",
       "      <th></th>\n",
       "      <th></th>\n",
       "      <th></th>\n",
       "      <th></th>\n",
       "    </tr>\n",
       "  </thead>\n",
       "  <tbody>\n",
       "    <tr>\n",
       "      <th>company or gov. agency</th>\n",
       "      <td>1</td>\n",
       "      <td>0</td>\n",
       "      <td>0</td>\n",
       "      <td>1</td>\n",
       "      <td>2</td>\n",
       "    </tr>\n",
       "    <tr>\n",
       "      <th>not classified organisation</th>\n",
       "      <td>2</td>\n",
       "      <td>0</td>\n",
       "      <td>1</td>\n",
       "      <td>4</td>\n",
       "      <td>7</td>\n",
       "    </tr>\n",
       "    <tr>\n",
       "      <th>racing team</th>\n",
       "      <td>9</td>\n",
       "      <td>148</td>\n",
       "      <td>142</td>\n",
       "      <td>134</td>\n",
       "      <td>433</td>\n",
       "    </tr>\n",
       "    <tr>\n",
       "      <th>Total</th>\n",
       "      <td>12</td>\n",
       "      <td>148</td>\n",
       "      <td>143</td>\n",
       "      <td>139</td>\n",
       "      <td>442</td>\n",
       "    </tr>\n",
       "  </tbody>\n",
       "</table>\n",
       "</div>"
      ],
      "text/plain": [
       "periods_relaType             1881-1910_membership  1911-1940_membership  \\\n",
       "orgMainType                                                               \n",
       "company or gov. agency                          1                     0   \n",
       "not classified organisation                     2                     0   \n",
       "racing team                                     9                   148   \n",
       "Total                                          12                   148   \n",
       "\n",
       "periods_relaType             1941-1970_membership  1971-2000_membership  Total  \n",
       "orgMainType                                                                     \n",
       "company or gov. agency                          0                     1      2  \n",
       "not classified organisation                     1                     4      7  \n",
       "racing team                                   142                   134    433  \n",
       "Total                                         143                   139    442  "
      ]
     },
     "execution_count": 74,
     "metadata": {},
     "output_type": "execute_result"
    }
   ],
   "source": [
    "### Contingency table\n",
    "X = 'periods_relaType'\n",
    "Y = 'orgMainType'  \n",
    "\n",
    "ddf = df_prep[[X,Y]].pivot_table(index=Y,columns=X,observed=True, aggfunc=len,margins=True,margins_name=\"Total\").fillna(0).astype(int)\n",
    "ddf\n",
    "\n"
   ]
  },
  {
   "cell_type": "code",
   "execution_count": 75,
   "metadata": {},
   "outputs": [],
   "source": [
    "ct_wm = ddf.iloc[:-1,:-1].copy(deep=True)"
   ]
  },
  {
   "cell_type": "code",
   "execution_count": 76,
   "metadata": {},
   "outputs": [
    {
     "name": "stdout",
     "output_type": "stream",
     "text": [
      "Chi2 : 40.53 , dof : 6\n",
      "p-value : 3.5779898209921853e-07\n",
      "\n",
      "phi² (inertie) : 0.0917\n",
      "Cramér V       : 0.2141\n"
     ]
    }
   ],
   "source": [
    "### We observe a relationship between these two variables, \n",
    "# not so strong \n",
    "bivariee_stats(ct_wm)"
   ]
  },
  {
   "cell_type": "code",
   "execution_count": 77,
   "metadata": {},
   "outputs": [
    {
     "data": {
      "image/png": "[encoded data removed]",
      "text/plain": [
       "<Figure size 2000x1200 with 2 Axes>"
      ]
     },
     "metadata": {},
     "output_type": "display_data"
    }
   ],
   "source": [
    "pp = plot_chi2_residuals(ct_wm, figsize=(20, 12))"
   ]
  },
  {
   "cell_type": "markdown",
   "metadata": {},
   "source": [
    "## Prepare graph\n",
    "\n",
    "\n",
    "In a heuristic perspective we take the persons as representing relationships among organisations.\n",
    "\n",
    "Of course these relations are limited in time and with different meaning but in this general inspection of the field, we consider all the relationship. Filters are introduced later on.\n",
    "\n",
    "We will create a projection of the graph on organisations and keep in a first stage all relationships, with types and periods, one per relationship, where the joining elements are those concerning uniquely the person"
   ]
  },
  {
   "cell_type": "code",
   "execution_count": 78,
   "metadata": {},
   "outputs": [
    {
     "name": "stdout",
     "output_type": "stream",
     "text": [
      "1592\n"
     ]
    }
   ],
   "source": [
    "### Join on common organisation: Cartesian product -> produces a lot of rows !\n",
    "merged = pd.merge(df_prep, df_prep, on=['uriPer','labelPer','birthYear', 'periods'])\n",
    "print(len(merged))\n"
   ]
  },
  {
   "cell_type": "code",
   "execution_count": 79,
   "metadata": {},
   "outputs": [],
   "source": [
    "### Eliminate double rows :relationship A-B but relationship B-A\n",
    "merged = merged[merged['uriOrg_x'] < (merged['uriOrg_y'])]\n"
   ]
  },
  {
   "cell_type": "code",
   "execution_count": 80,
   "metadata": {},
   "outputs": [
    {
     "name": "stdout",
     "output_type": "stream",
     "text": [
      "575\n",
      "['uriPer', 'labelPer', 'birthYear', 'uriOrg_x', 'labelOrg_x', 'typesOrg_x', 'orgMainType_x', 'relaType_x', 'periods', 'periods_relaType_x', 'uriOrg_y', 'labelOrg_y', 'typesOrg_y', 'orgMainType_y', 'relaType_y', 'periods_relaType_y']\n"
     ]
    },
    {
     "data": {
      "text/html": [
       "<div>\n",
       "<style scoped>\n",
       "    .dataframe tbody tr th:only-of-type {\n",
       "        vertical-align: middle;\n",
       "    }\n",
       "\n",
       "    .dataframe tbody tr th {\n",
       "        vertical-align: top;\n",
       "    }\n",
       "\n",
       "    .dataframe thead th {\n",
       "        text-align: right;\n",
       "    }\n",
       "</style>\n",
       "<table border=\"1\" class=\"dataframe\">\n",
       "  <thead>\n",
       "    <tr style=\"text-align: right;\">\n",
       "      <th></th>\n",
       "      <th>uriPer</th>\n",
       "      <th>labelPer</th>\n",
       "      <th>birthYear</th>\n",
       "      <th>uriOrg_x</th>\n",
       "      <th>labelOrg_x</th>\n",
       "      <th>typesOrg_x</th>\n",
       "      <th>orgMainType_x</th>\n",
       "      <th>relaType_x</th>\n",
       "      <th>periods</th>\n",
       "      <th>periods_relaType_x</th>\n",
       "      <th>uriOrg_y</th>\n",
       "      <th>labelOrg_y</th>\n",
       "      <th>typesOrg_y</th>\n",
       "      <th>orgMainType_y</th>\n",
       "      <th>relaType_y</th>\n",
       "      <th>periods_relaType_y</th>\n",
       "    </tr>\n",
       "  </thead>\n",
       "  <tbody>\n",
       "    <tr>\n",
       "      <th>300</th>\n",
       "      <td>http://www.wikidata.org/entity/Q172832</td>\n",
       "      <td>David Coulthard</td>\n",
       "      <td>1971</td>\n",
       "      <td>http://www.wikidata.org/entity/Q172030</td>\n",
       "      <td>McLaren</td>\n",
       "      <td>formula one team | organization</td>\n",
       "      <td>racing team</td>\n",
       "      <td>membership</td>\n",
       "      <td>1971-2000</td>\n",
       "      <td>1971-2000_membership</td>\n",
       "      <td>http://www.wikidata.org/entity/Q173663</td>\n",
       "      <td>Red Bull Racing</td>\n",
       "      <td>formula one team</td>\n",
       "      <td>racing team</td>\n",
       "      <td>membership</td>\n",
       "      <td>1971-2000_membership</td>\n",
       "    </tr>\n",
       "    <tr>\n",
       "      <th>304</th>\n",
       "      <td>http://www.wikidata.org/entity/Q171879</td>\n",
       "      <td>David Murray</td>\n",
       "      <td>1909</td>\n",
       "      <td>http://www.wikidata.org/entity/Q2548586</td>\n",
       "      <td>Scuderia Ambrosiana</td>\n",
       "      <td>formula one team</td>\n",
       "      <td>racing team</td>\n",
       "      <td>membership</td>\n",
       "      <td>1881-1910</td>\n",
       "      <td>1881-1910_membership</td>\n",
       "      <td>http://www.wikidata.org/entity/Q3047147</td>\n",
       "      <td>Ecurie Ecosse</td>\n",
       "      <td>formula one team</td>\n",
       "      <td>racing team</td>\n",
       "      <td>membership</td>\n",
       "      <td>1881-1910_membership</td>\n",
       "    </tr>\n",
       "    <tr>\n",
       "      <th>307</th>\n",
       "      <td>http://www.wikidata.org/entity/Q171743</td>\n",
       "      <td>David Purley</td>\n",
       "      <td>1945</td>\n",
       "      <td>http://www.wikidata.org/entity/Q172841</td>\n",
       "      <td>Token Racing</td>\n",
       "      <td>formula one team</td>\n",
       "      <td>racing team</td>\n",
       "      <td>membership</td>\n",
       "      <td>1941-1970</td>\n",
       "      <td>1941-1970_membership</td>\n",
       "      <td>http://www.wikidata.org/entity/Q2291349</td>\n",
       "      <td>LEC Refrigeration Racing</td>\n",
       "      <td>formula one team</td>\n",
       "      <td>racing team</td>\n",
       "      <td>membership</td>\n",
       "      <td>1941-1970_membership</td>\n",
       "    </tr>\n",
       "    <tr>\n",
       "      <th>312</th>\n",
       "      <td>http://www.wikidata.org/entity/Q3166</td>\n",
       "      <td>Denny Hulme</td>\n",
       "      <td>1936</td>\n",
       "      <td>http://www.wikidata.org/entity/Q172030</td>\n",
       "      <td>McLaren</td>\n",
       "      <td>formula one team | organization</td>\n",
       "      <td>racing team</td>\n",
       "      <td>membership</td>\n",
       "      <td>1911-1940</td>\n",
       "      <td>1911-1940_membership</td>\n",
       "      <td>http://www.wikidata.org/entity/Q927748</td>\n",
       "      <td>Tom Walkinshaw Racing</td>\n",
       "      <td>auto racing team</td>\n",
       "      <td>racing team</td>\n",
       "      <td>membership</td>\n",
       "      <td>1911-1940_membership</td>\n",
       "    </tr>\n",
       "  </tbody>\n",
       "</table>\n",
       "</div>"
      ],
      "text/plain": [
       "                                     uriPer         labelPer  birthYear  \\\n",
       "300  http://www.wikidata.org/entity/Q172832  David Coulthard       1971   \n",
       "304  http://www.wikidata.org/entity/Q171879     David Murray       1909   \n",
       "307  http://www.wikidata.org/entity/Q171743     David Purley       1945   \n",
       "312    http://www.wikidata.org/entity/Q3166      Denny Hulme       1936   \n",
       "\n",
       "                                    uriOrg_x           labelOrg_x  \\\n",
       "300   http://www.wikidata.org/entity/Q172030              McLaren   \n",
       "304  http://www.wikidata.org/entity/Q2548586  Scuderia Ambrosiana   \n",
       "307   http://www.wikidata.org/entity/Q172841         Token Racing   \n",
       "312   http://www.wikidata.org/entity/Q172030              McLaren   \n",
       "\n",
       "                          typesOrg_x orgMainType_x  relaType_x    periods  \\\n",
       "300  formula one team | organization   racing team  membership  1971-2000   \n",
       "304                 formula one team   racing team  membership  1881-1910   \n",
       "307                 formula one team   racing team  membership  1941-1970   \n",
       "312  formula one team | organization   racing team  membership  1911-1940   \n",
       "\n",
       "       periods_relaType_x                                 uriOrg_y  \\\n",
       "300  1971-2000_membership   http://www.wikidata.org/entity/Q173663   \n",
       "304  1881-1910_membership  http://www.wikidata.org/entity/Q3047147   \n",
       "307  1941-1970_membership  http://www.wikidata.org/entity/Q2291349   \n",
       "312  1911-1940_membership   http://www.wikidata.org/entity/Q927748   \n",
       "\n",
       "                   labelOrg_y        typesOrg_y orgMainType_y  relaType_y  \\\n",
       "300           Red Bull Racing  formula one team   racing team  membership   \n",
       "304             Ecurie Ecosse  formula one team   racing team  membership   \n",
       "307  LEC Refrigeration Racing  formula one team   racing team  membership   \n",
       "312     Tom Walkinshaw Racing  auto racing team   racing team  membership   \n",
       "\n",
       "       periods_relaType_y  \n",
       "300  1971-2000_membership  \n",
       "304  1881-1910_membership  \n",
       "307  1941-1970_membership  \n",
       "312  1911-1940_membership  "
      ]
     },
     "execution_count": 80,
     "metadata": {},
     "output_type": "execute_result"
    }
   ],
   "source": [
    "### Inspect\n",
    "print(len(merged))\n",
    "print(list(merged.columns))\n",
    "merged.iloc[110:114]"
   ]
  },
  {
   "cell_type": "code",
   "execution_count": 81,
   "metadata": {},
   "outputs": [
    {
     "name": "stdout",
     "output_type": "stream",
     "text": [
      "relaType\n",
      "membership    442\n",
      "dtype: int64\n"
     ]
    }
   ],
   "source": [
    "### Available ORIGINAL relationships\n",
    "print(df_p.groupby(by='relaType').size())"
   ]
  },
  {
   "cell_type": "code",
   "execution_count": 82,
   "metadata": {},
   "outputs": [
    {
     "data": {
      "text/html": [
       "<div>\n",
       "<style scoped>\n",
       "    .dataframe tbody tr th:only-of-type {\n",
       "        vertical-align: middle;\n",
       "    }\n",
       "\n",
       "    .dataframe tbody tr th {\n",
       "        vertical-align: top;\n",
       "    }\n",
       "\n",
       "    .dataframe thead th {\n",
       "        text-align: right;\n",
       "    }\n",
       "</style>\n",
       "<table border=\"1\" class=\"dataframe\">\n",
       "  <thead>\n",
       "    <tr style=\"text-align: right;\">\n",
       "      <th></th>\n",
       "      <th>relaType_x</th>\n",
       "      <th>relaType_y</th>\n",
       "      <th>size</th>\n",
       "    </tr>\n",
       "  </thead>\n",
       "  <tbody>\n",
       "    <tr>\n",
       "      <th>0</th>\n",
       "      <td>membership</td>\n",
       "      <td>membership</td>\n",
       "      <td>575</td>\n",
       "    </tr>\n",
       "  </tbody>\n",
       "</table>\n",
       "</div>"
      ],
      "text/plain": [
       "   relaType_x  relaType_y  size\n",
       "0  membership  membership   575"
      ]
     },
     "execution_count": 82,
     "metadata": {},
     "output_type": "execute_result"
    }
   ],
   "source": [
    "### Number of relationships per type prepared for graph\n",
    "gl_relaType = merged.groupby(['relaType_x', 'relaType_y'], as_index=False).size().sort_values(by='size', ascending=False)\n",
    "\n",
    "gl_relaType\n"
   ]
  },
  {
   "cell_type": "markdown",
   "metadata": {},
   "source": [
    "### Swap values in order to have the same orientation for all relationships\n",
    "\n",
    "All relationships should have the same 'orientation', which is determined by alphabetical order:\n",
    "\n",
    "education -> employment -> membership"
   ]
  },
  {
   "cell_type": "code",
   "execution_count": 83,
   "metadata": {},
   "outputs": [
    {
     "name": "stdout",
     "output_type": "stream",
     "text": [
      "  column1 column2\n",
      "0       X       A\n",
      "1       Y       B\n",
      "2       Z       C\n",
      "3       W       D\n"
     ]
    }
   ],
   "source": [
    "### Example\n",
    "df = pd.DataFrame({\n",
    "    'column1': ['A', 'B', 'C', 'D'],\n",
    "    'column2': ['X', 'Y', 'Z', 'W']\n",
    "})\n",
    "\n",
    "condition = df['column1'] < df['column2']\n",
    "df.loc[condition, ['column1', 'column2']] = df.loc[condition, ['column2', 'column1']].values\n",
    "\n",
    "print(df)"
   ]
  },
  {
   "cell_type": "code",
   "execution_count": 84,
   "metadata": {},
   "outputs": [],
   "source": [
    "### Test whether the relationship types are in the wrong alphabetical order.\n",
    "condition = merged.relaType_x > merged.relaType_y"
   ]
  },
  {
   "cell_type": "code",
   "execution_count": 85,
   "metadata": {},
   "outputs": [],
   "source": [
    "### Transpose under condition that the relation orientation is 'wrong',\n",
    "# i.e. not according the alphabatical order\n",
    "\n",
    "merged.loc[condition, \n",
    "    ['uriOrg_x','labelOrg_x','orgMainType_x','relaType_x', 'uriOrg_y','labelOrg_y','orgMainType_y','relaType_y']] = \\\n",
    "        merged.loc[condition,\n",
    "    ['uriOrg_y','labelOrg_y','orgMainType_y','relaType_y','uriOrg_x','labelOrg_x','orgMainType_x','relaType_x']].values"
   ]
  },
  {
   "cell_type": "code",
   "execution_count": 74,
   "metadata": {},
   "outputs": [
    {
     "data": {
      "text/html": [
       "<div>\n",
       "<style scoped>\n",
       "    .dataframe tbody tr th:only-of-type {\n",
       "        vertical-align: middle;\n",
       "    }\n",
       "\n",
       "    .dataframe tbody tr th {\n",
       "        vertical-align: top;\n",
       "    }\n",
       "\n",
       "    .dataframe thead th {\n",
       "        text-align: right;\n",
       "    }\n",
       "</style>\n",
       "<table border=\"1\" class=\"dataframe\">\n",
       "  <thead>\n",
       "    <tr style=\"text-align: right;\">\n",
       "      <th></th>\n",
       "      <th>uriPer</th>\n",
       "      <th>labelPer</th>\n",
       "      <th>birthYear</th>\n",
       "      <th>uriOrg_x</th>\n",
       "      <th>labelOrg_x</th>\n",
       "      <th>typesOrg_x</th>\n",
       "      <th>orgMainType_x</th>\n",
       "      <th>relaType_x</th>\n",
       "      <th>periods</th>\n",
       "      <th>periods_relaType_x</th>\n",
       "      <th>uriOrg_y</th>\n",
       "      <th>labelOrg_y</th>\n",
       "      <th>typesOrg_y</th>\n",
       "      <th>orgMainType_y</th>\n",
       "      <th>relaType_y</th>\n",
       "      <th>periods_relaType_y</th>\n",
       "    </tr>\n",
       "  </thead>\n",
       "  <tbody>\n",
       "    <tr>\n",
       "      <th>300</th>\n",
       "      <td>http://www.wikidata.org/entity/Q172832</td>\n",
       "      <td>David Coulthard</td>\n",
       "      <td>1971</td>\n",
       "      <td>http://www.wikidata.org/entity/Q172030</td>\n",
       "      <td>McLaren</td>\n",
       "      <td>formula one team | organization</td>\n",
       "      <td>racing team</td>\n",
       "      <td>membership</td>\n",
       "      <td>1971-2000</td>\n",
       "      <td>1971-2000_membership</td>\n",
       "      <td>http://www.wikidata.org/entity/Q173663</td>\n",
       "      <td>Red Bull Racing</td>\n",
       "      <td>formula one team</td>\n",
       "      <td>racing team</td>\n",
       "      <td>membership</td>\n",
       "      <td>1971-2000_membership</td>\n",
       "    </tr>\n",
       "    <tr>\n",
       "      <th>304</th>\n",
       "      <td>http://www.wikidata.org/entity/Q171879</td>\n",
       "      <td>David Murray</td>\n",
       "      <td>1909</td>\n",
       "      <td>http://www.wikidata.org/entity/Q2548586</td>\n",
       "      <td>Scuderia Ambrosiana</td>\n",
       "      <td>formula one team</td>\n",
       "      <td>racing team</td>\n",
       "      <td>membership</td>\n",
       "      <td>1881-1910</td>\n",
       "      <td>1881-1910_membership</td>\n",
       "      <td>http://www.wikidata.org/entity/Q3047147</td>\n",
       "      <td>Ecurie Ecosse</td>\n",
       "      <td>formula one team</td>\n",
       "      <td>racing team</td>\n",
       "      <td>membership</td>\n",
       "      <td>1881-1910_membership</td>\n",
       "    </tr>\n",
       "    <tr>\n",
       "      <th>307</th>\n",
       "      <td>http://www.wikidata.org/entity/Q171743</td>\n",
       "      <td>David Purley</td>\n",
       "      <td>1945</td>\n",
       "      <td>http://www.wikidata.org/entity/Q172841</td>\n",
       "      <td>Token Racing</td>\n",
       "      <td>formula one team</td>\n",
       "      <td>racing team</td>\n",
       "      <td>membership</td>\n",
       "      <td>1941-1970</td>\n",
       "      <td>1941-1970_membership</td>\n",
       "      <td>http://www.wikidata.org/entity/Q2291349</td>\n",
       "      <td>LEC Refrigeration Racing</td>\n",
       "      <td>formula one team</td>\n",
       "      <td>racing team</td>\n",
       "      <td>membership</td>\n",
       "      <td>1941-1970_membership</td>\n",
       "    </tr>\n",
       "    <tr>\n",
       "      <th>312</th>\n",
       "      <td>http://www.wikidata.org/entity/Q3166</td>\n",
       "      <td>Denny Hulme</td>\n",
       "      <td>1936</td>\n",
       "      <td>http://www.wikidata.org/entity/Q172030</td>\n",
       "      <td>McLaren</td>\n",
       "      <td>formula one team | organization</td>\n",
       "      <td>racing team</td>\n",
       "      <td>membership</td>\n",
       "      <td>1911-1940</td>\n",
       "      <td>1911-1940_membership</td>\n",
       "      <td>http://www.wikidata.org/entity/Q927748</td>\n",
       "      <td>Tom Walkinshaw Racing</td>\n",
       "      <td>auto racing team</td>\n",
       "      <td>racing team</td>\n",
       "      <td>membership</td>\n",
       "      <td>1911-1940_membership</td>\n",
       "    </tr>\n",
       "    <tr>\n",
       "      <th>313</th>\n",
       "      <td>http://www.wikidata.org/entity/Q3166</td>\n",
       "      <td>Denny Hulme</td>\n",
       "      <td>1936</td>\n",
       "      <td>http://www.wikidata.org/entity/Q172030</td>\n",
       "      <td>McLaren</td>\n",
       "      <td>formula one team | organization</td>\n",
       "      <td>racing team</td>\n",
       "      <td>membership</td>\n",
       "      <td>1911-1940</td>\n",
       "      <td>1911-1940_membership</td>\n",
       "      <td>http://www.wikidata.org/entity/Q173103</td>\n",
       "      <td>Brabham</td>\n",
       "      <td>formula one team</td>\n",
       "      <td>racing team</td>\n",
       "      <td>membership</td>\n",
       "      <td>1911-1940_membership</td>\n",
       "    </tr>\n",
       "    <tr>\n",
       "      <th>315</th>\n",
       "      <td>http://www.wikidata.org/entity/Q3166</td>\n",
       "      <td>Denny Hulme</td>\n",
       "      <td>1936</td>\n",
       "      <td>http://www.wikidata.org/entity/Q172030</td>\n",
       "      <td>McLaren</td>\n",
       "      <td>formula one team | organization</td>\n",
       "      <td>racing team</td>\n",
       "      <td>membership</td>\n",
       "      <td>1911-1940</td>\n",
       "      <td>1911-1940_membership</td>\n",
       "      <td>http://www.wikidata.org/entity/Q8052439</td>\n",
       "      <td>Yeoman Credit Racing</td>\n",
       "      <td>auto racing team</td>\n",
       "      <td>racing team</td>\n",
       "      <td>membership</td>\n",
       "      <td>1911-1940_membership</td>\n",
       "    </tr>\n",
       "    <tr>\n",
       "      <th>316</th>\n",
       "      <td>http://www.wikidata.org/entity/Q3166</td>\n",
       "      <td>Denny Hulme</td>\n",
       "      <td>1936</td>\n",
       "      <td>http://www.wikidata.org/entity/Q172030</td>\n",
       "      <td>McLaren</td>\n",
       "      <td>formula one team | organization</td>\n",
       "      <td>racing team</td>\n",
       "      <td>membership</td>\n",
       "      <td>1911-1940</td>\n",
       "      <td>1911-1940_membership</td>\n",
       "      <td>http://www.wikidata.org/entity/Q173450</td>\n",
       "      <td>All American Racers</td>\n",
       "      <td>formula one team</td>\n",
       "      <td>racing team</td>\n",
       "      <td>membership</td>\n",
       "      <td>1911-1940_membership</td>\n",
       "    </tr>\n",
       "  </tbody>\n",
       "</table>\n",
       "</div>"
      ],
      "text/plain": [
       "                                     uriPer         labelPer  birthYear  \\\n",
       "300  http://www.wikidata.org/entity/Q172832  David Coulthard       1971   \n",
       "304  http://www.wikidata.org/entity/Q171879     David Murray       1909   \n",
       "307  http://www.wikidata.org/entity/Q171743     David Purley       1945   \n",
       "312    http://www.wikidata.org/entity/Q3166      Denny Hulme       1936   \n",
       "313    http://www.wikidata.org/entity/Q3166      Denny Hulme       1936   \n",
       "315    http://www.wikidata.org/entity/Q3166      Denny Hulme       1936   \n",
       "316    http://www.wikidata.org/entity/Q3166      Denny Hulme       1936   \n",
       "\n",
       "                                    uriOrg_x           labelOrg_x  \\\n",
       "300   http://www.wikidata.org/entity/Q172030              McLaren   \n",
       "304  http://www.wikidata.org/entity/Q2548586  Scuderia Ambrosiana   \n",
       "307   http://www.wikidata.org/entity/Q172841         Token Racing   \n",
       "312   http://www.wikidata.org/entity/Q172030              McLaren   \n",
       "313   http://www.wikidata.org/entity/Q172030              McLaren   \n",
       "315   http://www.wikidata.org/entity/Q172030              McLaren   \n",
       "316   http://www.wikidata.org/entity/Q172030              McLaren   \n",
       "\n",
       "                          typesOrg_x orgMainType_x  relaType_x    periods  \\\n",
       "300  formula one team | organization   racing team  membership  1971-2000   \n",
       "304                 formula one team   racing team  membership  1881-1910   \n",
       "307                 formula one team   racing team  membership  1941-1970   \n",
       "312  formula one team | organization   racing team  membership  1911-1940   \n",
       "313  formula one team | organization   racing team  membership  1911-1940   \n",
       "315  formula one team | organization   racing team  membership  1911-1940   \n",
       "316  formula one team | organization   racing team  membership  1911-1940   \n",
       "\n",
       "       periods_relaType_x                                 uriOrg_y  \\\n",
       "300  1971-2000_membership   http://www.wikidata.org/entity/Q173663   \n",
       "304  1881-1910_membership  http://www.wikidata.org/entity/Q3047147   \n",
       "307  1941-1970_membership  http://www.wikidata.org/entity/Q2291349   \n",
       "312  1911-1940_membership   http://www.wikidata.org/entity/Q927748   \n",
       "313  1911-1940_membership   http://www.wikidata.org/entity/Q173103   \n",
       "315  1911-1940_membership  http://www.wikidata.org/entity/Q8052439   \n",
       "316  1911-1940_membership   http://www.wikidata.org/entity/Q173450   \n",
       "\n",
       "                   labelOrg_y        typesOrg_y orgMainType_y  relaType_y  \\\n",
       "300           Red Bull Racing  formula one team   racing team  membership   \n",
       "304             Ecurie Ecosse  formula one team   racing team  membership   \n",
       "307  LEC Refrigeration Racing  formula one team   racing team  membership   \n",
       "312     Tom Walkinshaw Racing  auto racing team   racing team  membership   \n",
       "313                   Brabham  formula one team   racing team  membership   \n",
       "315      Yeoman Credit Racing  auto racing team   racing team  membership   \n",
       "316       All American Racers  formula one team   racing team  membership   \n",
       "\n",
       "       periods_relaType_y  \n",
       "300  1971-2000_membership  \n",
       "304  1881-1910_membership  \n",
       "307  1941-1970_membership  \n",
       "312  1911-1940_membership  \n",
       "313  1911-1940_membership  \n",
       "315  1911-1940_membership  \n",
       "316  1911-1940_membership  "
      ]
     },
     "execution_count": 74,
     "metadata": {},
     "output_type": "execute_result"
    }
   ],
   "source": [
    "### Inspect\n",
    "\n",
    "merged.iloc[110:117]"
   ]
  },
  {
   "cell_type": "code",
   "execution_count": 86,
   "metadata": {},
   "outputs": [
    {
     "data": {
      "text/html": [
       "<div>\n",
       "<style scoped>\n",
       "    .dataframe tbody tr th:only-of-type {\n",
       "        vertical-align: middle;\n",
       "    }\n",
       "\n",
       "    .dataframe tbody tr th {\n",
       "        vertical-align: top;\n",
       "    }\n",
       "\n",
       "    .dataframe thead th {\n",
       "        text-align: right;\n",
       "    }\n",
       "</style>\n",
       "<table border=\"1\" class=\"dataframe\">\n",
       "  <thead>\n",
       "    <tr style=\"text-align: right;\">\n",
       "      <th></th>\n",
       "      <th>relaType_x</th>\n",
       "      <th>relaType_y</th>\n",
       "      <th>size</th>\n",
       "    </tr>\n",
       "  </thead>\n",
       "  <tbody>\n",
       "    <tr>\n",
       "      <th>0</th>\n",
       "      <td>membership</td>\n",
       "      <td>membership</td>\n",
       "      <td>575</td>\n",
       "    </tr>\n",
       "  </tbody>\n",
       "</table>\n",
       "</div>"
      ],
      "text/plain": [
       "   relaType_x  relaType_y  size\n",
       "0  membership  membership   575"
      ]
     },
     "execution_count": 86,
     "metadata": {},
     "output_type": "execute_result"
    }
   ],
   "source": [
    "### Number of relationships per type prepared for graph\n",
    "gl_relaType = merged.groupby(['relaType_x', 'relaType_y'], as_index=False).size().sort_values(by='size', ascending=False)\n",
    "\n",
    "gl_relaType\n"
   ]
  },
  {
   "cell_type": "code",
   "execution_count": 87,
   "metadata": {},
   "outputs": [
    {
     "name": "stdout",
     "output_type": "stream",
     "text": [
      "DataFrames actuellement définis :\n",
      "  _                    → shape = (1, 3)\n",
      "  __                   → shape = (1, 3)\n",
      "  ___                  → shape = (4, 16)\n",
      "  df_p                 → shape = (442, 11)\n",
      "  _24                  → shape = (3, 8)\n",
      "  _29                  → shape = (3, 9)\n",
      "  _30                  → shape = (2, 9)\n",
      "  dfg_pr               → shape = (4, 3)\n",
      "  _37                  → shape = (3, 10)\n",
      "  df_types             → shape = (24, 4)\n",
      "  _40                  → shape = (10, 3)\n",
      "  _42                  → shape = (1, 10)\n",
      "  _44                  → shape = (3, 11)\n",
      "  df_mainTypes         → shape = (3, 2)\n",
      "  _45                  → shape = (3, 2)\n",
      "  _46                  → shape = (3, 4)\n",
      "  _47                  → shape = (0, 11)\n",
      "  df_prep              → shape = (442, 10)\n",
      "  df_org               → shape = (154, 5)\n",
      "  _50                  → shape = (10, 5)\n",
      "  df_orgPeriod         → shape = (494802, 5)\n",
      "  _52                  → shape = (5, 5)\n",
      "  _53                  → shape = (0, 5)\n",
      "  df_orgPeriodRelType  → shape = (494802, 6)\n",
      "  _54                  → shape = (5, 6)\n",
      "  dfgt                 → shape = (21, 4)\n",
      "  _55                  → shape = (10, 4)\n",
      "  dfgw                 → shape = (3, 3)\n",
      "  ddf                  → shape = (4, 5)\n",
      "  _59                  → shape = (4, 2)\n",
      "  ct_wm                → shape = (3, 4)\n",
      "  _60                  → shape = (3, 1)\n",
      "  pp                   → shape = (3, 4)\n",
      "  _64                  → shape = (4, 5)\n",
      "  _68                  → shape = (2, 5)\n",
      "  _72                  → shape = (1, 10)\n",
      "  _73                  → shape = (4, 5)\n",
      "  _74                  → shape = (4, 5)\n",
      "  merged               → shape = (575, 16)\n",
      "  _80                  → shape = (4, 16)\n",
      "  gl_relaType          → shape = (1, 3)\n",
      "  _82                  → shape = (1, 3)\n",
      "  df                   → shape = (4, 2)\n",
      "  _86                  → shape = (1, 3)\n"
     ]
    }
   ],
   "source": [
    "import pandas as pd\n",
    "\n",
    "# liste tous les DataFrames actuellement en mémoire\n",
    "print(\"DataFrames actuellement définis :\")\n",
    "for name, obj in globals().items():\n",
    "    if isinstance(obj, pd.DataFrame):\n",
    "        print(f\"  {name:20} → shape = {obj.shape}\")"
   ]
  },
  {
   "cell_type": "code",
   "execution_count": 88,
   "metadata": {},
   "outputs": [
    {
     "name": "stdout",
     "output_type": "stream",
     "text": [
      "df_prep → ['uriPer', 'labelPer', 'birthYear', 'uriOrg', 'labelOrg', 'typesOrg', 'orgMainType', 'relaType', 'periods', 'periods_relaType']\n",
      "df_orgPeriodRelType → ['uriOrg', 'labelOrg', 'orgMainType', 'relaType', 'periods', 'period_members_number']\n",
      "df_orgPeriod → ['uriOrg', 'labelOrg', 'orgMainType', 'periods', 'period_members_number']\n"
     ]
    }
   ],
   "source": [
    "for name in ['df_prep', 'df_orgPeriodRelType', 'df_orgPeriod']:\n",
    "    print(name, '→', globals()[name].columns.tolist())\n"
   ]
  },
  {
   "cell_type": "code",
   "execution_count": 104,
   "metadata": {},
   "outputs": [
    {
     "name": "stdout",
     "output_type": "stream",
     "text": [
      "merged_all : (202878, 15)\n"
     ]
    },
    {
     "data": {
      "text/html": [
       "<div>\n",
       "<style scoped>\n",
       "    .dataframe tbody tr th:only-of-type {\n",
       "        vertical-align: middle;\n",
       "    }\n",
       "\n",
       "    .dataframe tbody tr th {\n",
       "        vertical-align: top;\n",
       "    }\n",
       "\n",
       "    .dataframe thead th {\n",
       "        text-align: right;\n",
       "    }\n",
       "</style>\n",
       "<table border=\"1\" class=\"dataframe\">\n",
       "  <thead>\n",
       "    <tr style=\"text-align: right;\">\n",
       "      <th></th>\n",
       "      <th>uriPer</th>\n",
       "      <th>labelPer</th>\n",
       "      <th>birthYear</th>\n",
       "      <th>uriOrg</th>\n",
       "      <th>labelOrg_x</th>\n",
       "      <th>typesOrg</th>\n",
       "      <th>orgMainType_x</th>\n",
       "      <th>relaType_x</th>\n",
       "      <th>periods</th>\n",
       "      <th>periods_relaType</th>\n",
       "      <th>labelOrg_y</th>\n",
       "      <th>orgMainType_y</th>\n",
       "      <th>relaType_y</th>\n",
       "      <th>period_members_number</th>\n",
       "      <th>relaType_concat</th>\n",
       "    </tr>\n",
       "  </thead>\n",
       "  <tbody>\n",
       "    <tr>\n",
       "      <th>0</th>\n",
       "      <td>http://www.wikidata.org/entity/Q171456</td>\n",
       "      <td>Adrián Campos</td>\n",
       "      <td>1960</td>\n",
       "      <td>http://www.wikidata.org/entity/Q1031592</td>\n",
       "      <td>Campos Racing</td>\n",
       "      <td>auto racing team</td>\n",
       "      <td>racing team</td>\n",
       "      <td>membership</td>\n",
       "      <td>1941-1970</td>\n",
       "      <td>1941-1970_membership</td>\n",
       "      <td>A1 Team Germany</td>\n",
       "      <td>company or gov. agency</td>\n",
       "      <td>membership</td>\n",
       "      <td>0</td>\n",
       "      <td>membership_membership</td>\n",
       "    </tr>\n",
       "    <tr>\n",
       "      <th>1</th>\n",
       "      <td>http://www.wikidata.org/entity/Q171456</td>\n",
       "      <td>Adrián Campos</td>\n",
       "      <td>1960</td>\n",
       "      <td>http://www.wikidata.org/entity/Q1031592</td>\n",
       "      <td>Campos Racing</td>\n",
       "      <td>auto racing team</td>\n",
       "      <td>racing team</td>\n",
       "      <td>membership</td>\n",
       "      <td>1941-1970</td>\n",
       "      <td>1941-1970_membership</td>\n",
       "      <td>A1 Team Germany</td>\n",
       "      <td>not classified organisation</td>\n",
       "      <td>membership</td>\n",
       "      <td>0</td>\n",
       "      <td>membership_membership</td>\n",
       "    </tr>\n",
       "    <tr>\n",
       "      <th>2</th>\n",
       "      <td>http://www.wikidata.org/entity/Q171456</td>\n",
       "      <td>Adrián Campos</td>\n",
       "      <td>1960</td>\n",
       "      <td>http://www.wikidata.org/entity/Q1031592</td>\n",
       "      <td>Campos Racing</td>\n",
       "      <td>auto racing team</td>\n",
       "      <td>racing team</td>\n",
       "      <td>membership</td>\n",
       "      <td>1941-1970</td>\n",
       "      <td>1941-1970_membership</td>\n",
       "      <td>A1 Team Germany</td>\n",
       "      <td>racing team</td>\n",
       "      <td>membership</td>\n",
       "      <td>0</td>\n",
       "      <td>membership_membership</td>\n",
       "    </tr>\n",
       "    <tr>\n",
       "      <th>3</th>\n",
       "      <td>http://www.wikidata.org/entity/Q171456</td>\n",
       "      <td>Adrián Campos</td>\n",
       "      <td>1960</td>\n",
       "      <td>http://www.wikidata.org/entity/Q1031592</td>\n",
       "      <td>Campos Racing</td>\n",
       "      <td>auto racing team</td>\n",
       "      <td>racing team</td>\n",
       "      <td>membership</td>\n",
       "      <td>1941-1970</td>\n",
       "      <td>1941-1970_membership</td>\n",
       "      <td>AF Corse</td>\n",
       "      <td>company or gov. agency</td>\n",
       "      <td>membership</td>\n",
       "      <td>0</td>\n",
       "      <td>membership_membership</td>\n",
       "    </tr>\n",
       "    <tr>\n",
       "      <th>4</th>\n",
       "      <td>http://www.wikidata.org/entity/Q171456</td>\n",
       "      <td>Adrián Campos</td>\n",
       "      <td>1960</td>\n",
       "      <td>http://www.wikidata.org/entity/Q1031592</td>\n",
       "      <td>Campos Racing</td>\n",
       "      <td>auto racing team</td>\n",
       "      <td>racing team</td>\n",
       "      <td>membership</td>\n",
       "      <td>1941-1970</td>\n",
       "      <td>1941-1970_membership</td>\n",
       "      <td>AF Corse</td>\n",
       "      <td>not classified organisation</td>\n",
       "      <td>membership</td>\n",
       "      <td>0</td>\n",
       "      <td>membership_membership</td>\n",
       "    </tr>\n",
       "  </tbody>\n",
       "</table>\n",
       "</div>"
      ],
      "text/plain": [
       "                                   uriPer       labelPer  birthYear  \\\n",
       "0  http://www.wikidata.org/entity/Q171456  Adrián Campos       1960   \n",
       "1  http://www.wikidata.org/entity/Q171456  Adrián Campos       1960   \n",
       "2  http://www.wikidata.org/entity/Q171456  Adrián Campos       1960   \n",
       "3  http://www.wikidata.org/entity/Q171456  Adrián Campos       1960   \n",
       "4  http://www.wikidata.org/entity/Q171456  Adrián Campos       1960   \n",
       "\n",
       "                                    uriOrg     labelOrg_x          typesOrg  \\\n",
       "0  http://www.wikidata.org/entity/Q1031592  Campos Racing  auto racing team   \n",
       "1  http://www.wikidata.org/entity/Q1031592  Campos Racing  auto racing team   \n",
       "2  http://www.wikidata.org/entity/Q1031592  Campos Racing  auto racing team   \n",
       "3  http://www.wikidata.org/entity/Q1031592  Campos Racing  auto racing team   \n",
       "4  http://www.wikidata.org/entity/Q1031592  Campos Racing  auto racing team   \n",
       "\n",
       "  orgMainType_x  relaType_x    periods      periods_relaType       labelOrg_y  \\\n",
       "0   racing team  membership  1941-1970  1941-1970_membership  A1 Team Germany   \n",
       "1   racing team  membership  1941-1970  1941-1970_membership  A1 Team Germany   \n",
       "2   racing team  membership  1941-1970  1941-1970_membership  A1 Team Germany   \n",
       "3   racing team  membership  1941-1970  1941-1970_membership         AF Corse   \n",
       "4   racing team  membership  1941-1970  1941-1970_membership         AF Corse   \n",
       "\n",
       "                 orgMainType_y  relaType_y  period_members_number  \\\n",
       "0       company or gov. agency  membership                      0   \n",
       "1  not classified organisation  membership                      0   \n",
       "2                  racing team  membership                      0   \n",
       "3       company or gov. agency  membership                      0   \n",
       "4  not classified organisation  membership                      0   \n",
       "\n",
       "         relaType_concat  \n",
       "0  membership_membership  \n",
       "1  membership_membership  \n",
       "2  membership_membership  \n",
       "3  membership_membership  \n",
       "4  membership_membership  "
      ]
     },
     "execution_count": 104,
     "metadata": {},
     "output_type": "execute_result"
    }
   ],
   "source": [
    "\n",
    "merged_all = (\n",
    "    df_prep\n",
    "      .merge(\n",
    "          df_orgPeriodRelType,\n",
    "          on=['uriOrg', 'periods'],        \n",
    "          how='inner',                     \n",
    "          suffixes=('_x', '_y')            \n",
    "      )\n",
    ")\n",
    "\n",
    "\n",
    "merged_all['relaType_concat'] = (\n",
    "    merged_all['relaType_x'].fillna('') + '_' +\n",
    "    merged_all['relaType_y'].fillna('')\n",
    ")\n",
    "\n",
    "merged = merged_all\n",
    "\n",
    "print(\"merged_all :\", merged_all.shape)\n",
    "merged_all.head()\n"
   ]
  },
  {
   "cell_type": "code",
   "execution_count": 95,
   "metadata": {},
   "outputs": [
    {
     "name": "stdout",
     "output_type": "stream",
     "text": [
      "['uriPer', 'labelPer', 'birthYear', 'uriOrg', 'labelOrg_x', 'typesOrg', 'orgMainType_x', 'relaType_x', 'periods', 'periods_relaType', 'labelOrg_y', 'orgMainType_y', 'relaType_y', 'period_members_number', 'relaType_concat']\n"
     ]
    },
    {
     "data": {
      "text/html": [
       "<div>\n",
       "<style scoped>\n",
       "    .dataframe tbody tr th:only-of-type {\n",
       "        vertical-align: middle;\n",
       "    }\n",
       "\n",
       "    .dataframe tbody tr th {\n",
       "        vertical-align: top;\n",
       "    }\n",
       "\n",
       "    .dataframe thead th {\n",
       "        text-align: right;\n",
       "    }\n",
       "</style>\n",
       "<table border=\"1\" class=\"dataframe\">\n",
       "  <thead>\n",
       "    <tr style=\"text-align: right;\">\n",
       "      <th></th>\n",
       "      <th>uriPer</th>\n",
       "      <th>labelPer</th>\n",
       "      <th>birthYear</th>\n",
       "      <th>uriOrg</th>\n",
       "      <th>labelOrg_x</th>\n",
       "      <th>typesOrg</th>\n",
       "      <th>orgMainType_x</th>\n",
       "      <th>relaType_x</th>\n",
       "      <th>periods</th>\n",
       "      <th>periods_relaType</th>\n",
       "      <th>labelOrg_y</th>\n",
       "      <th>orgMainType_y</th>\n",
       "      <th>relaType_y</th>\n",
       "      <th>period_members_number</th>\n",
       "      <th>relaType_concat</th>\n",
       "    </tr>\n",
       "  </thead>\n",
       "  <tbody>\n",
       "    <tr>\n",
       "      <th>110</th>\n",
       "      <td>http://www.wikidata.org/entity/Q171456</td>\n",
       "      <td>Adrián Campos</td>\n",
       "      <td>1960</td>\n",
       "      <td>http://www.wikidata.org/entity/Q1031592</td>\n",
       "      <td>Campos Racing</td>\n",
       "      <td>auto racing team</td>\n",
       "      <td>racing team</td>\n",
       "      <td>membership</td>\n",
       "      <td>1941-1970</td>\n",
       "      <td>1941-1970_membership</td>\n",
       "      <td>Cooper Car Company</td>\n",
       "      <td>racing team</td>\n",
       "      <td>membership</td>\n",
       "      <td>0</td>\n",
       "      <td>membership_membership</td>\n",
       "    </tr>\n",
       "    <tr>\n",
       "      <th>111</th>\n",
       "      <td>http://www.wikidata.org/entity/Q171456</td>\n",
       "      <td>Adrián Campos</td>\n",
       "      <td>1960</td>\n",
       "      <td>http://www.wikidata.org/entity/Q1031592</td>\n",
       "      <td>Campos Racing</td>\n",
       "      <td>auto racing team</td>\n",
       "      <td>racing team</td>\n",
       "      <td>membership</td>\n",
       "      <td>1941-1970</td>\n",
       "      <td>1941-1970_membership</td>\n",
       "      <td>Dallara</td>\n",
       "      <td>company or gov. agency</td>\n",
       "      <td>membership</td>\n",
       "      <td>0</td>\n",
       "      <td>membership_membership</td>\n",
       "    </tr>\n",
       "  </tbody>\n",
       "</table>\n",
       "</div>"
      ],
      "text/plain": [
       "                                     uriPer       labelPer  birthYear  \\\n",
       "110  http://www.wikidata.org/entity/Q171456  Adrián Campos       1960   \n",
       "111  http://www.wikidata.org/entity/Q171456  Adrián Campos       1960   \n",
       "\n",
       "                                      uriOrg     labelOrg_x          typesOrg  \\\n",
       "110  http://www.wikidata.org/entity/Q1031592  Campos Racing  auto racing team   \n",
       "111  http://www.wikidata.org/entity/Q1031592  Campos Racing  auto racing team   \n",
       "\n",
       "    orgMainType_x  relaType_x    periods      periods_relaType  \\\n",
       "110   racing team  membership  1941-1970  1941-1970_membership   \n",
       "111   racing team  membership  1941-1970  1941-1970_membership   \n",
       "\n",
       "             labelOrg_y           orgMainType_y  relaType_y  \\\n",
       "110  Cooper Car Company             racing team  membership   \n",
       "111             Dallara  company or gov. agency  membership   \n",
       "\n",
       "     period_members_number        relaType_concat  \n",
       "110                      0  membership_membership  \n",
       "111                      0  membership_membership  "
      ]
     },
     "execution_count": 95,
     "metadata": {},
     "output_type": "execute_result"
    }
   ],
   "source": [
    "print(list(merged.columns))\n",
    "merged.iloc[110:112]\n"
   ]
  },
  {
   "cell_type": "code",
   "execution_count": null,
   "metadata": {},
   "outputs": [
    {
     "ename": "KeyError",
     "evalue": "'uriOrg'",
     "output_type": "error",
     "traceback": [
      "\u001b[31m---------------------------------------------------------------------------\u001b[39m",
      "\u001b[31mKeyError\u001b[39m                                  Traceback (most recent call last)",
      "\u001b[32m~\\AppData\\Local\\Temp\\ipykernel_15636\\102631675.py\u001b[39m in \u001b[36m?\u001b[39m\u001b[34m()\u001b[39m\n\u001b[32m      3\u001b[39m \n\u001b[32m      4\u001b[39m df_merge = (\n\u001b[32m      5\u001b[39m     df_prep\n\u001b[32m      6\u001b[39m       .merge(df_orgPeriodRelType, on=[\u001b[33m'uriOrg'\u001b[39m, \u001b[33m'periods'\u001b[39m], how=\u001b[33m'inner'\u001b[39m)\n\u001b[32m----> \u001b[39m\u001b[32m7\u001b[39m       .merge(df_types_ren, on=\u001b[33m'uriOrg'\u001b[39m, how=\u001b[33m'left'\u001b[39m)\n\u001b[32m      8\u001b[39m )\n\u001b[32m      9\u001b[39m \n\u001b[32m     10\u001b[39m \u001b[38;5;66;03m# option B : passer le bon nom directement\u001b[39;00m\n",
      "\u001b[32mc:\\Users\\berna\\AppData\\Local\\Programs\\Python\\Python313\\Lib\\site-packages\\pandas\\core\\frame.py\u001b[39m in \u001b[36m?\u001b[39m\u001b[34m(self, right, how, on, left_on, right_on, left_index, right_index, sort, suffixes, copy, indicator, validate)\u001b[39m\n\u001b[32m  10828\u001b[39m         validate: MergeValidate | \u001b[38;5;28;01mNone\u001b[39;00m = \u001b[38;5;28;01mNone\u001b[39;00m,\n\u001b[32m  10829\u001b[39m     ) -> DataFrame:\n\u001b[32m  10830\u001b[39m         \u001b[38;5;28;01mfrom\u001b[39;00m pandas.core.reshape.merge \u001b[38;5;28;01mimport\u001b[39;00m merge\n\u001b[32m  10831\u001b[39m \n\u001b[32m> \u001b[39m\u001b[32m10832\u001b[39m         return merge(\n\u001b[32m  10833\u001b[39m             self,\n\u001b[32m  10834\u001b[39m             right,\n\u001b[32m  10835\u001b[39m             how=how,\n",
      "\u001b[32mc:\\Users\\berna\\AppData\\Local\\Programs\\Python\\Python313\\Lib\\site-packages\\pandas\\core\\reshape\\merge.py\u001b[39m in \u001b[36m?\u001b[39m\u001b[34m(left, right, how, on, left_on, right_on, left_index, right_index, sort, suffixes, copy, indicator, validate)\u001b[39m\n\u001b[32m    166\u001b[39m             validate=validate,\n\u001b[32m    167\u001b[39m             copy=copy,\n\u001b[32m    168\u001b[39m         )\n\u001b[32m    169\u001b[39m     \u001b[38;5;28;01melse\u001b[39;00m:\n\u001b[32m--> \u001b[39m\u001b[32m170\u001b[39m         op = _MergeOperation(\n\u001b[32m    171\u001b[39m             left_df,\n\u001b[32m    172\u001b[39m             right_df,\n\u001b[32m    173\u001b[39m             how=how,\n",
      "\u001b[32mc:\\Users\\berna\\AppData\\Local\\Programs\\Python\\Python313\\Lib\\site-packages\\pandas\\core\\reshape\\merge.py\u001b[39m in \u001b[36m?\u001b[39m\u001b[34m(self, left, right, how, on, left_on, right_on, left_index, right_index, sort, suffixes, indicator, validate)\u001b[39m\n\u001b[32m    790\u001b[39m             self.right_join_keys,\n\u001b[32m    791\u001b[39m             self.join_names,\n\u001b[32m    792\u001b[39m             left_drop,\n\u001b[32m    793\u001b[39m             right_drop,\n\u001b[32m--> \u001b[39m\u001b[32m794\u001b[39m         ) = self._get_merge_keys()\n\u001b[32m    795\u001b[39m \n\u001b[32m    796\u001b[39m         \u001b[38;5;28;01mif\u001b[39;00m left_drop:\n\u001b[32m    797\u001b[39m             self.left = self.left._drop_labels_or_levels(left_drop)\n",
      "\u001b[32mc:\\Users\\berna\\AppData\\Local\\Programs\\Python\\Python313\\Lib\\site-packages\\pandas\\core\\reshape\\merge.py\u001b[39m in \u001b[36m?\u001b[39m\u001b[34m(self)\u001b[39m\n\u001b[32m   1293\u001b[39m                         \u001b[38;5;66;03m# Then we're either Hashable or a wrong-length arraylike,\u001b[39;00m\n\u001b[32m   1294\u001b[39m                         \u001b[38;5;66;03m#  the latter of which will raise\u001b[39;00m\n\u001b[32m   1295\u001b[39m                         rk = cast(Hashable, rk)\n\u001b[32m   1296\u001b[39m                         \u001b[38;5;28;01mif\u001b[39;00m rk \u001b[38;5;28;01mis\u001b[39;00m \u001b[38;5;28;01mnot\u001b[39;00m \u001b[38;5;28;01mNone\u001b[39;00m:\n\u001b[32m-> \u001b[39m\u001b[32m1297\u001b[39m                             right_keys.append(right._get_label_or_level_values(rk))\n\u001b[32m   1298\u001b[39m                         \u001b[38;5;28;01melse\u001b[39;00m:\n\u001b[32m   1299\u001b[39m                             \u001b[38;5;66;03m# work-around for merge_asof(right_index=True)\u001b[39;00m\n\u001b[32m   1300\u001b[39m                             right_keys.append(right.index._values)\n",
      "\u001b[32mc:\\Users\\berna\\AppData\\Local\\Programs\\Python\\Python313\\Lib\\site-packages\\pandas\\core\\generic.py\u001b[39m in \u001b[36m?\u001b[39m\u001b[34m(self, key, axis)\u001b[39m\n\u001b[32m   1907\u001b[39m             values = self.xs(key, axis=other_axes[\u001b[32m0\u001b[39m])._values\n\u001b[32m   1908\u001b[39m         \u001b[38;5;28;01melif\u001b[39;00m self._is_level_reference(key, axis=axis):\n\u001b[32m   1909\u001b[39m             values = self.axes[axis].get_level_values(key)._values\n\u001b[32m   1910\u001b[39m         \u001b[38;5;28;01melse\u001b[39;00m:\n\u001b[32m-> \u001b[39m\u001b[32m1911\u001b[39m             \u001b[38;5;28;01mraise\u001b[39;00m KeyError(key)\n\u001b[32m   1912\u001b[39m \n\u001b[32m   1913\u001b[39m         \u001b[38;5;66;03m# Check for duplicates\u001b[39;00m\n\u001b[32m   1914\u001b[39m         \u001b[38;5;28;01mif\u001b[39;00m values.ndim > \u001b[32m1\u001b[39m:\n",
      "\u001b[31mKeyError\u001b[39m: 'uriOrg'"
     ]
    }
   ],
   "source": [
    "# option A : renommer avant merge\n",
    "df_types_ren = df_types.rename(columns={'uriOrg_x': 'uriOrg'})\n",
    "\n",
    "df_merge = (\n",
    "    df_prep\n",
    "      .merge(df_orgPeriodRelType, on=['uriOrg', 'periods'], how='inner')\n",
    "      .merge(df_types_ren, on='uriOrg', how='left')\n",
    ")\n",
    "\n",
    "\n",
    "merge(df_types, left_on='uriOrg', right_on='uriOrg_x', how='left')\n"
   ]
  },
  {
   "cell_type": "code",
   "execution_count": 102,
   "metadata": {},
   "outputs": [
    {
     "ename": "KeyError",
     "evalue": "'uriOrg'",
     "output_type": "error",
     "traceback": [
      "\u001b[31m---------------------------------------------------------------------------\u001b[39m",
      "\u001b[31mKeyError\u001b[39m                                  Traceback (most recent call last)",
      "\u001b[32m~\\AppData\\Local\\Temp\\ipykernel_15636\\3376941076.py\u001b[39m in \u001b[36m?\u001b[39m\u001b[34m()\u001b[39m\n\u001b[32m      1\u001b[39m \u001b[38;5;66;03m# quelque part plus haut\u001b[39;00m\n\u001b[32m      2\u001b[39m df_merge = (\n\u001b[32m      3\u001b[39m     df_prep\n\u001b[32m      4\u001b[39m       .merge(df_orgPeriodRelType, on=[\u001b[33m'uriOrg'\u001b[39m, \u001b[33m'periods'\u001b[39m], how=\u001b[33m'inner'\u001b[39m)\n\u001b[32m----> \u001b[39m\u001b[32m5\u001b[39m       .merge(df_types, on=\u001b[33m'uriOrg'\u001b[39m, how=\u001b[33m'left'\u001b[39m)   \u001b[38;5;66;03m# ← garde si tu veux rajouter df_types\u001b[39;00m\n\u001b[32m      6\u001b[39m )\n\u001b[32m      7\u001b[39m \n\u001b[32m      8\u001b[39m df_graph = (\n",
      "\u001b[32mc:\\Users\\berna\\AppData\\Local\\Programs\\Python\\Python313\\Lib\\site-packages\\pandas\\core\\frame.py\u001b[39m in \u001b[36m?\u001b[39m\u001b[34m(self, right, how, on, left_on, right_on, left_index, right_index, sort, suffixes, copy, indicator, validate)\u001b[39m\n\u001b[32m  10828\u001b[39m         validate: MergeValidate | \u001b[38;5;28;01mNone\u001b[39;00m = \u001b[38;5;28;01mNone\u001b[39;00m,\n\u001b[32m  10829\u001b[39m     ) -> DataFrame:\n\u001b[32m  10830\u001b[39m         \u001b[38;5;28;01mfrom\u001b[39;00m pandas.core.reshape.merge \u001b[38;5;28;01mimport\u001b[39;00m merge\n\u001b[32m  10831\u001b[39m \n\u001b[32m> \u001b[39m\u001b[32m10832\u001b[39m         return merge(\n\u001b[32m  10833\u001b[39m             self,\n\u001b[32m  10834\u001b[39m             right,\n\u001b[32m  10835\u001b[39m             how=how,\n",
      "\u001b[32mc:\\Users\\berna\\AppData\\Local\\Programs\\Python\\Python313\\Lib\\site-packages\\pandas\\core\\reshape\\merge.py\u001b[39m in \u001b[36m?\u001b[39m\u001b[34m(left, right, how, on, left_on, right_on, left_index, right_index, sort, suffixes, copy, indicator, validate)\u001b[39m\n\u001b[32m    166\u001b[39m             validate=validate,\n\u001b[32m    167\u001b[39m             copy=copy,\n\u001b[32m    168\u001b[39m         )\n\u001b[32m    169\u001b[39m     \u001b[38;5;28;01melse\u001b[39;00m:\n\u001b[32m--> \u001b[39m\u001b[32m170\u001b[39m         op = _MergeOperation(\n\u001b[32m    171\u001b[39m             left_df,\n\u001b[32m    172\u001b[39m             right_df,\n\u001b[32m    173\u001b[39m             how=how,\n",
      "\u001b[32mc:\\Users\\berna\\AppData\\Local\\Programs\\Python\\Python313\\Lib\\site-packages\\pandas\\core\\reshape\\merge.py\u001b[39m in \u001b[36m?\u001b[39m\u001b[34m(self, left, right, how, on, left_on, right_on, left_index, right_index, sort, suffixes, indicator, validate)\u001b[39m\n\u001b[32m    790\u001b[39m             self.right_join_keys,\n\u001b[32m    791\u001b[39m             self.join_names,\n\u001b[32m    792\u001b[39m             left_drop,\n\u001b[32m    793\u001b[39m             right_drop,\n\u001b[32m--> \u001b[39m\u001b[32m794\u001b[39m         ) = self._get_merge_keys()\n\u001b[32m    795\u001b[39m \n\u001b[32m    796\u001b[39m         \u001b[38;5;28;01mif\u001b[39;00m left_drop:\n\u001b[32m    797\u001b[39m             self.left = self.left._drop_labels_or_levels(left_drop)\n",
      "\u001b[32mc:\\Users\\berna\\AppData\\Local\\Programs\\Python\\Python313\\Lib\\site-packages\\pandas\\core\\reshape\\merge.py\u001b[39m in \u001b[36m?\u001b[39m\u001b[34m(self)\u001b[39m\n\u001b[32m   1293\u001b[39m                         \u001b[38;5;66;03m# Then we're either Hashable or a wrong-length arraylike,\u001b[39;00m\n\u001b[32m   1294\u001b[39m                         \u001b[38;5;66;03m#  the latter of which will raise\u001b[39;00m\n\u001b[32m   1295\u001b[39m                         rk = cast(Hashable, rk)\n\u001b[32m   1296\u001b[39m                         \u001b[38;5;28;01mif\u001b[39;00m rk \u001b[38;5;28;01mis\u001b[39;00m \u001b[38;5;28;01mnot\u001b[39;00m \u001b[38;5;28;01mNone\u001b[39;00m:\n\u001b[32m-> \u001b[39m\u001b[32m1297\u001b[39m                             right_keys.append(right._get_label_or_level_values(rk))\n\u001b[32m   1298\u001b[39m                         \u001b[38;5;28;01melse\u001b[39;00m:\n\u001b[32m   1299\u001b[39m                             \u001b[38;5;66;03m# work-around for merge_asof(right_index=True)\u001b[39;00m\n\u001b[32m   1300\u001b[39m                             right_keys.append(right.index._values)\n",
      "\u001b[32mc:\\Users\\berna\\AppData\\Local\\Programs\\Python\\Python313\\Lib\\site-packages\\pandas\\core\\generic.py\u001b[39m in \u001b[36m?\u001b[39m\u001b[34m(self, key, axis)\u001b[39m\n\u001b[32m   1907\u001b[39m             values = self.xs(key, axis=other_axes[\u001b[32m0\u001b[39m])._values\n\u001b[32m   1908\u001b[39m         \u001b[38;5;28;01melif\u001b[39;00m self._is_level_reference(key, axis=axis):\n\u001b[32m   1909\u001b[39m             values = self.axes[axis].get_level_values(key)._values\n\u001b[32m   1910\u001b[39m         \u001b[38;5;28;01melse\u001b[39;00m:\n\u001b[32m-> \u001b[39m\u001b[32m1911\u001b[39m             \u001b[38;5;28;01mraise\u001b[39;00m KeyError(key)\n\u001b[32m   1912\u001b[39m \n\u001b[32m   1913\u001b[39m         \u001b[38;5;66;03m# Check for duplicates\u001b[39;00m\n\u001b[32m   1914\u001b[39m         \u001b[38;5;28;01mif\u001b[39;00m values.ndim > \u001b[32m1\u001b[39m:\n",
      "\u001b[31mKeyError\u001b[39m: 'uriOrg'"
     ]
    }
   ],
   "source": [
    "# quelque part plus haut\n",
    "df_merge = (\n",
    "    df_prep\n",
    "      .merge(df_orgPeriodRelType, on=['uriOrg', 'periods'], how='inner')\n",
    "      .merge(df_types, on='uriOrg', how='left')   # ← garde si tu veux rajouter df_types\n",
    ")\n",
    "\n",
    "df_graph = (\n",
    "    df_merge\n",
    "      .groupby(\n",
    "          ['periods', 'relaType_concat',\n",
    "           'uriOrg_x', 'labelOrg_x', 'orgMainType_x',\n",
    "           'uriOrg_y', 'labelOrg_y', 'orgMainType_y'],\n",
    "          dropna=False\n",
    "      )\n",
    "      .agg(\n",
    "          labelPer=('labelPer', lambda s: '|'.join(s.dropna().astype(str))),\n",
    "          uriPer  =('uriPer',  lambda s: '|'.join(s.dropna().astype(str))),\n",
    "          number  =('uriPer',  'count')\n",
    "      )\n",
    "      .reset_index()\n",
    ")\n",
    "\n"
   ]
  },
  {
   "cell_type": "code",
   "execution_count": 67,
   "metadata": {},
   "outputs": [
    {
     "name": "stdout",
     "output_type": "stream",
     "text": [
      "115739\n"
     ]
    },
    {
     "data": {
      "text/html": [
       "<div>\n",
       "<style scoped>\n",
       "    .dataframe tbody tr th:only-of-type {\n",
       "        vertical-align: middle;\n",
       "    }\n",
       "\n",
       "    .dataframe tbody tr th {\n",
       "        vertical-align: top;\n",
       "    }\n",
       "\n",
       "    .dataframe thead th {\n",
       "        text-align: right;\n",
       "    }\n",
       "</style>\n",
       "<table border=\"1\" class=\"dataframe\">\n",
       "  <thead>\n",
       "    <tr style=\"text-align: right;\">\n",
       "      <th></th>\n",
       "      <th>periods</th>\n",
       "      <th>relaType_concat</th>\n",
       "      <th>uriOrg_x</th>\n",
       "      <th>labelOrg_x</th>\n",
       "      <th>orgMainType_x</th>\n",
       "      <th>uriOrg_y</th>\n",
       "      <th>labelOrg_y</th>\n",
       "      <th>orgMainType_y</th>\n",
       "      <th>labelPer</th>\n",
       "      <th>uriPer</th>\n",
       "      <th>number</th>\n",
       "    </tr>\n",
       "  </thead>\n",
       "  <tbody>\n",
       "    <tr>\n",
       "      <th>72067</th>\n",
       "      <td>1911-1940</td>\n",
       "      <td>membership_membership</td>\n",
       "      <td>http://www.wikidata.org/entity/Q270794</td>\n",
       "      <td>National Academy of Sciences</td>\n",
       "      <td>academy of sciences</td>\n",
       "      <td>http://www.wikidata.org/entity/Q463303</td>\n",
       "      <td>American Academy of Arts and Sciences</td>\n",
       "      <td>learned society</td>\n",
       "      <td>Michael Rossmann|Sidney Altman|Ludvig Faddeev|...</td>\n",
       "      <td>http://www.wikidata.org/entity/Q101728|http://...</td>\n",
       "      <td>364</td>\n",
       "    </tr>\n",
       "    <tr>\n",
       "      <th>105838</th>\n",
       "      <td>1941-1970</td>\n",
       "      <td>membership_membership</td>\n",
       "      <td>http://www.wikidata.org/entity/Q270794</td>\n",
       "      <td>National Academy of Sciences</td>\n",
       "      <td>academy of sciences</td>\n",
       "      <td>http://www.wikidata.org/entity/Q463303</td>\n",
       "      <td>American Academy of Arts and Sciences</td>\n",
       "      <td>learned society</td>\n",
       "      <td>Duncan Haldane|Joseph Incandela|John C. Mather...</td>\n",
       "      <td>http://www.wikidata.org/entity/Q1002250|http:/...</td>\n",
       "      <td>222</td>\n",
       "    </tr>\n",
       "    <tr>\n",
       "      <th>39696</th>\n",
       "      <td>1881-1910</td>\n",
       "      <td>membership_membership</td>\n",
       "      <td>http://www.wikidata.org/entity/Q270794</td>\n",
       "      <td>National Academy of Sciences</td>\n",
       "      <td>academy of sciences</td>\n",
       "      <td>http://www.wikidata.org/entity/Q463303</td>\n",
       "      <td>American Academy of Arts and Sciences</td>\n",
       "      <td>learned society</td>\n",
       "      <td>Peter Debye|Egon Orowan|Lars Onsager|Tjalling ...</td>\n",
       "      <td>http://www.wikidata.org/entity/Q103835|http://...</td>\n",
       "      <td>149</td>\n",
       "    </tr>\n",
       "    <tr>\n",
       "      <th>71880</th>\n",
       "      <td>1911-1940</td>\n",
       "      <td>membership_membership</td>\n",
       "      <td>http://www.wikidata.org/entity/Q2370801</td>\n",
       "      <td>Academy of Sciences of the USSR</td>\n",
       "      <td>academy of sciences</td>\n",
       "      <td>http://www.wikidata.org/entity/Q83172</td>\n",
       "      <td>Russian Academy of Sciences</td>\n",
       "      <td>academy of sciences</td>\n",
       "      <td>Ludvig Faddeev|Vitaly Ginzburg|Kirill Yakovlev...</td>\n",
       "      <td>http://www.wikidata.org/entity/Q1030228|http:/...</td>\n",
       "      <td>140</td>\n",
       "    </tr>\n",
       "    <tr>\n",
       "      <th>71058</th>\n",
       "      <td>1911-1940</td>\n",
       "      <td>membership_membership</td>\n",
       "      <td>http://www.wikidata.org/entity/Q123885</td>\n",
       "      <td>Royal Society</td>\n",
       "      <td>learned society</td>\n",
       "      <td>http://www.wikidata.org/entity/Q463303</td>\n",
       "      <td>American Academy of Arts and Sciences</td>\n",
       "      <td>learned society</td>\n",
       "      <td>Michael Rossmann|Ludvig Faddeev|Andrew Huxley|...</td>\n",
       "      <td>http://www.wikidata.org/entity/Q101728|http://...</td>\n",
       "      <td>97</td>\n",
       "    </tr>\n",
       "  </tbody>\n",
       "</table>\n",
       "</div>"
      ],
      "text/plain": [
       "          periods        relaType_concat  \\\n",
       "72067   1911-1940  membership_membership   \n",
       "105838  1941-1970  membership_membership   \n",
       "39696   1881-1910  membership_membership   \n",
       "71880   1911-1940  membership_membership   \n",
       "71058   1911-1940  membership_membership   \n",
       "\n",
       "                                       uriOrg_x  \\\n",
       "72067    http://www.wikidata.org/entity/Q270794   \n",
       "105838   http://www.wikidata.org/entity/Q270794   \n",
       "39696    http://www.wikidata.org/entity/Q270794   \n",
       "71880   http://www.wikidata.org/entity/Q2370801   \n",
       "71058    http://www.wikidata.org/entity/Q123885   \n",
       "\n",
       "                             labelOrg_x        orgMainType_x  \\\n",
       "72067      National Academy of Sciences  academy of sciences   \n",
       "105838     National Academy of Sciences  academy of sciences   \n",
       "39696      National Academy of Sciences  academy of sciences   \n",
       "71880   Academy of Sciences of the USSR  academy of sciences   \n",
       "71058                     Royal Society      learned society   \n",
       "\n",
       "                                      uriOrg_y  \\\n",
       "72067   http://www.wikidata.org/entity/Q463303   \n",
       "105838  http://www.wikidata.org/entity/Q463303   \n",
       "39696   http://www.wikidata.org/entity/Q463303   \n",
       "71880    http://www.wikidata.org/entity/Q83172   \n",
       "71058   http://www.wikidata.org/entity/Q463303   \n",
       "\n",
       "                                   labelOrg_y        orgMainType_y  \\\n",
       "72067   American Academy of Arts and Sciences      learned society   \n",
       "105838  American Academy of Arts and Sciences      learned society   \n",
       "39696   American Academy of Arts and Sciences      learned society   \n",
       "71880             Russian Academy of Sciences  academy of sciences   \n",
       "71058   American Academy of Arts and Sciences      learned society   \n",
       "\n",
       "                                                 labelPer  \\\n",
       "72067   Michael Rossmann|Sidney Altman|Ludvig Faddeev|...   \n",
       "105838  Duncan Haldane|Joseph Incandela|John C. Mather...   \n",
       "39696   Peter Debye|Egon Orowan|Lars Onsager|Tjalling ...   \n",
       "71880   Ludvig Faddeev|Vitaly Ginzburg|Kirill Yakovlev...   \n",
       "71058   Michael Rossmann|Ludvig Faddeev|Andrew Huxley|...   \n",
       "\n",
       "                                                   uriPer  number  \n",
       "72067   http://www.wikidata.org/entity/Q101728|http://...     364  \n",
       "105838  http://www.wikidata.org/entity/Q1002250|http:/...     222  \n",
       "39696   http://www.wikidata.org/entity/Q103835|http://...     149  \n",
       "71880   http://www.wikidata.org/entity/Q1030228|http:/...     140  \n",
       "71058   http://www.wikidata.org/entity/Q101728|http://...      97  "
      ]
     },
     "execution_count": 67,
     "metadata": {},
     "output_type": "execute_result"
    }
   ],
   "source": [
    "print(len(df_graph))\n",
    "df_graph.sort_values('number',ascending=False).head()\n"
   ]
  },
  {
   "cell_type": "markdown",
   "metadata": {},
   "source": [
    "### Explore contingency table of relationship pairs to periods"
   ]
  },
  {
   "cell_type": "code",
   "execution_count": null,
   "metadata": {},
   "outputs": [
    {
     "data": {
      "text/html": [
       "<div>\n",
       "<style scoped>\n",
       "    .dataframe tbody tr th:only-of-type {\n",
       "        vertical-align: middle;\n",
       "    }\n",
       "\n",
       "    .dataframe tbody tr th {\n",
       "        vertical-align: top;\n",
       "    }\n",
       "\n",
       "    .dataframe thead th {\n",
       "        text-align: right;\n",
       "    }\n",
       "</style>\n",
       "<table border=\"1\" class=\"dataframe\">\n",
       "  <thead>\n",
       "    <tr style=\"text-align: right;\">\n",
       "      <th>periods</th>\n",
       "      <th>1751-1810</th>\n",
       "      <th>1811-1850</th>\n",
       "      <th>1851-1880</th>\n",
       "      <th>1881-1910</th>\n",
       "      <th>1911-1940</th>\n",
       "      <th>1941-1970</th>\n",
       "      <th>1971-2000</th>\n",
       "      <th>Total</th>\n",
       "    </tr>\n",
       "    <tr>\n",
       "      <th>relaType_concat</th>\n",
       "      <th></th>\n",
       "      <th></th>\n",
       "      <th></th>\n",
       "      <th></th>\n",
       "      <th></th>\n",
       "      <th></th>\n",
       "      <th></th>\n",
       "      <th></th>\n",
       "    </tr>\n",
       "  </thead>\n",
       "  <tbody>\n",
       "    <tr>\n",
       "      <th>education_education</th>\n",
       "      <td>254</td>\n",
       "      <td>409</td>\n",
       "      <td>848</td>\n",
       "      <td>1755</td>\n",
       "      <td>3495</td>\n",
       "      <td>3646</td>\n",
       "      <td>1107</td>\n",
       "      <td>11514</td>\n",
       "    </tr>\n",
       "    <tr>\n",
       "      <th>education_employment</th>\n",
       "      <td>567</td>\n",
       "      <td>953</td>\n",
       "      <td>2092</td>\n",
       "      <td>5222</td>\n",
       "      <td>9639</td>\n",
       "      <td>11304</td>\n",
       "      <td>3685</td>\n",
       "      <td>33462</td>\n",
       "    </tr>\n",
       "    <tr>\n",
       "      <th>education_membership</th>\n",
       "      <td>1145</td>\n",
       "      <td>1477</td>\n",
       "      <td>1982</td>\n",
       "      <td>3315</td>\n",
       "      <td>5591</td>\n",
       "      <td>4278</td>\n",
       "      <td>675</td>\n",
       "      <td>18463</td>\n",
       "    </tr>\n",
       "    <tr>\n",
       "      <th>employment_employment</th>\n",
       "      <td>268</td>\n",
       "      <td>586</td>\n",
       "      <td>1287</td>\n",
       "      <td>3696</td>\n",
       "      <td>5700</td>\n",
       "      <td>7499</td>\n",
       "      <td>2691</td>\n",
       "      <td>21727</td>\n",
       "    </tr>\n",
       "    <tr>\n",
       "      <th>employment_membership</th>\n",
       "      <td>1119</td>\n",
       "      <td>1680</td>\n",
       "      <td>2264</td>\n",
       "      <td>4388</td>\n",
       "      <td>5911</td>\n",
       "      <td>5071</td>\n",
       "      <td>866</td>\n",
       "      <td>21299</td>\n",
       "    </tr>\n",
       "    <tr>\n",
       "      <th>membership_membership</th>\n",
       "      <td>952</td>\n",
       "      <td>1014</td>\n",
       "      <td>1185</td>\n",
       "      <td>1855</td>\n",
       "      <td>2463</td>\n",
       "      <td>1555</td>\n",
       "      <td>250</td>\n",
       "      <td>9274</td>\n",
       "    </tr>\n",
       "    <tr>\n",
       "      <th>Total</th>\n",
       "      <td>4305</td>\n",
       "      <td>6119</td>\n",
       "      <td>9658</td>\n",
       "      <td>20231</td>\n",
       "      <td>32799</td>\n",
       "      <td>33353</td>\n",
       "      <td>9274</td>\n",
       "      <td>115739</td>\n",
       "    </tr>\n",
       "  </tbody>\n",
       "</table>\n",
       "</div>"
      ],
      "text/plain": [
       "periods                1751-1810  1811-1850  1851-1880  1881-1910  1911-1940  \\\n",
       "relaType_concat                                                                \n",
       "education_education          254        409        848       1755       3495   \n",
       "education_employment         567        953       2092       5222       9639   \n",
       "education_membership        1145       1477       1982       3315       5591   \n",
       "employment_employment        268        586       1287       3696       5700   \n",
       "employment_membership       1119       1680       2264       4388       5911   \n",
       "membership_membership        952       1014       1185       1855       2463   \n",
       "Total                       4305       6119       9658      20231      32799   \n",
       "\n",
       "periods                1941-1970  1971-2000   Total  \n",
       "relaType_concat                                      \n",
       "education_education         3646       1107   11514  \n",
       "education_employment       11304       3685   33462  \n",
       "education_membership        4278        675   18463  \n",
       "employment_employment       7499       2691   21727  \n",
       "employment_membership       5071        866   21299  \n",
       "membership_membership       1555        250    9274  \n",
       "Total                      33353       9274  115739  "
      ]
     },
     "execution_count": 68,
     "metadata": {},
     "output_type": "execute_result"
    }
   ],
   "source": [
    "\n",
    "\n",
    "### Contingency table\n",
    "X = 'periods'\n",
    "Y = 'relaType_concat'  \n",
    "\n",
    "ddf = df_graph[[X,Y]].pivot_table(index=Y,columns=X,observed=True, aggfunc=len,margins=True,margins_name=\"Total\").fillna(0).astype(int)\n",
    "ddf\n",
    "\n"
   ]
  },
  {
   "cell_type": "code",
   "execution_count": 69,
   "metadata": {},
   "outputs": [],
   "source": [
    "ct_wm = ddf.iloc[:-1,:-1].copy(deep=True)"
   ]
  },
  {
   "cell_type": "code",
   "execution_count": 70,
   "metadata": {},
   "outputs": [
    {
     "name": "stdout",
     "output_type": "stream",
     "text": [
      "Chi2 : 8814.32 , dof : 30\n",
      "p-value : 0.0\n",
      "phi2 = inertie (variance totale) : 0.07615684273468207\n",
      "Cramer:  0.12341543074889952\n"
     ]
    }
   ],
   "source": [
    "### We observe a relationship between these two variables, \n",
    "# not so strong \n",
    "bivariee_stats(ct_wm)"
   ]
  },
  {
   "cell_type": "code",
   "execution_count": 71,
   "metadata": {},
   "outputs": [
    {
     "data": {
      "image/png": "[encoded data removed]",
      "text/plain": [
       "<Figure size 800x400 with 2 Axes>"
      ]
     },
     "metadata": {},
     "output_type": "display_data"
    }
   ],
   "source": [
    "pp = plot_chi2_residuals(ct_wm, figsize=(8, 4))"
   ]
  },
  {
   "cell_type": "code",
   "execution_count": null,
   "metadata": {},
   "outputs": [],
   "source": []
  },
  {
   "cell_type": "markdown",
   "metadata": {},
   "source": [
    "## Graph analysis\n",
    "\n",
    "\n",
    "We will explore some aspects of the relationships:\n",
    "\n",
    "* which organisations are connected through education, but this only at the level of universities, not earlier education stages\n",
    "* in the same perspective (same kind of relations), we will explore memberships and employments, keeping them separated\n",
    "* we will then ask what appears regarding the relationship between employment and membership\n",
    "* we finally inspect if some kind of educational institutions (at unversity level) lead to specific employments or memberships.\n",
    "\n",
    "\n",
    "\n",
    "\n"
   ]
  },
  {
   "cell_type": "markdown",
   "metadata": {},
   "source": [
    "### Organisations connected through higher education"
   ]
  },
  {
   "cell_type": "code",
   "execution_count": 74,
   "metadata": {},
   "outputs": [
    {
     "name": "stdout",
     "output_type": "stream",
     "text": [
      "['academy of sciences',\n",
      " 'astronomical observatory',\n",
      " 'company or gov. agency',\n",
      " 'educational institution',\n",
      " 'institute of technology',\n",
      " 'learned society',\n",
      " 'not classified organisation',\n",
      " 'private university',\n",
      " 'public university',\n",
      " 'research facility',\n",
      " 'research organisation',\n",
      " 'scientific organisation',\n",
      " 'university']\n"
     ]
    }
   ],
   "source": [
    "pprint.pprint(sorted(df_mainTypes.mainType.to_list()))"
   ]
  },
  {
   "cell_type": "code",
   "execution_count": 75,
   "metadata": {},
   "outputs": [],
   "source": [
    "types_list=['university', 'public university', 'private university']"
   ]
  },
  {
   "cell_type": "code",
   "execution_count": 76,
   "metadata": {},
   "outputs": [
    {
     "name": "stdout",
     "output_type": "stream",
     "text": [
      "5833\n"
     ]
    },
    {
     "data": {
      "text/html": [
       "<div>\n",
       "<style scoped>\n",
       "    .dataframe tbody tr th:only-of-type {\n",
       "        vertical-align: middle;\n",
       "    }\n",
       "\n",
       "    .dataframe tbody tr th {\n",
       "        vertical-align: top;\n",
       "    }\n",
       "\n",
       "    .dataframe thead th {\n",
       "        text-align: right;\n",
       "    }\n",
       "</style>\n",
       "<table border=\"1\" class=\"dataframe\">\n",
       "  <thead>\n",
       "    <tr style=\"text-align: right;\">\n",
       "      <th></th>\n",
       "      <th>periods</th>\n",
       "      <th>relaType_concat</th>\n",
       "      <th>uriOrg_x</th>\n",
       "      <th>labelOrg_x</th>\n",
       "      <th>orgMainType_x</th>\n",
       "      <th>uriOrg_y</th>\n",
       "      <th>labelOrg_y</th>\n",
       "      <th>orgMainType_y</th>\n",
       "      <th>labelPer</th>\n",
       "      <th>uriPer</th>\n",
       "      <th>number</th>\n",
       "    </tr>\n",
       "  </thead>\n",
       "  <tbody>\n",
       "    <tr>\n",
       "      <th>8</th>\n",
       "      <td>1751-1810</td>\n",
       "      <td>education_education</td>\n",
       "      <td>http://www.wikidata.org/entity/Q106947038</td>\n",
       "      <td>Q106947038</td>\n",
       "      <td>university</td>\n",
       "      <td>http://www.wikidata.org/entity/Q3064332</td>\n",
       "      <td>Science Faculty of Paris</td>\n",
       "      <td>university</td>\n",
       "      <td>Mikhail Ostrogradsky</td>\n",
       "      <td>http://www.wikidata.org/entity/Q355892</td>\n",
       "      <td>1</td>\n",
       "    </tr>\n",
       "    <tr>\n",
       "      <th>21</th>\n",
       "      <td>1751-1810</td>\n",
       "      <td>education_education</td>\n",
       "      <td>http://www.wikidata.org/entity/Q1189954</td>\n",
       "      <td>Mines ParisTech</td>\n",
       "      <td>public university</td>\n",
       "      <td>http://www.wikidata.org/entity/Q209842</td>\n",
       "      <td>University of Paris</td>\n",
       "      <td>university</td>\n",
       "      <td>Angelo Sismonda</td>\n",
       "      <td>http://www.wikidata.org/entity/Q3617232</td>\n",
       "      <td>1</td>\n",
       "    </tr>\n",
       "  </tbody>\n",
       "</table>\n",
       "</div>"
      ],
      "text/plain": [
       "      periods      relaType_concat                                   uriOrg_x  \\\n",
       "8   1751-1810  education_education  http://www.wikidata.org/entity/Q106947038   \n",
       "21  1751-1810  education_education    http://www.wikidata.org/entity/Q1189954   \n",
       "\n",
       "         labelOrg_x      orgMainType_x  \\\n",
       "8        Q106947038         university   \n",
       "21  Mines ParisTech  public university   \n",
       "\n",
       "                                   uriOrg_y                labelOrg_y  \\\n",
       "8   http://www.wikidata.org/entity/Q3064332  Science Faculty of Paris   \n",
       "21   http://www.wikidata.org/entity/Q209842       University of Paris   \n",
       "\n",
       "   orgMainType_y              labelPer  \\\n",
       "8     university  Mikhail Ostrogradsky   \n",
       "21    university       Angelo Sismonda   \n",
       "\n",
       "                                     uriPer  number  \n",
       "8    http://www.wikidata.org/entity/Q355892       1  \n",
       "21  http://www.wikidata.org/entity/Q3617232       1  "
      ]
     },
     "execution_count": 76,
     "metadata": {},
     "output_type": "execute_result"
    }
   ],
   "source": [
    "df_edu_graph = df_graph[(df_graph.relaType_concat == 'education_education') \\\n",
    "                     & (df_graph.orgMainType_x.isin(types_list)) \\\n",
    "                     & (df_graph.orgMainType_y.isin(types_list))  ]\n",
    "\n",
    "print(len(df_edu_graph))\n",
    "df_edu_graph.iloc[:2]"
   ]
  },
  {
   "cell_type": "code",
   "execution_count": 77,
   "metadata": {},
   "outputs": [
    {
     "data": {
      "text/html": [
       "<div>\n",
       "<style scoped>\n",
       "    .dataframe tbody tr th:only-of-type {\n",
       "        vertical-align: middle;\n",
       "    }\n",
       "\n",
       "    .dataframe tbody tr th {\n",
       "        vertical-align: top;\n",
       "    }\n",
       "\n",
       "    .dataframe thead th {\n",
       "        text-align: right;\n",
       "    }\n",
       "</style>\n",
       "<table border=\"1\" class=\"dataframe\">\n",
       "  <thead>\n",
       "    <tr style=\"text-align: right;\">\n",
       "      <th></th>\n",
       "      <th>periods</th>\n",
       "      <th>relaType_concat</th>\n",
       "      <th>uriOrg_x</th>\n",
       "      <th>labelOrg_x</th>\n",
       "      <th>orgMainType_x</th>\n",
       "      <th>uriOrg_y</th>\n",
       "      <th>labelOrg_y</th>\n",
       "      <th>orgMainType_y</th>\n",
       "      <th>labelPer</th>\n",
       "      <th>uriPer</th>\n",
       "      <th>number</th>\n",
       "    </tr>\n",
       "  </thead>\n",
       "  <tbody>\n",
       "    <tr>\n",
       "      <th>40961</th>\n",
       "      <td>1911-1940</td>\n",
       "      <td>education_education</td>\n",
       "      <td>http://www.wikidata.org/entity/Q13164</td>\n",
       "      <td>Moscow State University</td>\n",
       "      <td>public university</td>\n",
       "      <td>http://www.wikidata.org/entity/Q2367144</td>\n",
       "      <td>MSU Faculty of Physics</td>\n",
       "      <td>university</td>\n",
       "      <td>Vitaly Ginzburg|Lev Altshuler|Q15073626|Anatol...</td>\n",
       "      <td>http://www.wikidata.org/entity/Q104668|http://...</td>\n",
       "      <td>27</td>\n",
       "    </tr>\n",
       "    <tr>\n",
       "      <th>40960</th>\n",
       "      <td>1911-1940</td>\n",
       "      <td>education_education</td>\n",
       "      <td>http://www.wikidata.org/entity/Q13164</td>\n",
       "      <td>Moscow State University</td>\n",
       "      <td>public university</td>\n",
       "      <td>http://www.wikidata.org/entity/Q2367115</td>\n",
       "      <td>MSU Faculty of Mechanics and Mathematics</td>\n",
       "      <td>university</td>\n",
       "      <td>Valentin Esipov|Gary Gavrilov|Vladimir Arnold|...</td>\n",
       "      <td>http://www.wikidata.org/entity/Q112133335|http...</td>\n",
       "      <td>23</td>\n",
       "    </tr>\n",
       "  </tbody>\n",
       "</table>\n",
       "</div>"
      ],
      "text/plain": [
       "         periods      relaType_concat                               uriOrg_x  \\\n",
       "40961  1911-1940  education_education  http://www.wikidata.org/entity/Q13164   \n",
       "40960  1911-1940  education_education  http://www.wikidata.org/entity/Q13164   \n",
       "\n",
       "                    labelOrg_x      orgMainType_x  \\\n",
       "40961  Moscow State University  public university   \n",
       "40960  Moscow State University  public university   \n",
       "\n",
       "                                      uriOrg_y  \\\n",
       "40961  http://www.wikidata.org/entity/Q2367144   \n",
       "40960  http://www.wikidata.org/entity/Q2367115   \n",
       "\n",
       "                                     labelOrg_y orgMainType_y  \\\n",
       "40961                    MSU Faculty of Physics    university   \n",
       "40960  MSU Faculty of Mechanics and Mathematics    university   \n",
       "\n",
       "                                                labelPer  \\\n",
       "40961  Vitaly Ginzburg|Lev Altshuler|Q15073626|Anatol...   \n",
       "40960  Valentin Esipov|Gary Gavrilov|Vladimir Arnold|...   \n",
       "\n",
       "                                                  uriPer  number  \n",
       "40961  http://www.wikidata.org/entity/Q104668|http://...      27  \n",
       "40960  http://www.wikidata.org/entity/Q112133335|http...      23  "
      ]
     },
     "execution_count": 77,
     "metadata": {},
     "output_type": "execute_result"
    }
   ],
   "source": [
    "df_edu_graph.sort_values(by='number',ascending=False).iloc[:2]"
   ]
  },
  {
   "cell_type": "code",
   "execution_count": 78,
   "metadata": {},
   "outputs": [
    {
     "name": "stdout",
     "output_type": "stream",
     "text": [
      "periods\n",
      "1751-1810      93\n",
      "1811-1850     161\n",
      "1851-1880     389\n",
      "1881-1910     870\n",
      "1911-1940    1757\n",
      "1941-1970    1960\n",
      "1971-2000     603\n",
      "dtype: int64\n"
     ]
    }
   ],
   "source": [
    "### Number of relationships by period\n",
    "print(df_edu_graph.groupby('periods').size())"
   ]
  },
  {
   "cell_type": "markdown",
   "metadata": {},
   "source": [
    "### Inspect a specific period"
   ]
  },
  {
   "cell_type": "code",
   "execution_count": 80,
   "metadata": {},
   "outputs": [],
   "source": [
    "p = '1881-1910' #'1851-1880' #'1911-1940'"
   ]
  },
  {
   "cell_type": "code",
   "execution_count": 81,
   "metadata": {},
   "outputs": [
    {
     "data": {
      "text/html": [
       "<div>\n",
       "<style scoped>\n",
       "    .dataframe tbody tr th:only-of-type {\n",
       "        vertical-align: middle;\n",
       "    }\n",
       "\n",
       "    .dataframe tbody tr th {\n",
       "        vertical-align: top;\n",
       "    }\n",
       "\n",
       "    .dataframe thead th {\n",
       "        text-align: right;\n",
       "    }\n",
       "</style>\n",
       "<table border=\"1\" class=\"dataframe\">\n",
       "  <thead>\n",
       "    <tr style=\"text-align: right;\">\n",
       "      <th></th>\n",
       "      <th>periods</th>\n",
       "      <th>relaType_concat</th>\n",
       "      <th>uriOrg_x</th>\n",
       "      <th>labelOrg_x</th>\n",
       "      <th>orgMainType_x</th>\n",
       "      <th>uriOrg_y</th>\n",
       "      <th>labelOrg_y</th>\n",
       "      <th>orgMainType_y</th>\n",
       "      <th>labelPer</th>\n",
       "      <th>uriPer</th>\n",
       "      <th>number</th>\n",
       "    </tr>\n",
       "  </thead>\n",
       "  <tbody>\n",
       "    <tr>\n",
       "      <th>21482</th>\n",
       "      <td>1881-1910</td>\n",
       "      <td>education_education</td>\n",
       "      <td>http://www.wikidata.org/entity/Q332342</td>\n",
       "      <td>Trinity College</td>\n",
       "      <td>university</td>\n",
       "      <td>http://www.wikidata.org/entity/Q35794</td>\n",
       "      <td>University of Cambridge</td>\n",
       "      <td>university</td>\n",
       "      <td>William Lawrence Bragg|William McCrea|Subrahma...</td>\n",
       "      <td>http://www.wikidata.org/entity/Q131729|http://...</td>\n",
       "      <td>12</td>\n",
       "    </tr>\n",
       "    <tr>\n",
       "      <th>20703</th>\n",
       "      <td>1881-1910</td>\n",
       "      <td>education_education</td>\n",
       "      <td>http://www.wikidata.org/entity/Q152838</td>\n",
       "      <td>University of Göttingen</td>\n",
       "      <td>public university</td>\n",
       "      <td>http://www.wikidata.org/entity/Q55044</td>\n",
       "      <td>Ludwig-Maximilian-University in Munich</td>\n",
       "      <td>public university</td>\n",
       "      <td>Dimitrios Chondros|Werner Uhink|Wilhelm Heinri...</td>\n",
       "      <td>http://www.wikidata.org/entity/Q12876062|http:...</td>\n",
       "      <td>10</td>\n",
       "    </tr>\n",
       "  </tbody>\n",
       "</table>\n",
       "</div>"
      ],
      "text/plain": [
       "         periods      relaType_concat                                uriOrg_x  \\\n",
       "21482  1881-1910  education_education  http://www.wikidata.org/entity/Q332342   \n",
       "20703  1881-1910  education_education  http://www.wikidata.org/entity/Q152838   \n",
       "\n",
       "                    labelOrg_x      orgMainType_x  \\\n",
       "21482          Trinity College         university   \n",
       "20703  University of Göttingen  public university   \n",
       "\n",
       "                                    uriOrg_y  \\\n",
       "21482  http://www.wikidata.org/entity/Q35794   \n",
       "20703  http://www.wikidata.org/entity/Q55044   \n",
       "\n",
       "                                   labelOrg_y      orgMainType_y  \\\n",
       "21482                 University of Cambridge         university   \n",
       "20703  Ludwig-Maximilian-University in Munich  public university   \n",
       "\n",
       "                                                labelPer  \\\n",
       "21482  William Lawrence Bragg|William McCrea|Subrahma...   \n",
       "20703  Dimitrios Chondros|Werner Uhink|Wilhelm Heinri...   \n",
       "\n",
       "                                                  uriPer  number  \n",
       "21482  http://www.wikidata.org/entity/Q131729|http://...      12  \n",
       "20703  http://www.wikidata.org/entity/Q12876062|http:...      10  "
      ]
     },
     "execution_count": 81,
     "metadata": {},
     "output_type": "execute_result"
    }
   ],
   "source": [
    "df_edu_graph_p = df_edu_graph[(df_edu_graph.periods==p)]\n",
    "df_edu_graph_p.sort_values(by='number',ascending=False).head(2)"
   ]
  },
  {
   "cell_type": "code",
   "execution_count": 82,
   "metadata": {},
   "outputs": [
    {
     "name": "stdout",
     "output_type": "stream",
     "text": [
      "870\n"
     ]
    }
   ],
   "source": [
    "## Provide the data in the format \n",
    "# required by Networkx\n",
    "\n",
    "l = [tuple(\n",
    "    (e['uriOrg_x'], e['uriOrg_y'],\n",
    "     {'uriPers':e['uriPer'], 'labelPers':e['labelPer'],\n",
    "      ## the weight ist the number of persons in this relationship\n",
    "      'weight':e['number']}\n",
    "     )) \n",
    "     for e in df_edu_graph_p.to_dict(orient='records')]\n",
    "print(len(l))"
   ]
  },
  {
   "cell_type": "code",
   "execution_count": 83,
   "metadata": {},
   "outputs": [
    {
     "name": "stdout",
     "output_type": "stream",
     "text": [
      "{'is_multigraph': False,\n",
      " 'is_directed': False,\n",
      " 'number_of_nodes': 412,\n",
      " 'number_of_edges': 870,\n",
      " '------': '------',\n",
      " 'is connected': False,\n",
      " 'components': 14,\n",
      " 'density': 0.010275671461980015}\n",
      "[[0, 384], [3, 3], [5, 3], [1, 2], [2, 2]]\n"
     ]
    }
   ],
   "source": [
    "edu_graph_p=nx.Graph()\n",
    "\n",
    "## Add relationships to graph\n",
    "# Multiple rows between two edges are taken only once\n",
    "edu_graph_p.add_edges_from(l)\n",
    "\n",
    "naf.basic_graph_properties(edu_graph_p)\n",
    "\n",
    "### Create a list of graphs, one per component\n",
    "edu_graph_p_S = [edu_graph_p.subgraph(c).copy() for c in nx.connected_components(edu_graph_p)]\n",
    "\n",
    "### i is the component index in the list S of graphs , len(s.nodes) is the nomber of nodes\n",
    "ln = sorted([[i,len(s.nodes)] for i,s in enumerate(edu_graph_p_S)], key = lambda row: row[1], reverse=True)\n",
    "print(ln[:5])"
   ]
  },
  {
   "cell_type": "code",
   "execution_count": 84,
   "metadata": {},
   "outputs": [
    {
     "name": "stdout",
     "output_type": "stream",
     "text": [
      "Just one big component\n"
     ]
    }
   ],
   "source": [
    "### test if second component is significantly smaller \n",
    "# than first\n",
    "if ln[1][1]*20 < ln[0][1]:\n",
    "    print('Just one big component')\n",
    "else :\n",
    "    print('Beware: more than one big component !')    "
   ]
  },
  {
   "cell_type": "code",
   "execution_count": 85,
   "metadata": {},
   "outputs": [
    {
     "name": "stdout",
     "output_type": "stream",
     "text": [
      "{'is_multigraph': False,\n",
      " 'is_directed': False,\n",
      " 'number_of_nodes': 384,\n",
      " 'number_of_edges': 854,\n",
      " '------': '------',\n",
      " 'is connected': True,\n",
      " 'components': 1,\n",
      " 'density': 0.011613359442993907}\n"
     ]
    }
   ],
   "source": [
    "### Alternative way with just one graph\n",
    "pG = edu_graph_p_S[0]\n",
    "naf.basic_graph_properties(pG)"
   ]
  },
  {
   "cell_type": "code",
   "execution_count": 86,
   "metadata": {},
   "outputs": [
    {
     "data": {
      "text/html": [
       "<div>\n",
       "<style scoped>\n",
       "    .dataframe tbody tr th:only-of-type {\n",
       "        vertical-align: middle;\n",
       "    }\n",
       "\n",
       "    .dataframe tbody tr th {\n",
       "        vertical-align: top;\n",
       "    }\n",
       "\n",
       "    .dataframe thead th {\n",
       "        text-align: right;\n",
       "    }\n",
       "</style>\n",
       "<table border=\"1\" class=\"dataframe\">\n",
       "  <thead>\n",
       "    <tr style=\"text-align: right;\">\n",
       "      <th></th>\n",
       "      <th>uriOrg</th>\n",
       "      <th>labelOrg</th>\n",
       "      <th>orgMainType</th>\n",
       "      <th>periods</th>\n",
       "      <th>period_members_number</th>\n",
       "    </tr>\n",
       "  </thead>\n",
       "  <tbody>\n",
       "    <tr>\n",
       "      <th>12046</th>\n",
       "      <td>http://www.wikidata.org/entity/Q6867</td>\n",
       "      <td>International Astronomical Union</td>\n",
       "      <td>scientific organisation</td>\n",
       "      <td>1941-1970</td>\n",
       "      <td>883</td>\n",
       "    </tr>\n",
       "    <tr>\n",
       "      <th>6083</th>\n",
       "      <td>http://www.wikidata.org/entity/Q270794</td>\n",
       "      <td>National Academy of Sciences</td>\n",
       "      <td>academy of sciences</td>\n",
       "      <td>1911-1940</td>\n",
       "      <td>518</td>\n",
       "    </tr>\n",
       "  </tbody>\n",
       "</table>\n",
       "</div>"
      ],
      "text/plain": [
       "                                       uriOrg  \\\n",
       "12046    http://www.wikidata.org/entity/Q6867   \n",
       "6083   http://www.wikidata.org/entity/Q270794   \n",
       "\n",
       "                               labelOrg              orgMainType    periods  \\\n",
       "12046  International Astronomical Union  scientific organisation  1941-1970   \n",
       "6083       National Academy of Sciences      academy of sciences  1911-1940   \n",
       "\n",
       "       period_members_number  \n",
       "12046                    883  \n",
       "6083                     518  "
      ]
     },
     "execution_count": 86,
     "metadata": {},
     "output_type": "execute_result"
    }
   ],
   "source": [
    "df_orgPeriod.sort_values(by='period_members_number', ascending=False).head(2)"
   ]
  },
  {
   "cell_type": "code",
   "execution_count": 87,
   "metadata": {},
   "outputs": [
    {
     "data": {
      "text/html": [
       "<div>\n",
       "<style scoped>\n",
       "    .dataframe tbody tr th:only-of-type {\n",
       "        vertical-align: middle;\n",
       "    }\n",
       "\n",
       "    .dataframe tbody tr th {\n",
       "        vertical-align: top;\n",
       "    }\n",
       "\n",
       "    .dataframe thead th {\n",
       "        text-align: right;\n",
       "    }\n",
       "</style>\n",
       "<table border=\"1\" class=\"dataframe\">\n",
       "  <thead>\n",
       "    <tr style=\"text-align: right;\">\n",
       "      <th></th>\n",
       "      <th>uri</th>\n",
       "      <th>label</th>\n",
       "      <th>mainType</th>\n",
       "      <th>membersNumber</th>\n",
       "    </tr>\n",
       "  </thead>\n",
       "  <tbody>\n",
       "    <tr>\n",
       "      <th>0</th>\n",
       "      <td>http://www.wikidata.org/entity/Q100148173</td>\n",
       "      <td>Samaldas Arts College</td>\n",
       "      <td>educational institution</td>\n",
       "      <td>1</td>\n",
       "    </tr>\n",
       "    <tr>\n",
       "      <th>7</th>\n",
       "      <td>http://www.wikidata.org/entity/Q1003730</td>\n",
       "      <td>Bulgarian Academy of Sciences</td>\n",
       "      <td>academy of sciences</td>\n",
       "      <td>10</td>\n",
       "    </tr>\n",
       "    <tr>\n",
       "      <th>10</th>\n",
       "      <td>http://www.wikidata.org/entity/Q1004412</td>\n",
       "      <td>Bulletin of the Atomic Scientists</td>\n",
       "      <td>company or gov. agency</td>\n",
       "      <td>1</td>\n",
       "    </tr>\n",
       "    <tr>\n",
       "      <th>19</th>\n",
       "      <td>http://www.wikidata.org/entity/Q1007545</td>\n",
       "      <td>Galatasaray High School</td>\n",
       "      <td>educational institution</td>\n",
       "      <td>1</td>\n",
       "    </tr>\n",
       "    <tr>\n",
       "      <th>37</th>\n",
       "      <td>http://www.wikidata.org/entity/Q1010477</td>\n",
       "      <td>International Time Bureau</td>\n",
       "      <td>not classified organisation</td>\n",
       "      <td>1</td>\n",
       "    </tr>\n",
       "  </tbody>\n",
       "</table>\n",
       "</div>"
      ],
      "text/plain": [
       "                                          uri  \\\n",
       "0   http://www.wikidata.org/entity/Q100148173   \n",
       "7     http://www.wikidata.org/entity/Q1003730   \n",
       "10    http://www.wikidata.org/entity/Q1004412   \n",
       "19    http://www.wikidata.org/entity/Q1007545   \n",
       "37    http://www.wikidata.org/entity/Q1010477   \n",
       "\n",
       "                                label                     mainType  \\\n",
       "0               Samaldas Arts College      educational institution   \n",
       "7       Bulgarian Academy of Sciences          academy of sciences   \n",
       "10  Bulletin of the Atomic Scientists       company or gov. agency   \n",
       "19            Galatasaray High School      educational institution   \n",
       "37          International Time Bureau  not classified organisation   \n",
       "\n",
       "    membersNumber  \n",
       "0               1  \n",
       "7              10  \n",
       "10              1  \n",
       "19              1  \n",
       "37              1  "
      ]
     },
     "execution_count": 87,
     "metadata": {},
     "output_type": "execute_result"
    }
   ],
   "source": [
    "df_opl = df_orgPeriod[df_orgPeriod.periods==p][['uriOrg', 'labelOrg', 'orgMainType', 'period_members_number']]\n",
    "df_opl.columns=['uri', 'label', 'mainType', 'membersNumber']\n",
    "df_opl.head()\n"
   ]
  },
  {
   "cell_type": "code",
   "execution_count": 88,
   "metadata": {},
   "outputs": [
    {
     "name": "stdout",
     "output_type": "stream",
     "text": [
      "[('http://www.wikidata.org/entity/Q102398072',\n",
      "  {'label': 'philosophy faculty of the German university of Prague',\n",
      "   'mainType': 'university',\n",
      "   'membersNumber': 6}),\n",
      " ('http://www.wikidata.org/entity/Q102398197',\n",
      "  {'label': 'Faculty of Law, German University in Prague',\n",
      "   'mainType': 'university',\n",
      "   'membersNumber': 1})]\n"
     ]
    }
   ],
   "source": [
    "### Prepare data to add to nodes\n",
    "ln = dict([(e['uri'],\n",
    "     {'label':e['label'], 'mainType':e['mainType'],\n",
    "                        'membersNumber':e['membersNumber']}\n",
    "     ) for e in df_opl.to_dict(orient='records')])\n",
    "## Add attributes\n",
    "nx.set_node_attributes(pG, ln)\n",
    "pprint.pprint(list(pG.nodes.data())[:2])\n"
   ]
  },
  {
   "cell_type": "code",
   "execution_count": 89,
   "metadata": {},
   "outputs": [
    {
     "name": "stdout",
     "output_type": "stream",
     "text": [
      "university            244\n",
      "public university     109\n",
      "private university     31\n",
      "dtype: int64\n"
     ]
    }
   ],
   "source": [
    "mn_s = pd.Series([n[1]['mainType'] for n in pG.nodes.data()])\n",
    "print(mn_s.groupby(by=mn_s).size().sort_values(ascending=False))"
   ]
  },
  {
   "cell_type": "markdown",
   "metadata": {},
   "source": [
    "####  Create dataframe and inspect node properties"
   ]
  },
  {
   "cell_type": "code",
   "execution_count": 90,
   "metadata": {},
   "outputs": [
    {
     "name": "stdout",
     "output_type": "stream",
     "text": [
      "[('http://www.wikidata.org/entity/Q102398072',\n",
      "  {'eigenvector': 0.015222917458227885,\n",
      "   'label': 'philosophy faculty of the German university of Prague',\n",
      "   'mainType': 'university',\n",
      "   'membersNumber': 6})]\n"
     ]
    }
   ],
   "source": [
    "### Eigenvector\n",
    "le = list(nx.eigenvector_centrality(pG, \n",
    "                        max_iter=200, weight='weight').items())\n",
    "nx.set_node_attributes(pG, dict(le), 'eigenvector')\n",
    "pprint.pprint(list(pG.nodes.data())[:1])"
   ]
  },
  {
   "cell_type": "code",
   "execution_count": 91,
   "metadata": {},
   "outputs": [
    {
     "name": "stdout",
     "output_type": "stream",
     "text": [
      "[('http://www.wikidata.org/entity/Q102398072',\n",
      "  {'betweenness': 0.006216690377060662,\n",
      "   'eigenvector': 0.015222917458227885,\n",
      "   'label': 'philosophy faculty of the German university of Prague',\n",
      "   'mainType': 'university',\n",
      "   'membersNumber': 6})]\n"
     ]
    }
   ],
   "source": [
    "### Betweenness\n",
    "lb = list(nx.betweenness_centrality(pG, weight='weight').items())\n",
    "nx.set_node_attributes(pG, dict(lb), 'betweenness')\n",
    "pprint.pprint(list(pG.nodes.data())[:1])\n"
   ]
  },
  {
   "cell_type": "code",
   "execution_count": 92,
   "metadata": {},
   "outputs": [
    {
     "data": {
      "text/html": [
       "<div>\n",
       "<style scoped>\n",
       "    .dataframe tbody tr th:only-of-type {\n",
       "        vertical-align: middle;\n",
       "    }\n",
       "\n",
       "    .dataframe tbody tr th {\n",
       "        vertical-align: top;\n",
       "    }\n",
       "\n",
       "    .dataframe thead th {\n",
       "        text-align: right;\n",
       "    }\n",
       "</style>\n",
       "<table border=\"1\" class=\"dataframe\">\n",
       "  <thead>\n",
       "    <tr style=\"text-align: right;\">\n",
       "      <th></th>\n",
       "      <th>id</th>\n",
       "      <th>label</th>\n",
       "      <th>mainType</th>\n",
       "      <th>membersNumber</th>\n",
       "      <th>eigenvector</th>\n",
       "      <th>betweenness</th>\n",
       "    </tr>\n",
       "  </thead>\n",
       "  <tbody>\n",
       "    <tr>\n",
       "      <th>0</th>\n",
       "      <td>http://www.wikidata.org/entity/Q102398072</td>\n",
       "      <td>philosophy faculty of the German university of...</td>\n",
       "      <td>university</td>\n",
       "      <td>6</td>\n",
       "      <td>0.015223</td>\n",
       "      <td>0.006217</td>\n",
       "    </tr>\n",
       "    <tr>\n",
       "      <th>1</th>\n",
       "      <td>http://www.wikidata.org/entity/Q102398197</td>\n",
       "      <td>Faculty of Law, German University in Prague</td>\n",
       "      <td>university</td>\n",
       "      <td>1</td>\n",
       "      <td>0.000524</td>\n",
       "      <td>0.0</td>\n",
       "    </tr>\n",
       "  </tbody>\n",
       "</table>\n",
       "</div>"
      ],
      "text/plain": [
       "                                          id  \\\n",
       "0  http://www.wikidata.org/entity/Q102398072   \n",
       "1  http://www.wikidata.org/entity/Q102398197   \n",
       "\n",
       "                                               label    mainType  \\\n",
       "0  philosophy faculty of the German university of...  university   \n",
       "1        Faculty of Law, German University in Prague  university   \n",
       "\n",
       "  membersNumber eigenvector betweenness  \n",
       "0             6    0.015223    0.006217  \n",
       "1             1    0.000524         0.0  "
      ]
     },
     "execution_count": 92,
     "metadata": {},
     "output_type": "execute_result"
    }
   ],
   "source": [
    "### Export node attributes to dataframe\n",
    "nodes_data ={node: pG.nodes[node] for node in pG.nodes}\n",
    "nodes_df = pd.DataFrame(nodes_data).T\n",
    "nodes_df.reset_index(inplace=True, names='id')\n",
    "nodes_df.head(2)\n"
   ]
  },
  {
   "cell_type": "code",
   "execution_count": 93,
   "metadata": {},
   "outputs": [
    {
     "data": {
      "text/html": [
       "<div>\n",
       "<style scoped>\n",
       "    .dataframe tbody tr th:only-of-type {\n",
       "        vertical-align: middle;\n",
       "    }\n",
       "\n",
       "    .dataframe tbody tr th {\n",
       "        vertical-align: top;\n",
       "    }\n",
       "\n",
       "    .dataframe thead th {\n",
       "        text-align: right;\n",
       "    }\n",
       "</style>\n",
       "<table border=\"1\" class=\"dataframe\">\n",
       "  <thead>\n",
       "    <tr style=\"text-align: right;\">\n",
       "      <th></th>\n",
       "      <th>mainType</th>\n",
       "      <th>number</th>\n",
       "    </tr>\n",
       "  </thead>\n",
       "  <tbody>\n",
       "    <tr>\n",
       "      <th>12</th>\n",
       "      <td>university</td>\n",
       "      <td>25139</td>\n",
       "    </tr>\n",
       "    <tr>\n",
       "      <th>8</th>\n",
       "      <td>public university</td>\n",
       "      <td>13909</td>\n",
       "    </tr>\n",
       "    <tr>\n",
       "      <th>0</th>\n",
       "      <td>academy of sciences</td>\n",
       "      <td>8210</td>\n",
       "    </tr>\n",
       "    <tr>\n",
       "      <th>5</th>\n",
       "      <td>learned society</td>\n",
       "      <td>5551</td>\n",
       "    </tr>\n",
       "    <tr>\n",
       "      <th>7</th>\n",
       "      <td>private university</td>\n",
       "      <td>5030</td>\n",
       "    </tr>\n",
       "    <tr>\n",
       "      <th>3</th>\n",
       "      <td>educational institution</td>\n",
       "      <td>4634</td>\n",
       "    </tr>\n",
       "    <tr>\n",
       "      <th>10</th>\n",
       "      <td>research organisation</td>\n",
       "      <td>4325</td>\n",
       "    </tr>\n",
       "    <tr>\n",
       "      <th>4</th>\n",
       "      <td>institute of technology</td>\n",
       "      <td>3173</td>\n",
       "    </tr>\n",
       "    <tr>\n",
       "      <th>11</th>\n",
       "      <td>scientific organisation</td>\n",
       "      <td>2815</td>\n",
       "    </tr>\n",
       "    <tr>\n",
       "      <th>6</th>\n",
       "      <td>not classified organisation</td>\n",
       "      <td>2204</td>\n",
       "    </tr>\n",
       "    <tr>\n",
       "      <th>2</th>\n",
       "      <td>company or gov. agency</td>\n",
       "      <td>1353</td>\n",
       "    </tr>\n",
       "    <tr>\n",
       "      <th>1</th>\n",
       "      <td>astronomical observatory</td>\n",
       "      <td>1232</td>\n",
       "    </tr>\n",
       "    <tr>\n",
       "      <th>9</th>\n",
       "      <td>research facility</td>\n",
       "      <td>649</td>\n",
       "    </tr>\n",
       "  </tbody>\n",
       "</table>\n",
       "</div>"
      ],
      "text/plain": [
       "                       mainType  number\n",
       "12                   university   25139\n",
       "8             public university   13909\n",
       "0           academy of sciences    8210\n",
       "5               learned society    5551\n",
       "7            private university    5030\n",
       "3       educational institution    4634\n",
       "10        research organisation    4325\n",
       "4       institute of technology    3173\n",
       "11      scientific organisation    2815\n",
       "6   not classified organisation    2204\n",
       "2        company or gov. agency    1353\n",
       "1      astronomical observatory    1232\n",
       "9             research facility     649"
      ]
     },
     "execution_count": 93,
     "metadata": {},
     "output_type": "execute_result"
    }
   ],
   "source": [
    "df_mainTypes"
   ]
  },
  {
   "cell_type": "code",
   "execution_count": null,
   "metadata": {},
   "outputs": [
    {
     "name": "stdout",
     "output_type": "stream",
     "text": [
      "['university',\n",
      " 'public university',\n",
      " 'academy of sciences',\n",
      " 'learned society',\n",
      " 'private university',\n",
      " 'research organisation',\n",
      " 'institute of technology',\n",
      " 'scientific organisation',\n",
      " 'company or gov. agency',\n",
      " 'astronomical observatory',\n",
      " 'research facility']\n"
     ]
    }
   ],
   "source": [
    "### exclude less relevant or dirty classifications\n",
    "lt=[t for t in df_mainTypes.mainType.to_list()\n",
    "                if ('educat' not in t)  & ('classif' not in t)]\n",
    "pprint.pprint(lt)"
   ]
  },
  {
   "cell_type": "code",
   "execution_count": 95,
   "metadata": {},
   "outputs": [
    {
     "name": "stdout",
     "output_type": "stream",
     "text": [
      "['#ff0066', '#0000ff', '#00aaff', '#beb6f2', '#b6e6f2', '#e6f2b6', '#f2b6b6', '#2d50b3', '#ccff00', '#8c005e', '#8c8300']\n"
     ]
    }
   ],
   "source": [
    "### source\n",
    "# https://phrogz.net/css/distinct-colors.html\n",
    "col_l = [c.strip() for c in '#ff0066, #0000ff, #00aaff,#beb6f2, #b6e6f2, #e6f2b6, #f2b6b6,#2d50b3, #ccff00, #8c005e, #8c8300'.split(',')]\n",
    "print(col_l)"
   ]
  },
  {
   "cell_type": "code",
   "execution_count": 96,
   "metadata": {},
   "outputs": [
    {
     "name": "stdout",
     "output_type": "stream",
     "text": [
      "[('university', '#ff0066'), ('public university', '#0000ff'), ('academy of sciences', '#00aaff'), ('learned society', '#beb6f2'), ('private university', '#b6e6f2'), ('research organisation', '#e6f2b6'), ('institute of technology', '#f2b6b6'), ('scientific organisation', '#2d50b3'), ('company or gov. agency', '#ccff00'), ('astronomical observatory', '#8c005e'), ('research facility', '#8c8300')]\n"
     ]
    }
   ],
   "source": [
    "col_list= [e for e in zip(lt, col_l)]\n",
    "print(col_list)"
   ]
  },
  {
   "cell_type": "code",
   "execution_count": 97,
   "metadata": {},
   "outputs": [
    {
     "name": "stdout",
     "output_type": "stream",
     "text": [
      "{'academy of sciences': '#00aaff',\n",
      " 'astronomical observatory': '#8c005e',\n",
      " 'company or gov. agency': '#ccff00',\n",
      " 'institute of technology': '#f2b6b6',\n",
      " 'learned society': '#beb6f2',\n",
      " 'private university': '#b6e6f2',\n",
      " 'public university': '#0000ff',\n",
      " 'research facility': '#8c8300',\n",
      " 'research organisation': '#e6f2b6',\n",
      " 'scientific organisation': '#2d50b3',\n",
      " 'university': '#ff0066'}\n"
     ]
    }
   ],
   "source": [
    "color_map=dict([(c[0], (c[1])) for c in col_list])\n",
    "pprint.pprint(color_map)"
   ]
  },
  {
   "cell_type": "code",
   "execution_count": 129,
   "metadata": {},
   "outputs": [],
   "source": [
    "### Manually modified list\n",
    "color_map = {'academy of sciences': '#00aaff',\n",
    " 'astronomical observatory': '#8c005e',\n",
    " 'company or gov. agency': '#ccff00',\n",
    " 'institute of technology': '#f2b6b6',\n",
    " 'learned society': '#ff0066',\n",
    " 'private university': '#ffcc00',\n",
    " 'public university': '#8c8300',\n",
    " 'research facility': '#d90000',\n",
    " 'research organisation': '#beb6f2',\n",
    " 'scientific organisation': '#2d50b3',\n",
    " 'university': '#b6e6f2'}"
   ]
  },
  {
   "cell_type": "code",
   "execution_count": 130,
   "metadata": {},
   "outputs": [
    {
     "data": {
      "image/png": "[encoded data removed]",
      "text/plain": [
       "<Figure size 300x300 with 1 Axes>"
      ]
     },
     "metadata": {},
     "output_type": "display_data"
    }
   ],
   "source": [
    "\n",
    "fig = plt.figure(figsize=(3,3))\n",
    "\n",
    "\n",
    "### Create lists of colors and labels\n",
    "colors = [color_map.keys()]\n",
    " \n",
    "\n",
    "plt.legend(handles=[plt.Line2D([0], [0], marker='o', color='w', \n",
    "                            label=label, markerfacecolor=color, \n",
    "                            markersize=8, alpha=0.6\n",
    "                            ) for label, color in color_map.items() ],\n",
    "                            loc='upper left', fontsize=8)\n",
    "plt.tight_layout() # rect=[0,0,0.8,1]\n",
    "\n",
    "plt.title('Couleurs')\n",
    "\n",
    "plt.show()"
   ]
  },
  {
   "cell_type": "code",
   "execution_count": 131,
   "metadata": {},
   "outputs": [],
   "source": [
    "### Create a function that plots the comparison between values and properties\n",
    "\n",
    "def compare_with_scatter_plot(dataframe, value_1, value_2, point_column,point_ratio=1, \n",
    "                              c_category='', color_map='', figsize=(12,12), \n",
    "                              legend_loc='upper right',title='', \n",
    "                              n_label ='', label_cut_value=''):\n",
    "\n",
    "    ### https://matplotlib.org/stable/api/_as_gen/matplotlib.pyplot.scatter.html\n",
    "    # Different colors per class : https://vitalflux.com/python-scatter-plot-different-classes/\n",
    "    # Legend : https://matplotlib.org/stable/api/_as_gen/matplotlib.pyplot.legend.html\n",
    "    # Labels : https://stackoverflow.com/questions/14432557/matplotlib-scatter-plot-with-different-text-at-each-data-point\n",
    "\n",
    "\n",
    "\n",
    "    df=dataframe\n",
    "    # df_extr=nodes_df[nodes_df.betweenness > 0].sort_values(by='betweenness', ascending=False)\n",
    "\n",
    "    alpha=0.7\n",
    "\n",
    "    ### Manage point colors:\n",
    "    # https://kanoki.org/2020/08/30/matplotlib-scatter-plot-color-by-category-in-python/\n",
    "\n",
    "    plt.figure(figsize=figsize)\n",
    "\n",
    "\n",
    "    ### Create lists of colors and labels\n",
    "    colors = [color_map[category] for category in df[c_category]]\n",
    " \n",
    "\n",
    "\n",
    "\n",
    "    ax = plt.scatter(df[value_1],\n",
    "                df[value_2],\n",
    "            marker='o',\n",
    "            s = [v*point_ratio for i,v in df[point_column].items()],\n",
    "            color=colors,        \n",
    "            alpha=alpha)\n",
    "    plt.xlabel(value_1.capitalize())\n",
    "    plt.ylabel(value_2.capitalize())\n",
    "\n",
    "\n",
    "\n",
    "\n",
    "\n",
    "\n",
    "    ### Labels\n",
    "    test_v1 = df[value_1].quantile([0.97]).item()\n",
    "    test_v2 = df[value_2].quantile([0.95]).item()\n",
    "    print(test_v1,test_v2)\n",
    "\n",
    "\n",
    "    if len(n_label)>0:\n",
    "        for i,row in list(df.loc[(df[value_1]>test_v1)|(df[value_2]>test_v2)]\\\n",
    "                          [[n_label,value_1,value_2]].iterrows()):\n",
    "            plt.annotate(row[n_label][:30],(row[value_1], row[value_2]), fontsize=6)\n",
    "\n",
    "    plt.legend(handles=[plt.Line2D([0], [0], marker='o', color='w', \n",
    "                            label=label, markerfacecolor=color, \n",
    "                            markersize=8, alpha=alpha\n",
    "                            ) for label, color in color_map.items() \n",
    "                                    if label in types_list ],\n",
    "                            loc=legend_loc, fontsize=8)\n",
    "    plt.tight_layout() # rect=[0,0,0.8,1]\n",
    "\n",
    "    plt.title(title)\n",
    "\n",
    "    # plt.savefig('plots/revenus_eigenvector_20210526.jpg')\n",
    "    plt.show()"
   ]
  },
  {
   "cell_type": "code",
   "execution_count": 132,
   "metadata": {},
   "outputs": [
    {
     "name": "stdout",
     "output_type": "stream",
     "text": [
      "0.09375758199857782 0.0312820771041274\n"
     ]
    },
    {
     "data": {
      "image/png": "[encoded data removed]",
      "text/plain": [
       "<Figure size 800x800 with 1 Axes>"
      ]
     },
     "metadata": {},
     "output_type": "display_data"
    },
    {
     "name": "stdout",
     "output_type": "stream",
     "text": [
      "Spearman's rank correlation: 0.645765533624037\n"
     ]
    }
   ],
   "source": [
    "compare_with_scatter_plot(nodes_df, 'eigenvector', 'betweenness', 'membersNumber', \n",
    "                          point_ratio=3, c_category='mainType',\n",
    "                          color_map=color_map, figsize=(8,8), \n",
    "                          legend_loc='lower right', \n",
    "                          title='Eigenvector vs betweenness, with number of persons', \n",
    "                          n_label='label', label_cut_value='membersNumber' )\n",
    "\n",
    "corr_spear = nodes_df[['eigenvector', 'betweenness']].corr(method=\"spearman\")\n",
    "print(\"Spearman's rank correlation: {}\".format(corr_spear.iloc[0,1]))"
   ]
  },
  {
   "cell_type": "code",
   "execution_count": null,
   "metadata": {},
   "outputs": [],
   "source": [
    "list(nodes_df.columns)"
   ]
  },
  {
   "cell_type": "code",
   "execution_count": 102,
   "metadata": {},
   "outputs": [
    {
     "name": "stdout",
     "output_type": "stream",
     "text": [
      "Betweenness\n",
      "                                      label            mainType membersNumber\n",
      "23                  University of Cambridge          university           128\n",
      "27                  University of Göttingen   public university           154\n",
      "43                      University of Paris          university            73\n",
      "78            Humboldt University of Berlin          university           123\n",
      "109      California Institute of Technology          university            75\n",
      "12                    University of Chicago  private university           117\n",
      "4    Ludwig-Maximilian-University in Munich   public university           100\n",
      "\n",
      "-----\n",
      "Eigenvector\n",
      "                                      label           mainType membersNumber\n",
      "27                  University of Göttingen  public university           154\n",
      "4    Ludwig-Maximilian-University in Munich  public university           100\n",
      "78            Humboldt University of Berlin         university           123\n",
      "23                  University of Cambridge         university           128\n",
      "7                        Leipzig University  public university            66\n",
      "183                   Heidelberg University  public university            45\n",
      "104                         Trinity College         university            33\n"
     ]
    }
   ],
   "source": [
    "print('Betweenness')\n",
    "pprint.pprint((nodes_df.sort_values(by='betweenness', ascending=False)[['label', 'mainType', 'membersNumber']].head(7)))\n",
    "print('\\n-----\\nEigenvector')\n",
    "pprint.pprint((nodes_df.sort_values(by='eigenvector', ascending=False)[['label', 'mainType', 'membersNumber']].head(7)))"
   ]
  },
  {
   "cell_type": "code",
   "execution_count": null,
   "metadata": {},
   "outputs": [],
   "source": []
  },
  {
   "cell_type": "markdown",
   "metadata": {},
   "source": [
    "#### Plot graph"
   ]
  },
  {
   "cell_type": "code",
   "execution_count": 107,
   "metadata": {},
   "outputs": [
    {
     "name": "stdout",
     "output_type": "stream",
     "text": [
      "images/organisations/edu_edu_1881-1910.svg\n"
     ]
    }
   ],
   "source": [
    "pict_addr = 'images/organisations/edu_edu_' + p +'.svg'\n",
    "print(pict_addr)"
   ]
  },
  {
   "cell_type": "code",
   "execution_count": 133,
   "metadata": {},
   "outputs": [],
   "source": [
    "### Plot the graph\n",
    "\n",
    "g = pG\n",
    "# n_size = np.log(np.sqrt(nx.number_of_nodes(g)))* 25 #*25\n",
    "n_size = np.log(nx.number_of_nodes(g))*10\n",
    "\n",
    "graph_layout = 'spring_layout'\n",
    "n_k = np.log(nx.number_of_nodes(g))/20 #2.5\n",
    "\n",
    "### Define the layout, i.e. the choice \n",
    "# of the algorithm for the representation of the graph.\n",
    "\n",
    "if graph_layout == 'fruchterman_reingold':\n",
    "    pos = nx.fruchterman_reingold_layout(g)\n",
    "elif graph_layout == 'kamada_kawai':\n",
    "    pos = nx.kamada_kawai_layout(g)\n",
    "elif graph_layout == 'spring_layout':\n",
    "    pos = nx.spring_layout(g, k = n_k)  \n",
    "else:\n",
    "    pos = nx.kamada_kawai_layout(g)\n",
    "\n",
    "# https://networkx.org/documentation/stable/reference/drawing.html\n",
    "plt.figure(figsize = (n_size,n_size))\n",
    "\n",
    "node_size = [n[1]['membersNumber']*20 for n in g.nodes.data()]\n",
    "#node_size = [d[1]*100 for d in nx.degree(g)]\n",
    "node_colors= [color_map[n[1]['mainType']] for n in g.nodes.data()]\n",
    "\n",
    "edge_size = [e[2]['weight'] for e in g.edges.data()]\n",
    "edge_labels = {e: g.get_edge_data(e[0], e[1])[\"weight\"] for e in g.edges()}\n",
    "\n",
    "node_labels = dict([tuple(( n[0] , n[1]['label'] )) for n in g.nodes.data()])\n",
    "\n",
    "\n",
    "nx.draw_networkx_nodes(g, pos, node_size=node_size, node_color=node_colors, alpha=0.6)\n",
    "nx.draw_networkx_edges(g, pos, width=edge_size, alpha=0.02) # edgelist=ln, edge_color=c, \n",
    "nx.draw_networkx_labels(g, pos, labels=node_labels, alpha=0.7, font_size=10)\n",
    "#nx.draw_networkx_edge_labels(g, pos, edge_labels=edge_labels, alpha=0.7, font_size=10)\n",
    "\n",
    "alpha_n=0.5\n",
    "\n",
    "plt.legend(handles=[plt.Line2D([0], [0], marker='o', color='w', \n",
    "                        label=label, markerfacecolor=color, \n",
    "                        markersize=12, alpha=alpha_n\n",
    "                        )\n",
    "                        for label, color in color_map.items()\n",
    "                        if label in types_list ],\n",
    "                        loc='lower right', fontsize=12)\n",
    "\n",
    "\n",
    "### On peut augmenter ou diminuer ce paramètre pour ajuster le graphe\n",
    "plt.tight_layout(pad=60)\n",
    "pict_addr = pict_addr\n",
    "plt.savefig(pict_addr)\n",
    "#plt.show()\n",
    "plt.close()\n"
   ]
  },
  {
   "cell_type": "markdown",
   "metadata": {},
   "source": [
    "### Communitites"
   ]
  },
  {
   "cell_type": "code",
   "execution_count": null,
   "metadata": {},
   "outputs": [],
   "source": [
    "l_communities = [(c, len(c)) for c in list(nx.community.louvain_communities(pG, resolution=0.7, weight='weight'))]\n",
    "print( len(l_communities))\n",
    "sl_communities = sorted(l_communities, key=lambda x: x[1], reverse=True)\n",
    "print([c[1] for c in sl_communities])\n",
    "print(sl_communities[-1:])\n"
   ]
  },
  {
   "cell_type": "code",
   "execution_count": null,
   "metadata": {},
   "outputs": [],
   "source": [
    "for i in range(0,5):\n",
    "   print('\\n\\nCommunity '+ str(i), '\\nBetweenness')\n",
    "   pprint.pprint((nodes_df[nodes_df.id.isin(list(sl_communities[i][0])) ].sort_values(by='betweenness', ascending=False)[['label', 'mainType', 'membersNumber']].head(4)))\n",
    "   print('\\n-----\\nEigenvector')\n",
    "   pprint.pprint((nodes_df[nodes_df.id.isin(list(sl_communities[i][0])) ].sort_values(by='eigenvector', ascending=False)[['label', 'mainType', 'membersNumber']].head(4)))\n"
   ]
  },
  {
   "cell_type": "markdown",
   "metadata": {},
   "source": [
    "#### Plot communitites graph"
   ]
  },
  {
   "cell_type": "code",
   "execution_count": null,
   "metadata": {},
   "outputs": [],
   "source": [
    "pict_addr_comm = 'images/organisations/edu_edu_communities_' + p +'.svg'\n",
    "print(pict_addr_comm)"
   ]
  },
  {
   "cell_type": "code",
   "execution_count": null,
   "metadata": {},
   "outputs": [],
   "source": [
    "### Plot the graph\n",
    "\n",
    "g = pG\n",
    "# n_size = np.log(np.sqrt(nx.number_of_nodes(g)))* 25 #*25\n",
    "n_size = np.log(nx.number_of_nodes(g))*10\n",
    "\n",
    "graph_layout = 'spring_layout'\n",
    "n_k = np.log(nx.number_of_nodes(g))/20 #2.5\n",
    "\n",
    "### Define the layout, i.e. the choice \n",
    "# of the algorithm for the representation of the graph.\n",
    "\n",
    "if graph_layout == 'fruchterman_reingold':\n",
    "    pos = nx.fruchterman_reingold_layout(g)\n",
    "elif graph_layout == 'kamada_kawai':\n",
    "    pos = nx.kamada_kawai_layout(g)\n",
    "elif graph_layout == 'spring_layout':\n",
    "    pos = nx.spring_layout(g, k = n_k)  \n",
    "else:\n",
    "    pos = nx.kamada_kawai_layout(g)\n",
    "\n",
    "# https://networkx.org/documentation/stable/reference/drawing.html\n",
    "plt.figure(figsize = (n_size,n_size))\n",
    "\n",
    "node_size = [n[1]['membersNumber']*20 for n in g.nodes.data()]\n",
    "#node_size = [d[1]*100 for d in nx.degree(g)]\n",
    "\n",
    "node_colors = []\n",
    "for n in g.nodes.data():\n",
    "    if n[0] in list(sl_communities[0][0]):\n",
    "        node_colors.append('red')\n",
    "    elif n[0] in list(sl_communities[1][0]):\n",
    "        node_colors.append('blue')\n",
    "    elif n[0] in list(sl_communities[2][0]):\n",
    "        node_colors.append('green')\n",
    "    elif n[0] in list(sl_communities[3][0]):\n",
    "        node_colors.append('orange')\n",
    "    elif n[0] in list(sl_communities[4][0]):\n",
    "        node_colors.append('maroon')\n",
    "    else:\n",
    "        node_colors.append('lightGrey')        \n",
    "\n",
    "\n",
    "edge_size = [e[2]['weight'] for e in g.edges.data()]\n",
    "edge_labels = {e: g.get_edge_data(e[0], e[1])[\"weight\"] for e in g.edges()}\n",
    "\n",
    "node_labels = dict([tuple(( n[0] , n[1]['label'] )) for n in g.nodes.data()])\n",
    "\n",
    "\n",
    "nx.draw_networkx_nodes(g, pos, node_size=node_size, node_color=node_colors, alpha=0.6)\n",
    "nx.draw_networkx_edges(g, pos, width=edge_size, alpha=0.02) # edgelist=ln, edge_color=c, \n",
    "nx.draw_networkx_labels(g, pos, labels=node_labels, alpha=0.7, font_size=10)\n",
    "#nx.draw_networkx_edge_labels(g, pos, edge_labels=edge_labels, alpha=0.7, font_size=10)\n",
    "\n",
    "alpha_n=0.5\n",
    "\n",
    "\n",
    "\n",
    "### On peut augmenter ou diminuer ce paramètre pour ajuster le graphe\n",
    "plt.tight_layout(pad=60)\n",
    "pict_addr = pict_addr_comm\n",
    "plt.savefig(pict_addr)\n",
    "#plt.show()\n",
    "plt.close()\n"
   ]
  },
  {
   "cell_type": "code",
   "execution_count": null,
   "metadata": {},
   "outputs": [],
   "source": []
  },
  {
   "cell_type": "code",
   "execution_count": null,
   "metadata": {},
   "outputs": [],
   "source": []
  },
  {
   "cell_type": "markdown",
   "metadata": {},
   "source": [
    "## Create general function"
   ]
  },
  {
   "cell_type": "code",
   "execution_count": null,
   "metadata": {},
   "outputs": [],
   "source": [
    "def generate_report_and_plots(df, concatRelaType, type_list, doc_addr, df_orgPeriod):\n",
    "\n",
    "    with open(doc_addr, \"w\") as myfile:\n",
    "        myfile.write('# Report for relations: ' + concatRelaType + '\\n')\n",
    "\n",
    "\n",
    "    df_g = df[(df.relaType_concat == concatRelaType) \\\n",
    "                     & (df.orgMainType_x.isin(type_list)) \\\n",
    "                     & (df.orgMainType_y.isin(type_list))  ]\n",
    "\n",
    "    txt = str(df_g.groupby('periods').size())\n",
    "\n",
    "    with open(doc_addr, \"a\") as myfile:\n",
    "        myfile.write('\\n'+txt + '\\n')\n",
    "\n",
    "    for p in df_g['periods'].unique():\n",
    "        print(str(p))   \n",
    "\n",
    "        with open(doc_addr, \"a\") as myfile:\n",
    "            myfile.write('\\n\\n\\n## Values for ' + p + '\\n')\n",
    "\n",
    "        df_g_p = df_g[df_g.periods==p]\n",
    "        \n",
    "        with open(doc_addr, \"a\") as myfile:\n",
    "            myfile.write('\\nNumber of relationships for this period ' + str(len(df_g_p)) + '\\n')\n",
    "        \n",
    "        l = [tuple(\n",
    "            (e['uriOrg_x'], e['uriOrg_y'],\n",
    "            {'uriPers':e['uriPer'], 'labelPers':e['labelPer'],\n",
    "            ## the weight ist the number of persons in this relationship\n",
    "            'weight':e['number']}\n",
    "            )) \n",
    "            for e in df_g_p.to_dict(orient='records')]\n",
    "        \n",
    "        graph_p=nx.Graph()\n",
    "        graph_p.add_edges_from(l)\n",
    "\n",
    "        txt = 'Number of nodes: ' + str(graph_p.number_of_nodes())+\\\n",
    "                '\\nNumber of edges: ' + str(graph_p.number_of_edges())\n",
    "        with open(doc_addr, \"a\") as myfile:\n",
    "                    myfile.write('\\n'+ txt  + '\\n')\n",
    "\n",
    "        ### Components\n",
    "        graph_p_S = [graph_p.subgraph(c).copy() \n",
    "                     for c in nx.connected_components(graph_p)]\n",
    "\n",
    "        ln = sorted([[i,len(s.nodes)] for i,s in enumerate(graph_p_S)], key = lambda row: row[1], reverse=True)\n",
    "        try:\n",
    "            if ln[1][1]*20 < ln[0][1]:\n",
    "                with open(doc_addr, \"a\") as myfile:\n",
    "                    myfile.write('\\nJust one big component with ' + str(graph_p_S[0].number_of_nodes()) + ' nodes\\n')            \n",
    "            else :\n",
    "                with open(doc_addr, \"a\") as myfile:\n",
    "                    myfile.write('\\nBeware: more than one big component !'  + '\\n')\n",
    "        except Exception as e:\n",
    "             print(e)            \n",
    "            \n",
    "        ### Alternative way with just one graph\n",
    "        pG = graph_p_S[0]\n",
    "\n",
    "        txt = 'Number of nodes for first component: ' + str(pG.number_of_nodes())+\\\n",
    "                '\\nNumber of edges for first component: ' + str(pG.number_of_edges())\n",
    "        with open(doc_addr, \"a\") as myfile:\n",
    "                    myfile.write('\\n'+ txt  + '\\n')\n",
    "\n",
    "        ### No treatment for smaller graphs\n",
    "        if int(pG.number_of_nodes()) > 30:\n",
    "\n",
    "            ### Prepare data to add to nodes\n",
    "\n",
    "            df_opl = df_orgPeriod[df_orgPeriod.periods==p][['uriOrg', 'labelOrg', 'orgMainType', 'period_members_number']]\n",
    "            df_opl.columns=['uri', 'label', 'mainType', 'membersNumber']\n",
    "\n",
    "            ln = dict([(e['uri'],\n",
    "                {'label':e['label'], 'mainType':e['mainType'],\n",
    "                                    'membersNumber':e['membersNumber']}\n",
    "                ) for e in df_opl.to_dict(orient='records')])\n",
    "            ## Add attributes\n",
    "            nx.set_node_attributes(pG, ln)\n",
    "\n",
    "            mn_s = pd.Series([n[1]['mainType'] for n in pG.nodes.data()])\n",
    "            txt= str(list(mn_s.groupby(by=mn_s).size().sort_values(ascending=False).items()))\n",
    "            with open(doc_addr, \"a\") as myfile:\n",
    "                    myfile.write('\\n'+ txt  + '\\n')\n",
    "\n",
    "            ### Eigenvector\n",
    "            try:\n",
    "                le = list(nx.eigenvector_centrality(pG, \n",
    "                                        max_iter=1000, weight='weight').items())\n",
    "            except Exception as e:\n",
    "                print(e)    \n",
    "            nx.set_node_attributes(pG, dict(le), 'eigenvector')   \n",
    "\n",
    "            ### Betweenness\n",
    "            lb = list(nx.betweenness_centrality(pG, weight='weight').items())\n",
    "            nx.set_node_attributes(pG, dict(lb), 'betweenness')\n",
    "\n",
    "\n",
    "            ### Export node attributes to dataframe\n",
    "            nodes_data ={node: pG.nodes[node] for node in pG.nodes}\n",
    "            nodes_df = pd.DataFrame(nodes_data).T\n",
    "            nodes_df.reset_index(inplace=True, names='id')\n",
    "\n",
    "            corr_spear = nodes_df[['eigenvector', 'betweenness']].corr(method=\"spearman\")\n",
    "            txt = \"Spearman's rank correlation of eidenvector and betweenness: {}\".format(corr_spear.iloc[0,1])\n",
    "            with open(doc_addr, \"a\") as myfile:\n",
    "                    myfile.write('\\n'+ txt  + '\\n')\n",
    "\n",
    "            txt = 'Eigenvector\\n' + \\\n",
    "                str(nodes_df.sort_values(by='eigenvector', ascending=False)[['label', 'mainType', 'membersNumber']].head(7) )+\\\n",
    "                '\\n-----\\nBetweenness'+\\\n",
    "                str(nodes_df.sort_values(by='betweenness', ascending=False)[['label', 'mainType', 'membersNumber']].head(7))\n",
    "            with open(doc_addr, \"a\") as myfile:\n",
    "                    myfile.write('\\n'+ txt  + '\\n')\n",
    "\n",
    "\n",
    "            pict_addr = 'images/organisations/' + concatRelaType + '_' + p +'.svg'        \n",
    "\n",
    "\n",
    "            ### Plot the graph\n",
    "            g = pG\n",
    "            # n_size = np.log(np.sqrt(nx.number_of_nodes(g)))* 25 #*25\n",
    "            n_size = np.log(nx.number_of_nodes(g))*10\n",
    "\n",
    "            graph_layout = 'spring_layout'\n",
    "            n_k = np.log(nx.number_of_nodes(g))/20 #2.5\n",
    "\n",
    "            ### Define the layout, i.e. the choice \n",
    "            # of the algorithm for the representation of the graph.\n",
    "\n",
    "            if graph_layout == 'fruchterman_reingold':\n",
    "                pos = nx.fruchterman_reingold_layout(g)\n",
    "            elif graph_layout == 'kamada_kawai':\n",
    "                pos = nx.kamada_kawai_layout(g)\n",
    "            elif graph_layout == 'spring_layout':\n",
    "                pos = nx.spring_layout(g, k = n_k)  \n",
    "            else:\n",
    "                pos = nx.kamada_kawai_layout(g)\n",
    "\n",
    "            # https://networkx.org/documentation/stable/reference/drawing.html\n",
    "            plt.figure(figsize = (n_size,n_size))\n",
    "\n",
    "            node_size = [n[1]['membersNumber']*20 for n in g.nodes.data()]\n",
    "            #node_size = [d[1]*100 for d in nx.degree(g)]\n",
    "            #node_colors= [color_map[n[1]['mainType']] for n in g.nodes.data()]\n",
    "\n",
    "            edge_size = [e[2]['weight'] for e in g.edges.data()]\n",
    "            edge_labels = {e: g.get_edge_data(e[0], e[1])[\"weight\"] for e in g.edges()}\n",
    "\n",
    "            node_labels = dict([tuple(( n[0] , n[1]['label'] )) for n in g.nodes.data()])\n",
    "\n",
    "\n",
    "            nx.draw_networkx_nodes(g, pos, node_size=node_size, node_color='blue', alpha=0.6)\n",
    "            nx.draw_networkx_edges(g, pos, width=edge_size, alpha=0.02) # edgelist=ln, edge_color=c, \n",
    "            nx.draw_networkx_labels(g, pos, labels=node_labels, alpha=0.7, font_size=10)\n",
    "            #nx.draw_networkx_edge_labels(g, pos, edge_labels=edge_labels, alpha=0.7, font_size=10)\n",
    "\n",
    "            alpha_n=0.5\n",
    "\n",
    "            plt.legend(handles=[plt.Line2D([0], [0], marker='o', color='w', \n",
    "                                    label=label, markerfacecolor=color, \n",
    "                                    markersize=8, alpha=alpha_n\n",
    "                                    )\n",
    "                                    for label, color in color_map.items()],\n",
    "                                    loc='lower right', fontsize=8)\n",
    "\n",
    "\n",
    "            ### On peut augmenter ou diminuer ce paramètre pour ajuster le graphe\n",
    "            plt.tight_layout(pad=60)\n",
    "            pict_addr = pict_addr\n",
    "            plt.savefig(pict_addr)\n",
    "            #plt.show()\n",
    "            plt.close()\n",
    "\n",
    "\n",
    "            ### Identify communitites\n",
    "            l_communities = [(c, len(c)) for c in list(nx.community.louvain_communities(pG, resolution=0.7, weight='weight'))]\n",
    "            sl_communities = sorted(l_communities, key=lambda x: x[1], reverse=True)\n",
    "            txt= 'Number of communitites: ' + str(len(l_communities)) +\\\n",
    "                    '\\nNumber of nodes per community: ' + str([c[1] for c in sl_communities])\n",
    "            with open(doc_addr, \"a\") as myfile:\n",
    "                myfile.write('\\n'+ txt  + '\\n')\n",
    "\n",
    "            communities_print = 'Communities: \\n'\n",
    "            try:\n",
    "                for i in range(0,5):\n",
    "                    communities_print += '\\n\\nCommunity '+ str(i) + '\\nBetweenness'\n",
    "                    communities_print += str(nodes_df[nodes_df.id.isin(list(sl_communities[i][0])) ]\\\n",
    "                                                .sort_values(by='betweenness', ascending=False)[['label', 'mainType', 'membersNumber']].head(5).to_markdown())\n",
    "                    communities_print += '\\n-----\\nEigenvector'\n",
    "                    communities_print += str(nodes_df[nodes_df.id.isin(list(sl_communities[i][0])) ].sort_values(by='eigenvector', ascending=False)[['label', 'mainType', 'membersNumber']].head(5).to_markdown())\n",
    "                with open(doc_addr, \"a\") as myfile:\n",
    "                    myfile.write('\\n'+ communities_print  + '\\n')\n",
    "            except Exception as e:\n",
    "                 print(e)        \n",
    "\n",
    "        else:\n",
    "            print('Too small graph to be analyzed!')        \n"
   ]
  },
  {
   "cell_type": "code",
   "execution_count": null,
   "metadata": {},
   "outputs": [],
   "source": [
    "print(df_mainTypes.mainType.to_list())"
   ]
  },
  {
   "cell_type": "code",
   "execution_count": null,
   "metadata": {},
   "outputs": [],
   "source": [
    "relationship_type = 'education_education'\n",
    "generate_report_and_plots(df_graph, relationship_type,\n",
    "                           ['university','public university','private university'],\n",
    "                           'analysis_doc/'+relationship_type+'.md',\n",
    "                           df_orgPeriod)"
   ]
  },
  {
   "cell_type": "code",
   "execution_count": null,
   "metadata": {},
   "outputs": [],
   "source": [
    "relationship_type = 'membership_membership'\n",
    "generate_report_and_plots(df_graph, relationship_type,\n",
    "                           ['university',\n",
    "                            'public university',\n",
    "                            'academy of sciences',\n",
    "                            'learned society',\n",
    "                            'private university',\n",
    "                            'research organisation',\n",
    "                            'institute of technology',\n",
    "                            'scientific organisation',\n",
    "                            'astronomical observatory',\n",
    "                            'research facility',\n",
    "                            'company',\n",
    "                            'governmenmt agency',\n",
    "                            'publisher_edition'],\n",
    "                           'analysis_doc/'+ relationship_type+'.md',\n",
    "                           df_orgPeriod)"
   ]
  },
  {
   "cell_type": "code",
   "execution_count": null,
   "metadata": {},
   "outputs": [],
   "source": [
    "relationship_type = 'employment_employment'\n",
    "generate_report_and_plots(df_graph, relationship_type,\n",
    "                           ['university',\n",
    "                            'public university',\n",
    "                            'academy of sciences',\n",
    "                            'learned society',\n",
    "                            'private university',\n",
    "                            'research organisation',\n",
    "                            'institute of technology',\n",
    "                            'scientific organisation',\n",
    "                            'astronomical observatory',\n",
    "                            'research facility',\n",
    "                            'company',\n",
    "                            'governmenmt agency',\n",
    "                            'publisher_edition'],\n",
    "                           'analysis_doc/'+ relationship_type+'.md',\n",
    "                           df_orgPeriod)"
   ]
  },
  {
   "cell_type": "code",
   "execution_count": null,
   "metadata": {},
   "outputs": [],
   "source": []
  },
  {
   "cell_type": "code",
   "execution_count": null,
   "metadata": {},
   "outputs": [],
   "source": []
  }
 ],
 "metadata": {
  "kernelspec": {
   "display_name": "Python 3",
   "language": "python",
   "name": "python3"
  },
  "language_info": {
   "codemirror_mode": {
    "name": "ipython",
    "version": 3
   },
   "file_extension": ".py",
   "mimetype": "text/x-python",
   "name": "python",
   "nbconvert_exporter": "python",
   "pygments_lexer": "ipython3",
   "version": "3.13.2"
  }
 },
 "nbformat": 4,
 "nbformat_minor": 2
}
